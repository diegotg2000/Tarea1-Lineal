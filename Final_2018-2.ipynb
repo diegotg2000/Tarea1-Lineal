{
 "cells": [
  {
   "cell_type": "code",
   "execution_count": 1,
   "metadata": {},
   "outputs": [],
   "source": [
    "V=QQ^5"
   ]
  },
  {
   "cell_type": "code",
   "execution_count": 2,
   "metadata": {},
   "outputs": [
    {
     "data": {
      "text/html": [
       "<html><script type=\"math/tex; mode=display\">\\newcommand{\\Bold}[1]{\\mathbf{#1}}(t - 2)^{2} \\cdot (t + 1)^{3}</script></html>"
      ],
      "text/plain": [
       "(t - 2)^2 * (t + 1)^3"
      ]
     },
     "metadata": {},
     "output_type": "display_data"
    }
   ],
   "source": [
    "A=matrix([[-3,28,10,-2,2],[0,-1,0,0,0],[-1,14,4,-1,1],[1,-4,-2,-1,0],[-2,11,4,-3,2]])\n",
    "t=PolynomialRing(RationalField(), 't').gen()\n",
    "show(factor(A.charpoly('t')))"
   ]
  },
  {
   "cell_type": "code",
   "execution_count": 3,
   "metadata": {},
   "outputs": [],
   "source": [
    "def MCD(POLINOMIOS):\n",
    "    if(len(POLINOMIOS)==2):\n",
    "        return xgcd(POLINOMIOS[0], POLINOMIOS[1])\n",
    "    else:\n",
    "        RESP=[]\n",
    "        P1=POLINOMIOS[0]\n",
    "        RESTO = POLINOMIOS[1:]\n",
    "        d=MCD([P1, MCD(RESTO)[0]])[0]\n",
    "        Q1=MCD([P1, MCD(RESTO)[0]])[1]\n",
    "        Q=MCD([P1, MCD(RESTO)[0]])[2]\n",
    "        RESP.append(d)\n",
    "        RESP.append(Q1)\n",
    "        for i in range(2,len(POLINOMIOS)+1):\n",
    "            RESP.append(Q*MCD(RESTO)[i-1])\n",
    "        return RESP"
   ]
  },
  {
   "cell_type": "code",
   "execution_count": 4,
   "metadata": {},
   "outputs": [],
   "source": [
    "P=A.charpoly('t')\n",
    "P1=(t-2)^2\n",
    "P2=(t+1)^3\n",
    "\n",
    "R1=P/P1\n",
    "R2=P/P2\n",
    "\n",
    "Z,Q1,Q2=MCD([R1,R2])\n",
    "\n",
    "Pi1=Q1*R1\n",
    "Pi2=Q2*R2"
   ]
  },
  {
   "cell_type": "code",
   "execution_count": 10,
   "metadata": {},
   "outputs": [
    {
     "data": {
      "text/html": [
       "<html><script type=\"math/tex; mode=display\">\\newcommand{\\Bold}[1]{\\mathbf{#1}}\\left(-\\frac{1}{27}\\right) \\cdot (t - 3) \\cdot (t + 1)^{3} \\left(\\frac{1}{27}\\right) \\cdot (t - 2)^{2} \\cdot (t^{2} + 4 t + 6)</script></html>"
      ],
      "text/plain": [
       "(-1/27) * (t - 3) * (t + 1)^3 (1/27) * (t - 2)^2 * (t^2 + 4*t + 6)"
      ]
     },
     "metadata": {},
     "output_type": "display_data"
    }
   ],
   "source": [
    "show(factor(Pi1),factor(Pi2))"
   ]
  },
  {
   "cell_type": "code",
   "execution_count": 11,
   "metadata": {},
   "outputs": [],
   "source": [
    "p1=Pi1(A)\n",
    "p2=Pi2(A)"
   ]
  },
  {
   "cell_type": "code",
   "execution_count": 12,
   "metadata": {},
   "outputs": [
    {
     "data": {
      "text/html": [
       "<html><script type=\"math/tex; mode=display\">\\newcommand{\\Bold}[1]{\\mathbf{#1}}\\left(\\begin{array}{rrrrr}\n",
       "0 & 6 & 2 & 0 & 0 \\\\\n",
       "0 & 0 & 0 & 0 & 0 \\\\\n",
       "0 & 3 & 1 & 0 & 0 \\\\\n",
       "0 & 0 & 0 & 0 & 0 \\\\\n",
       "-1 & 5 & 2 & -1 & 1\n",
       "\\end{array}\\right) \\left(\\begin{array}{rrrrr}\n",
       "1 & -6 & -2 & 0 & 0 \\\\\n",
       "0 & 1 & 0 & 0 & 0 \\\\\n",
       "0 & -3 & 0 & 0 & 0 \\\\\n",
       "0 & 0 & 0 & 1 & 0 \\\\\n",
       "1 & -5 & -2 & 1 & 0\n",
       "\\end{array}\\right)</script></html>"
      ],
      "text/plain": [
       "[ 0  6  2  0  0]\n",
       "[ 0  0  0  0  0]\n",
       "[ 0  3  1  0  0]\n",
       "[ 0  0  0  0  0]\n",
       "[-1  5  2 -1  1] [ 1 -6 -2  0  0]\n",
       "[ 0  1  0  0  0]\n",
       "[ 0 -3  0  0  0]\n",
       "[ 0  0  0  1  0]\n",
       "[ 1 -5 -2  1  0]"
      ]
     },
     "metadata": {},
     "output_type": "display_data"
    }
   ],
   "source": [
    "show(p1,p2)"
   ]
  },
  {
   "cell_type": "code",
   "execution_count": 15,
   "metadata": {},
   "outputs": [
    {
     "data": {
      "text/html": [
       "<html><script type=\"math/tex; mode=display\">\\newcommand{\\Bold}[1]{\\mathbf{#1}}\\left(\\begin{array}{rrrrr}\n",
       "-3 & 28 & 10 & -2 & 2 \\\\\n",
       "0 & -1 & 0 & 0 & 0 \\\\\n",
       "-1 & 14 & 4 & -1 & 1 \\\\\n",
       "1 & -4 & -2 & -1 & 0 \\\\\n",
       "-2 & 11 & 4 & -3 & 2\n",
       "\\end{array}\\right) \\left(\\begin{array}{rrrrr}\n",
       "-2 & 10 & 4 & -2 & 2 \\\\\n",
       "0 & 0 & 0 & 0 & 0 \\\\\n",
       "-1 & 5 & 2 & -1 & 1 \\\\\n",
       "1 & -4 & -2 & 0 & 0 \\\\\n",
       "1 & -4 & -2 & 0 & 0\n",
       "\\end{array}\\right) \\left(\\begin{array}{rrrrr}\n",
       "-1 & 18 & 6 & 0 & 0 \\\\\n",
       "0 & -1 & 0 & 0 & 0 \\\\\n",
       "0 & 9 & 2 & 0 & 0 \\\\\n",
       "0 & 0 & 0 & -1 & 0 \\\\\n",
       "-3 & 15 & 6 & -3 & 2\n",
       "\\end{array}\\right)</script></html>"
      ],
      "text/plain": [
       "[-3 28 10 -2  2]\n",
       "[ 0 -1  0  0  0]\n",
       "[-1 14  4 -1  1]\n",
       "[ 1 -4 -2 -1  0]\n",
       "[-2 11  4 -3  2] [-2 10  4 -2  2]\n",
       "[ 0  0  0  0  0]\n",
       "[-1  5  2 -1  1]\n",
       "[ 1 -4 -2  0  0]\n",
       "[ 1 -4 -2  0  0] [-1 18  6  0  0]\n",
       "[ 0 -1  0  0  0]\n",
       "[ 0  9  2  0  0]\n",
       "[ 0  0  0 -1  0]\n",
       "[-3 15  6 -3  2]"
      ]
     },
     "metadata": {},
     "output_type": "display_data"
    }
   ],
   "source": [
    "PD=2*Pi1 - Pi2\n",
    "PN=t-PD\n",
    "AD=PD(A)\n",
    "AN=PN(A)\n",
    "\n",
    "show(A,AN,AD)"
   ]
  },
  {
   "cell_type": "code",
   "execution_count": 16,
   "metadata": {},
   "outputs": [],
   "source": [
    "P=t-2"
   ]
  },
  {
   "cell_type": "code",
   "execution_count": 17,
   "metadata": {},
   "outputs": [
    {
     "data": {
      "text/plain": [
       "Vector space of degree 5 and dimension 1 over Rational Field\n",
       "Basis matrix:\n",
       "[  1   0 1/2   0   0]"
      ]
     },
     "execution_count": 17,
     "metadata": {},
     "output_type": "execute_result"
    }
   ],
   "source": [
    "(P(A)).right_kernel()"
   ]
  },
  {
   "cell_type": "code",
   "execution_count": 18,
   "metadata": {},
   "outputs": [
    {
     "data": {
      "text/plain": [
       "Vector space of degree 5 and dimension 2 over Rational Field\n",
       "Basis matrix:\n",
       "[  1   0 1/2   0   0]\n",
       "[  0   0   0   0   1]"
      ]
     },
     "execution_count": 18,
     "metadata": {},
     "output_type": "execute_result"
    }
   ],
   "source": [
    "(P(A)^2).right_kernel()"
   ]
  },
  {
   "cell_type": "code",
   "execution_count": 19,
   "metadata": {},
   "outputs": [],
   "source": [
    "v5=vector([0,0,0,0,1])\n",
    "v4=P(A)*v5"
   ]
  },
  {
   "cell_type": "code",
   "execution_count": 20,
   "metadata": {},
   "outputs": [],
   "source": [
    "P=t+1"
   ]
  },
  {
   "cell_type": "code",
   "execution_count": 21,
   "metadata": {},
   "outputs": [
    {
     "data": {
      "text/plain": [
       "Vector space of degree 5 and dimension 2 over Rational Field\n",
       "Basis matrix:\n",
       "[   1 -1/2  3/2    0  1/2]\n",
       "[   0    0    0    1    1]"
      ]
     },
     "execution_count": 21,
     "metadata": {},
     "output_type": "execute_result"
    }
   ],
   "source": [
    "(P(A)).right_kernel()"
   ]
  },
  {
   "cell_type": "code",
   "execution_count": 22,
   "metadata": {},
   "outputs": [
    {
     "data": {
      "text/plain": [
       "Vector space of degree 5 and dimension 3 over Rational Field\n",
       "Basis matrix:\n",
       "[ 1  0  0  0  1]\n",
       "[ 0  1 -3  0  1]\n",
       "[ 0  0  0  1  1]"
      ]
     },
     "execution_count": 22,
     "metadata": {},
     "output_type": "execute_result"
    }
   ],
   "source": [
    "(P(A)^2).right_kernel()"
   ]
  },
  {
   "cell_type": "code",
   "execution_count": 24,
   "metadata": {},
   "outputs": [],
   "source": [
    "v2=vector([0,1,-3,0,1])\n",
    "v1=P(A)*v2"
   ]
  },
  {
   "cell_type": "code",
   "execution_count": 25,
   "metadata": {},
   "outputs": [
    {
     "data": {
      "text/html": [
       "<html><script type=\"math/tex; mode=display\">\\newcommand{\\Bold}[1]{\\mathbf{#1}}\\left(0,\\,0,\\,0,\\,2,\\,2\\right)</script></html>"
      ],
      "text/plain": [
       "(0, 0, 0, 2, 2)"
      ]
     },
     "metadata": {},
     "output_type": "display_data"
    }
   ],
   "source": [
    "show(v1)"
   ]
  },
  {
   "cell_type": "code",
   "execution_count": 26,
   "metadata": {},
   "outputs": [],
   "source": [
    "v3=vector([1,-1/2,3/2,0,1/2])"
   ]
  },
  {
   "cell_type": "code",
   "execution_count": 27,
   "metadata": {},
   "outputs": [],
   "source": [
    "C=column_matrix([v1,v2,v3,v4,v5])"
   ]
  },
  {
   "cell_type": "code",
   "execution_count": 31,
   "metadata": {},
   "outputs": [
    {
     "data": {
      "text/html": [
       "<html><script type=\"math/tex; mode=display\">\\newcommand{\\Bold}[1]{\\mathbf{#1}}\\left(\\begin{array}{rrrrr}\n",
       "-1 & 1 & 0 & 0 & 0 \\\\\n",
       "0 & -1 & 0 & 0 & 0 \\\\\n",
       "0 & 0 & -1 & 0 & 0 \\\\\n",
       "0 & 0 & 0 & 2 & 1 \\\\\n",
       "0 & 0 & 0 & 0 & 2\n",
       "\\end{array}\\right)</script></html>"
      ],
      "text/plain": [
       "[-1  1  0  0  0]\n",
       "[ 0 -1  0  0  0]\n",
       "[ 0  0 -1  0  0]\n",
       "[ 0  0  0  2  1]\n",
       "[ 0  0  0  0  2]"
      ]
     },
     "metadata": {},
     "output_type": "display_data"
    }
   ],
   "source": [
    "show((C^-1)*A*C)"
   ]
  },
  {
   "cell_type": "code",
   "execution_count": 32,
   "metadata": {},
   "outputs": [
    {
     "data": {
      "text/html": [
       "<html><script type=\"math/tex; mode=display\">\\newcommand{\\Bold}[1]{\\mathbf{#1}}\\left(\\begin{array}{rrrrr}\n",
       "-1 & 0 & 0 & 0 & 0 \\\\\n",
       "0 & -1 & 0 & 0 & 0 \\\\\n",
       "0 & 0 & -1 & 0 & 0 \\\\\n",
       "0 & 0 & 0 & 2 & 0 \\\\\n",
       "0 & 0 & 0 & 0 & 2\n",
       "\\end{array}\\right)</script></html>"
      ],
      "text/plain": [
       "[-1  0  0  0  0]\n",
       "[ 0 -1  0  0  0]\n",
       "[ 0  0 -1  0  0]\n",
       "[ 0  0  0  2  0]\n",
       "[ 0  0  0  0  2]"
      ]
     },
     "metadata": {},
     "output_type": "display_data"
    }
   ],
   "source": [
    "show((C^-1)*AD*C)"
   ]
  },
  {
   "cell_type": "code",
   "execution_count": 33,
   "metadata": {},
   "outputs": [
    {
     "data": {
      "text/html": [
       "<html><script type=\"math/tex; mode=display\">\\newcommand{\\Bold}[1]{\\mathbf{#1}}\\left(\\begin{array}{rrrrr}\n",
       "0 & 1 & 0 & 0 & 0 \\\\\n",
       "0 & 0 & 0 & 0 & 0 \\\\\n",
       "0 & 0 & 0 & 0 & 0 \\\\\n",
       "0 & 0 & 0 & 0 & 1 \\\\\n",
       "0 & 0 & 0 & 0 & 0\n",
       "\\end{array}\\right)</script></html>"
      ],
      "text/plain": [
       "[0 1 0 0 0]\n",
       "[0 0 0 0 0]\n",
       "[0 0 0 0 0]\n",
       "[0 0 0 0 1]\n",
       "[0 0 0 0 0]"
      ]
     },
     "metadata": {},
     "output_type": "display_data"
    }
   ],
   "source": [
    "show((C^-1)*AN*C)"
   ]
  },
  {
   "cell_type": "code",
   "execution_count": 34,
   "metadata": {},
   "outputs": [],
   "source": [
    "V=QQ^4\n",
    "K.<i>=QQ.extension(t^2+1)"
   ]
  },
  {
   "cell_type": "code",
   "execution_count": 35,
   "metadata": {},
   "outputs": [
    {
     "data": {
      "text/html": [
       "<html><script type=\"math/tex; mode=display\">\\newcommand{\\Bold}[1]{\\mathbf{#1}}\\left(\\begin{array}{rrrr}\n",
       "0 & 0 & 3 i & 3 i \\\\\n",
       "0 & 9 & 0 & 0 \\\\\n",
       "-3 i & 0 & 0 & -3 \\\\\n",
       "-3 i & 0 & -3 & 0\n",
       "\\end{array}\\right)</script></html>"
      ],
      "text/plain": [
       "[   0    0  3*i  3*i]\n",
       "[   0    9    0    0]\n",
       "[-3*i    0    0   -3]\n",
       "[-3*i    0   -3    0]"
      ]
     },
     "metadata": {},
     "output_type": "display_data"
    }
   ],
   "source": [
    "A=matrix([[0,0,3*i,3*i],[0,9,0,0],[-3*i,0,0,-3],[-3*i,0,-3,0]])\n",
    "show(A)"
   ]
  },
  {
   "cell_type": "code",
   "execution_count": 36,
   "metadata": {},
   "outputs": [
    {
     "data": {
      "text/html": [
       "<html><script type=\"math/tex; mode=display\">\\newcommand{\\Bold}[1]{\\mathbf{#1}}(t - 9) \\cdot (t + 6) \\cdot (t - 3)^{2}</script></html>"
      ],
      "text/plain": [
       "(t - 9) * (t + 6) * (t - 3)^2"
      ]
     },
     "metadata": {},
     "output_type": "display_data"
    }
   ],
   "source": [
    "show(factor(A.charpoly('t')))"
   ]
  },
  {
   "cell_type": "code",
   "execution_count": 37,
   "metadata": {},
   "outputs": [
    {
     "data": {
      "text/plain": [
       "Vector space of degree 4 and dimension 1 over Number Field in i with defining polynomial t^2 + 1\n",
       "Basis matrix:\n",
       "[0 1 0 0]"
      ]
     },
     "execution_count": 37,
     "metadata": {},
     "output_type": "execute_result"
    }
   ],
   "source": [
    "(A-9).right_kernel()"
   ]
  },
  {
   "cell_type": "code",
   "execution_count": 39,
   "metadata": {},
   "outputs": [
    {
     "data": {
      "text/plain": [
       "Vector space of degree 4 and dimension 1 over Number Field in i with defining polynomial t^2 + 1\n",
       "Basis matrix:\n",
       "[1 0 i i]"
      ]
     },
     "execution_count": 39,
     "metadata": {},
     "output_type": "execute_result"
    }
   ],
   "source": [
    "(A+6).right_kernel()"
   ]
  },
  {
   "cell_type": "code",
   "execution_count": 40,
   "metadata": {},
   "outputs": [
    {
     "data": {
      "text/plain": [
       "Vector space of degree 4 and dimension 2 over Number Field in i with defining polynomial t^2 + 1\n",
       "Basis matrix:\n",
       "[ 1  0  0 -i]\n",
       "[ 0  0  1 -1]"
      ]
     },
     "execution_count": 40,
     "metadata": {},
     "output_type": "execute_result"
    }
   ],
   "source": [
    "(A-3).right_kernel()"
   ]
  },
  {
   "cell_type": "code",
   "execution_count": 42,
   "metadata": {},
   "outputs": [
    {
     "data": {
      "text/plain": [
       "[    1     0     0    -i]\n",
       "[1/2*i     0     1  -1/2]"
      ]
     },
     "execution_count": 42,
     "metadata": {},
     "output_type": "execute_result"
    }
   ],
   "source": [
    "B=matrix([[1,0,0,-i],[0,0,1,-1]])\n",
    "G,M=B.gram_schmidt()\n",
    "G"
   ]
  },
  {
   "cell_type": "code",
   "execution_count": 43,
   "metadata": {},
   "outputs": [
    {
     "data": {
      "text/plain": [
       "[  1   0   0   0]\n",
       "[  0   3   0   0]\n",
       "[  0   0   2   0]\n",
       "[  0   0   0 3/2]"
      ]
     },
     "execution_count": 43,
     "metadata": {},
     "output_type": "execute_result"
    }
   ],
   "source": [
    "C=column_matrix([[0,1,0,0],[1,0,i,i],[1,0,0,-i],[1/2*i,0,1,-1/2]])\n",
    "C.H*C"
   ]
  },
  {
   "cell_type": "code",
   "execution_count": 45,
   "metadata": {},
   "outputs": [
    {
     "data": {
      "text/html": [
       "<html><script type=\"math/tex; mode=display\">\\newcommand{\\Bold}[1]{\\mathbf{#1}}\\left(\\begin{array}{rrrr}\n",
       "0 & 0 & 0 & 0 \\\\\n",
       "0 & 1 & 0 & 0 \\\\\n",
       "0 & 0 & 0 & 0 \\\\\n",
       "0 & 0 & 0 & 0\n",
       "\\end{array}\\right) \\left(\\begin{array}{rrrr}\n",
       "\\frac{1}{3} & 0 & -\\frac{1}{3} i & -\\frac{1}{3} i \\\\\n",
       "0 & 0 & 0 & 0 \\\\\n",
       "\\frac{1}{3} i & 0 & \\frac{1}{3} & \\frac{1}{3} \\\\\n",
       "\\frac{1}{3} i & 0 & \\frac{1}{3} & \\frac{1}{3}\n",
       "\\end{array}\\right) \\left(\\begin{array}{rrrr}\n",
       "\\frac{2}{3} & 0 & \\frac{1}{3} i & \\frac{1}{3} i \\\\\n",
       "0 & 0 & 0 & 0 \\\\\n",
       "-\\frac{1}{3} i & 0 & \\frac{2}{3} & -\\frac{1}{3} \\\\\n",
       "-\\frac{1}{3} i & 0 & -\\frac{1}{3} & \\frac{2}{3}\n",
       "\\end{array}\\right)</script></html>"
      ],
      "text/plain": [
       "[0 0 0 0]\n",
       "[0 1 0 0]\n",
       "[0 0 0 0]\n",
       "[0 0 0 0] [   1/3      0 -1/3*i -1/3*i]\n",
       "[     0      0      0      0]\n",
       "[ 1/3*i      0    1/3    1/3]\n",
       "[ 1/3*i      0    1/3    1/3] [   2/3      0  1/3*i  1/3*i]\n",
       "[     0      0      0      0]\n",
       "[-1/3*i      0    2/3   -1/3]\n",
       "[-1/3*i      0   -1/3    2/3]"
      ]
     },
     "metadata": {},
     "output_type": "display_data"
    }
   ],
   "source": [
    "A1=column_matrix([[0,1,0,0]])\n",
    "A2=column_matrix([[1,0,i,i]])\n",
    "A3=column_matrix([[1,0,0,-i],[1/2*i,0,1,-1/2]])\n",
    "\n",
    "P1=A1*((A1.H*A1)^-1)*A1.H\n",
    "P2=A2*((A2.H*A2)^-1)*A2.H\n",
    "P3=A3*((A3.H*A3)^-1)*A3.H\n",
    "\n",
    "show(P1,P2,P3)"
   ]
  },
  {
   "cell_type": "code",
   "execution_count": 46,
   "metadata": {},
   "outputs": [
    {
     "data": {
      "text/html": [
       "<html><script type=\"math/tex; mode=display\">\\newcommand{\\Bold}[1]{\\mathbf{#1}}\\left(\\begin{array}{rrrr}\n",
       "0 & 0 & 3 i & 3 i \\\\\n",
       "0 & 9 & 0 & 0 \\\\\n",
       "-3 i & 0 & 0 & -3 \\\\\n",
       "-3 i & 0 & -3 & 0\n",
       "\\end{array}\\right) \\left(\\begin{array}{rrrr}\n",
       "0 & 0 & 3 i & 3 i \\\\\n",
       "0 & 9 & 0 & 0 \\\\\n",
       "-3 i & 0 & 0 & -3 \\\\\n",
       "-3 i & 0 & -3 & 0\n",
       "\\end{array}\\right)</script></html>"
      ],
      "text/plain": [
       "[   0    0  3*i  3*i]\n",
       "[   0    9    0    0]\n",
       "[-3*i    0    0   -3]\n",
       "[-3*i    0   -3    0] [   0    0  3*i  3*i]\n",
       "[   0    9    0    0]\n",
       "[-3*i    0    0   -3]\n",
       "[-3*i    0   -3    0]"
      ]
     },
     "metadata": {},
     "output_type": "display_data"
    }
   ],
   "source": [
    "show(A, 9*P1-6*P2+3*P3)"
   ]
  },
  {
   "cell_type": "code",
   "execution_count": 48,
   "metadata": {},
   "outputs": [
    {
     "data": {
      "text/html": [
       "<html><script type=\"math/tex; mode=display\">\\newcommand{\\Bold}[1]{\\mathbf{#1}}\\left(\\begin{array}{rrrr}\n",
       "9 & 0 & 0 & 0 \\\\\n",
       "0 & -6 & 0 & 0 \\\\\n",
       "0 & 0 & 3 & 0 \\\\\n",
       "0 & 0 & 0 & 3\n",
       "\\end{array}\\right)</script></html>"
      ],
      "text/plain": [
       "[ 9  0  0  0]\n",
       "[ 0 -6  0  0]\n",
       "[ 0  0  3  0]\n",
       "[ 0  0  0  3]"
      ]
     },
     "metadata": {},
     "output_type": "display_data"
    }
   ],
   "source": [
    "show((C^-1)*A*C)"
   ]
  },
  {
   "cell_type": "code",
   "execution_count": 68,
   "metadata": {},
   "outputs": [],
   "source": [
    "V=QQ^3"
   ]
  },
  {
   "cell_type": "code",
   "execution_count": 69,
   "metadata": {},
   "outputs": [
    {
     "data": {
      "text/html": [
       "<html><script type=\"math/tex; mode=display\">\\newcommand{\\Bold}[1]{\\mathbf{#1}}\\left(\\begin{array}{rrr}\n",
       "-3 & 0 & -1 \\\\\n",
       "0 & 2 & 0 \\\\\n",
       "-1 & 0 & -3\n",
       "\\end{array}\\right)</script></html>"
      ],
      "text/plain": [
       "[-3  0 -1]\n",
       "[ 0  2  0]\n",
       "[-1  0 -3]"
      ]
     },
     "metadata": {},
     "output_type": "display_data"
    }
   ],
   "source": [
    "A=matrix([[-3,0,-1],[0,2,0],[-1,0,-3]])\n",
    "show(A)"
   ]
  },
  {
   "cell_type": "code",
   "execution_count": 70,
   "metadata": {},
   "outputs": [
    {
     "data": {
      "text/html": [
       "<html><script type=\"math/tex; mode=display\">\\newcommand{\\Bold}[1]{\\mathbf{#1}}(t - 2) \\cdot (t + 2) \\cdot (t + 4)</script></html>"
      ],
      "text/plain": [
       "(t - 2) * (t + 2) * (t + 4)"
      ]
     },
     "metadata": {},
     "output_type": "display_data"
    }
   ],
   "source": [
    "show(factor(A.charpoly('t')))"
   ]
  },
  {
   "cell_type": "code",
   "execution_count": 71,
   "metadata": {},
   "outputs": [
    {
     "data": {
      "text/plain": [
       "Free module of degree 3 and rank 1 over Integer Ring\n",
       "Echelon basis matrix:\n",
       "[0 1 0]"
      ]
     },
     "execution_count": 71,
     "metadata": {},
     "output_type": "execute_result"
    }
   ],
   "source": [
    "(A-2).right_kernel()"
   ]
  },
  {
   "cell_type": "code",
   "execution_count": 72,
   "metadata": {},
   "outputs": [
    {
     "data": {
      "text/plain": [
       "Free module of degree 3 and rank 1 over Integer Ring\n",
       "Echelon basis matrix:\n",
       "[ 1  0 -1]"
      ]
     },
     "execution_count": 72,
     "metadata": {},
     "output_type": "execute_result"
    }
   ],
   "source": [
    "(A+2).right_kernel()"
   ]
  },
  {
   "cell_type": "code",
   "execution_count": 73,
   "metadata": {},
   "outputs": [
    {
     "data": {
      "text/plain": [
       "Free module of degree 3 and rank 1 over Integer Ring\n",
       "Echelon basis matrix:\n",
       "[1 0 1]"
      ]
     },
     "execution_count": 73,
     "metadata": {},
     "output_type": "execute_result"
    }
   ],
   "source": [
    "(A+4).right_kernel()"
   ]
  },
  {
   "cell_type": "code",
   "execution_count": 74,
   "metadata": {},
   "outputs": [
    {
     "data": {
      "text/plain": [
       "[ 2  0  0]\n",
       "[ 0 -4  0]\n",
       "[ 0  0 -8]"
      ]
     },
     "execution_count": 74,
     "metadata": {},
     "output_type": "execute_result"
    }
   ],
   "source": [
    "B=matrix([[0,1,0],[1,0,-1],[1,0,1]])\n",
    "B*A*B.transpose()"
   ]
  },
  {
   "cell_type": "code",
   "execution_count": 75,
   "metadata": {},
   "outputs": [
    {
     "data": {
      "text/html": [
       "<html><script type=\"math/tex; mode=display\">\\newcommand{\\Bold}[1]{\\mathbf{#1}}\\left(\\begin{array}{rrr}\n",
       "1 & 0 & 0 \\\\\n",
       "0 & -1 & 0 \\\\\n",
       "0 & 0 & -1\n",
       "\\end{array}\\right)</script></html>"
      ],
      "text/plain": [
       "[ 1  0  0]\n",
       "[ 0 -1  0]\n",
       "[ 0  0 -1]"
      ]
     },
     "metadata": {},
     "output_type": "display_data"
    }
   ],
   "source": [
    "B=matrix([[0,1/sqrt(2),0],[1/2,0,-1/2],[1/(2*sqrt(2)),0,1/(2*sqrt(2))]])\n",
    "show(B*A*B.transpose())"
   ]
  },
  {
   "cell_type": "code",
   "execution_count": null,
   "metadata": {},
   "outputs": [],
   "source": []
  },
  {
   "cell_type": "code",
   "execution_count": null,
   "metadata": {},
   "outputs": [],
   "source": []
  }
 ],
 "metadata": {
  "kernelspec": {
   "display_name": "SageMath 8.8",
   "language": "sage",
   "name": "sagemath"
  },
  "language_info": {
   "codemirror_mode": {
    "name": "ipython",
    "version": 2
   },
   "file_extension": ".py",
   "mimetype": "text/x-python",
   "name": "python",
   "nbconvert_exporter": "python",
   "pygments_lexer": "ipython2",
   "version": "2.7.15"
  }
 },
 "nbformat": 4,
 "nbformat_minor": 2
}
