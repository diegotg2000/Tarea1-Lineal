{
 "cells": [
  {
   "cell_type": "code",
   "execution_count": 93,
   "metadata": {},
   "outputs": [],
   "source": [
    "V=QQ^4"
   ]
  },
  {
   "cell_type": "code",
   "execution_count": 94,
   "metadata": {},
   "outputs": [
    {
     "data": {
      "text/plain": [
       "[ 3/4 -1/4 -1/4  1/4]\n",
       "[-1/4  3/4 -1/4  1/4]\n",
       "[-1/4 -1/4  3/4  1/4]\n",
       "[ 1/4  1/4  1/4  3/4]"
      ]
     },
     "execution_count": 94,
     "metadata": {},
     "output_type": "execute_result"
    }
   ],
   "source": [
    "A=matrix([[3,-1,-1,1],[-1,3,-1,1],[-1,-1,3,1],[1,1,1,3]])/4\n",
    "A"
   ]
  },
  {
   "cell_type": "code",
   "execution_count": 95,
   "metadata": {},
   "outputs": [
    {
     "data": {
      "text/plain": [
       "t * (t - 1)^3"
      ]
     },
     "execution_count": 95,
     "metadata": {},
     "output_type": "execute_result"
    }
   ],
   "source": [
    "t=PolynomialRing(RationalField(), 't').gen()\n",
    "P=A.charpoly('t')\n",
    "factor(P)"
   ]
  },
  {
   "cell_type": "code",
   "execution_count": 96,
   "metadata": {},
   "outputs": [
    {
     "data": {
      "text/plain": [
       "Vector space of degree 4 and dimension 1 over Rational Field\n",
       "Basis matrix:\n",
       "[ 1  1  1 -1]"
      ]
     },
     "execution_count": 96,
     "metadata": {},
     "output_type": "execute_result"
    }
   ],
   "source": [
    "A.right_kernel()"
   ]
  },
  {
   "cell_type": "code",
   "execution_count": 97,
   "metadata": {},
   "outputs": [
    {
     "data": {
      "text/plain": [
       "Vector space of degree 4 and dimension 3 over Rational Field\n",
       "Basis matrix:\n",
       "[1 0 0 1]\n",
       "[0 1 0 1]\n",
       "[0 0 1 1]"
      ]
     },
     "execution_count": 97,
     "metadata": {},
     "output_type": "execute_result"
    }
   ],
   "source": [
    "((A-1)).right_kernel()"
   ]
  },
  {
   "cell_type": "code",
   "execution_count": 98,
   "metadata": {},
   "outputs": [],
   "source": [
    "B=matrix([[1,1,1,-1],[1,0,0,1],[0,1,0,1],[0,0,1,1]])\n",
    "\n",
    "G,M=B.gram_schmidt()"
   ]
  },
  {
   "cell_type": "code",
   "execution_count": 99,
   "metadata": {},
   "outputs": [
    {
     "data": {
      "text/plain": [
       "[   1    1    1   -1]\n",
       "[   1    0    0    1]\n",
       "[-1/2    1    0  1/2]\n",
       "[-1/3 -1/3    1  1/3]"
      ]
     },
     "execution_count": 99,
     "metadata": {},
     "output_type": "execute_result"
    }
   ],
   "source": [
    "G"
   ]
  },
  {
   "cell_type": "code",
   "execution_count": 100,
   "metadata": {},
   "outputs": [
    {
     "data": {
      "text/plain": [
       "[0 0 0 0]\n",
       "[0 0 0 0]\n",
       "[0 0 0 0]\n",
       "[0 0 0 0]"
      ]
     },
     "execution_count": 100,
     "metadata": {},
     "output_type": "execute_result"
    }
   ],
   "source": [
    "C=column_matrix([[1,0,0,1],[0,1,0,1],[0,0,1,1]])\n",
    "\n",
    "C*(C.transpose()*C)^(-1)*C.transpose()-A"
   ]
  },
  {
   "cell_type": "code",
   "execution_count": 101,
   "metadata": {},
   "outputs": [],
   "source": [
    "v0=G[0]\n",
    "v1=G[1]\n",
    "v2=G[2]\n",
    "v3=G[3]"
   ]
  },
  {
   "cell_type": "code",
   "execution_count": 102,
   "metadata": {},
   "outputs": [],
   "source": [
    "u0=v0/sqrt(v0.dot_product(v0))\n",
    "u1=v1/sqrt(v1.dot_product(v1))\n",
    "u2=v2/sqrt(v2.dot_product(v2))\n",
    "u3=v3/sqrt(v3.dot_product(v3))"
   ]
  },
  {
   "cell_type": "code",
   "execution_count": 103,
   "metadata": {},
   "outputs": [
    {
     "name": "stdout",
     "output_type": "stream",
     "text": [
      "((1/2, 1/2, 1/2, -1/2), (1/2*sqrt(2), 0, 0, 1/2*sqrt(2)), (-1/3*sqrt(3/2), 2/3*sqrt(3/2), 0, 1/3*sqrt(3/2)), (-1/2*sqrt(1/3), -1/2*sqrt(1/3), 3/2*sqrt(1/3), 1/2*sqrt(1/3)))\n"
     ]
    }
   ],
   "source": [
    "print(u0,u1,u2,u3)"
   ]
  },
  {
   "cell_type": "code",
   "execution_count": 104,
   "metadata": {},
   "outputs": [
    {
     "data": {
      "text/plain": [
       "[1 0 0 0]\n",
       "[0 1 0 0]\n",
       "[0 0 1 0]\n",
       "[0 0 0 1]"
      ]
     },
     "execution_count": 104,
     "metadata": {},
     "output_type": "execute_result"
    }
   ],
   "source": [
    "D=matrix([u0,u1,u2,u3])\n",
    "\n",
    "D*D.transpose()"
   ]
  },
  {
   "cell_type": "code",
   "execution_count": 106,
   "metadata": {},
   "outputs": [
    {
     "data": {
      "text/plain": [
       "[   1/2*sqrt(2) -1/3*sqrt(3/2) -1/2*sqrt(1/3)]\n",
       "[             0  2/3*sqrt(3/2) -1/2*sqrt(1/3)]\n",
       "[             0              0  3/2*sqrt(1/3)]\n",
       "[   1/2*sqrt(2)  1/3*sqrt(3/2)  1/2*sqrt(1/3)]"
      ]
     },
     "execution_count": 106,
     "metadata": {},
     "output_type": "execute_result"
    }
   ],
   "source": [
    "C=column_matrix([u1,u2,u3])\n",
    "\n",
    "C*(C.transpose()*C)^(-1)*C.transpose()-A\n",
    "\n",
    "C"
   ]
  },
  {
   "cell_type": "code",
   "execution_count": 107,
   "metadata": {},
   "outputs": [],
   "source": [
    "V=QQ^3"
   ]
  },
  {
   "cell_type": "code",
   "execution_count": 108,
   "metadata": {},
   "outputs": [
    {
     "data": {
      "text/plain": [
       "[-1 -1 -1]\n",
       "[-1 -1  1]\n",
       "[-1  1 -1]"
      ]
     },
     "execution_count": 108,
     "metadata": {},
     "output_type": "execute_result"
    }
   ],
   "source": [
    "A=matrix([[-1,-1,-1],[-1,-1,1],[-1,1,-1]])\n",
    "A"
   ]
  },
  {
   "cell_type": "code",
   "execution_count": 120,
   "metadata": {},
   "outputs": [
    {
     "data": {
      "text/plain": [
       "[(1, [\n",
       "  (1, -1, -1)\n",
       "  ], 1), (-2, [\n",
       "  (1, 0, 1),\n",
       "  (0, 1, -1)\n",
       "  ], 2)]"
      ]
     },
     "execution_count": 120,
     "metadata": {},
     "output_type": "execute_result"
    }
   ],
   "source": [
    "A.eigenvectors_right()"
   ]
  },
  {
   "cell_type": "code",
   "execution_count": 110,
   "metadata": {},
   "outputs": [
    {
     "data": {
      "text/plain": [
       "(0, 0, 0)"
      ]
     },
     "execution_count": 110,
     "metadata": {},
     "output_type": "execute_result"
    }
   ],
   "source": [
    "A*vector([0,1,-1])+2*vector([0,1,-1])"
   ]
  },
  {
   "cell_type": "code",
   "execution_count": 111,
   "metadata": {},
   "outputs": [
    {
     "data": {
      "text/plain": [
       "[   1   -1   -1]\n",
       "[   1    0    1]\n",
       "[ 1/2    1 -1/2]"
      ]
     },
     "execution_count": 111,
     "metadata": {},
     "output_type": "execute_result"
    }
   ],
   "source": [
    "B=matrix([[1,-1,-1],[1,0,1],[0,1,-1]])\n",
    "\n",
    "G,M=B.gram_schmidt()\n",
    "\n",
    "G"
   ]
  },
  {
   "cell_type": "code",
   "execution_count": 112,
   "metadata": {},
   "outputs": [],
   "source": [
    "v0,v1,v2=vector([1,-1,-1]),vector([1,0,1]),vector([1/2,1,-1/2])\n",
    "u0=v0/sqrt(v0.dot_product(v0))\n",
    "u1=v1/sqrt(v1.dot_product(v1))\n",
    "u2=v2/sqrt(v2.dot_product(v2))"
   ]
  },
  {
   "cell_type": "code",
   "execution_count": 113,
   "metadata": {},
   "outputs": [
    {
     "data": {
      "text/plain": [
       "[ 1  0  0]\n",
       "[ 0 -2  0]\n",
       "[ 0  0 -2]"
      ]
     },
     "execution_count": 113,
     "metadata": {},
     "output_type": "execute_result"
    }
   ],
   "source": [
    "C=column_matrix([u0,u1,u2])\n",
    "(C^-1)*A*C"
   ]
  },
  {
   "cell_type": "code",
   "execution_count": 114,
   "metadata": {},
   "outputs": [
    {
     "data": {
      "text/plain": [
       "[1 0 0]\n",
       "[0 1 0]\n",
       "[0 0 1]"
      ]
     },
     "execution_count": 114,
     "metadata": {},
     "output_type": "execute_result"
    }
   ],
   "source": [
    "C.transpose()*C"
   ]
  },
  {
   "cell_type": "code",
   "execution_count": 115,
   "metadata": {},
   "outputs": [
    {
     "data": {
      "text/plain": [
       "[   1/3*sqrt(3)    1/2*sqrt(2)  1/3*sqrt(3/2)]\n",
       "[  -1/3*sqrt(3)              0  2/3*sqrt(3/2)]\n",
       "[  -1/3*sqrt(3)    1/2*sqrt(2) -1/3*sqrt(3/2)]"
      ]
     },
     "execution_count": 115,
     "metadata": {},
     "output_type": "execute_result"
    }
   ],
   "source": [
    "C"
   ]
  },
  {
   "cell_type": "code",
   "execution_count": 117,
   "metadata": {},
   "outputs": [
    {
     "data": {
      "text/plain": [
       "Free module of degree 3 and rank 1 over Integer Ring\n",
       "Echelon basis matrix:\n",
       "[ 1 -1 -1]"
      ]
     },
     "execution_count": 117,
     "metadata": {},
     "output_type": "execute_result"
    }
   ],
   "source": [
    "(A-1).right_kernel()"
   ]
  },
  {
   "cell_type": "code",
   "execution_count": 118,
   "metadata": {},
   "outputs": [
    {
     "data": {
      "text/plain": [
       "Free module of degree 3 and rank 2 over Integer Ring\n",
       "Echelon basis matrix:\n",
       "[ 1  0  1]\n",
       "[ 0  1 -1]"
      ]
     },
     "execution_count": 118,
     "metadata": {},
     "output_type": "execute_result"
    }
   ],
   "source": [
    "(A+2).right_kernel()"
   ]
  },
  {
   "cell_type": "code",
   "execution_count": null,
   "metadata": {},
   "outputs": [],
   "source": []
  }
 ],
 "metadata": {
  "kernelspec": {
   "display_name": "SageMath 8.8",
   "language": "sage",
   "name": "sagemath"
  },
  "language_info": {
   "codemirror_mode": {
    "name": "ipython",
    "version": 2
   },
   "file_extension": ".py",
   "mimetype": "text/x-python",
   "name": "python",
   "nbconvert_exporter": "python",
   "pygments_lexer": "ipython2",
   "version": "2.7.15"
  }
 },
 "nbformat": 4,
 "nbformat_minor": 2
}
