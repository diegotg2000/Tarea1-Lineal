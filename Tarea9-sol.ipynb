{
 "cells": [
  {
   "cell_type": "code",
   "execution_count": 72,
   "metadata": {},
   "outputs": [],
   "source": [
    "V=QQ^4"
   ]
  },
  {
   "cell_type": "code",
   "execution_count": 73,
   "metadata": {},
   "outputs": [
    {
     "data": {
      "text/plain": [
       "[ 3/4 -1/4 -1/4  1/4]\n",
       "[-1/4  3/4 -1/4  1/4]\n",
       "[-1/4 -1/4  3/4  1/4]\n",
       "[ 1/4  1/4  1/4  3/4]"
      ]
     },
     "execution_count": 73,
     "metadata": {},
     "output_type": "execute_result"
    }
   ],
   "source": [
    "A=matrix([[3,-1,-1,1],[-1,3,-1,1],[-1,-1,3,1],[1,1,1,3]])/4\n",
    "A"
   ]
  },
  {
   "cell_type": "code",
   "execution_count": 74,
   "metadata": {},
   "outputs": [
    {
     "data": {
      "text/plain": [
       "t * (t - 1)^3"
      ]
     },
     "execution_count": 74,
     "metadata": {},
     "output_type": "execute_result"
    }
   ],
   "source": [
    "t=PolynomialRing(RationalField(), 't').gen()\n",
    "P=A.charpoly('t')\n",
    "factor(P)"
   ]
  },
  {
   "cell_type": "code",
   "execution_count": 75,
   "metadata": {},
   "outputs": [
    {
     "data": {
      "text/plain": [
       "Vector space of degree 4 and dimension 1 over Rational Field\n",
       "Basis matrix:\n",
       "[ 1  1  1 -1]"
      ]
     },
     "execution_count": 75,
     "metadata": {},
     "output_type": "execute_result"
    }
   ],
   "source": [
    "A.right_kernel()"
   ]
  },
  {
   "cell_type": "code",
   "execution_count": 76,
   "metadata": {},
   "outputs": [
    {
     "data": {
      "text/plain": [
       "Vector space of degree 4 and dimension 3 over Rational Field\n",
       "Basis matrix:\n",
       "[1 0 0 1]\n",
       "[0 1 0 1]\n",
       "[0 0 1 1]"
      ]
     },
     "execution_count": 76,
     "metadata": {},
     "output_type": "execute_result"
    }
   ],
   "source": [
    "((A-1)).right_kernel()"
   ]
  },
  {
   "cell_type": "code",
   "execution_count": 77,
   "metadata": {},
   "outputs": [],
   "source": [
    "B=matrix([[1,1,1,-1],[1,0,0,1],[0,1,0,1],[0,0,1,1]])\n",
    "\n",
    "G,M=B.gram_schmidt()"
   ]
  },
  {
   "cell_type": "code",
   "execution_count": 78,
   "metadata": {},
   "outputs": [
    {
     "data": {
      "text/plain": [
       "[   1    1    1   -1]\n",
       "[   1    0    0    1]\n",
       "[-1/2    1    0  1/2]\n",
       "[-1/3 -1/3    1  1/3]"
      ]
     },
     "execution_count": 78,
     "metadata": {},
     "output_type": "execute_result"
    }
   ],
   "source": [
    "G"
   ]
  },
  {
   "cell_type": "code",
   "execution_count": 79,
   "metadata": {},
   "outputs": [
    {
     "data": {
      "text/plain": [
       "[0 0 0 0]\n",
       "[0 0 0 0]\n",
       "[0 0 0 0]\n",
       "[0 0 0 0]"
      ]
     },
     "execution_count": 79,
     "metadata": {},
     "output_type": "execute_result"
    }
   ],
   "source": [
    "C=column_matrix([[1,0,0,1],[0,1,0,1],[0,0,1,1]])\n",
    "\n",
    "C*(C.transpose()*C)^(-1)*C.transpose()-A"
   ]
  },
  {
   "cell_type": "code",
   "execution_count": 80,
   "metadata": {},
   "outputs": [],
   "source": [
    "v0=G[0]\n",
    "v1=G[1]\n",
    "v2=G[2]\n",
    "v3=G[3]"
   ]
  },
  {
   "cell_type": "code",
   "execution_count": 81,
   "metadata": {},
   "outputs": [],
   "source": [
    "u0=v0/sqrt(v0.dot_product(v0))\n",
    "u1=v1/sqrt(v1.dot_product(v1))\n",
    "u2=v2/sqrt(v2.dot_product(v2))\n",
    "u3=v3/sqrt(v3.dot_product(v3))"
   ]
  },
  {
   "cell_type": "code",
   "execution_count": 82,
   "metadata": {},
   "outputs": [
    {
     "name": "stdout",
     "output_type": "stream",
     "text": [
      "((1/2, 1/2, 1/2, -1/2), (1/2*sqrt(2), 0, 0, 1/2*sqrt(2)), (-1/3*sqrt(3/2), 2/3*sqrt(3/2), 0, 1/3*sqrt(3/2)), (-1/2*sqrt(1/3), -1/2*sqrt(1/3), 3/2*sqrt(1/3), 1/2*sqrt(1/3)))\n"
     ]
    }
   ],
   "source": [
    "print(u0,u1,u2,u3)"
   ]
  },
  {
   "cell_type": "code",
   "execution_count": 83,
   "metadata": {},
   "outputs": [
    {
     "data": {
      "text/plain": [
       "[1 0 0 0]\n",
       "[0 1 0 0]\n",
       "[0 0 1 0]\n",
       "[0 0 0 1]"
      ]
     },
     "execution_count": 83,
     "metadata": {},
     "output_type": "execute_result"
    }
   ],
   "source": [
    "D=matrix([u0,u1,u2,u3])\n",
    "\n",
    "D*D.transpose()"
   ]
  },
  {
   "cell_type": "code",
   "execution_count": 84,
   "metadata": {},
   "outputs": [],
   "source": [
    "V=QQ^3"
   ]
  },
  {
   "cell_type": "code",
   "execution_count": 85,
   "metadata": {},
   "outputs": [
    {
     "data": {
      "text/plain": [
       "[-1 -1 -1]\n",
       "[-1 -1  1]\n",
       "[-1  1 -1]"
      ]
     },
     "execution_count": 85,
     "metadata": {},
     "output_type": "execute_result"
    }
   ],
   "source": [
    "A=matrix([[-1,-1,-1],[-1,-1,1],[-1,1,-1]])\n",
    "A"
   ]
  },
  {
   "cell_type": "code",
   "execution_count": 86,
   "metadata": {},
   "outputs": [
    {
     "data": {
      "text/plain": [
       "[(1, [\n",
       "  (1, -1, -1)\n",
       "  ], 1), (-2, [\n",
       "  (1, 0, 1),\n",
       "  (0, 1, -1)\n",
       "  ], 2)]"
      ]
     },
     "execution_count": 86,
     "metadata": {},
     "output_type": "execute_result"
    }
   ],
   "source": [
    "A.eigenvectors_right()"
   ]
  },
  {
   "cell_type": "code",
   "execution_count": 87,
   "metadata": {},
   "outputs": [
    {
     "data": {
      "text/plain": [
       "(0, 0, 0)"
      ]
     },
     "execution_count": 87,
     "metadata": {},
     "output_type": "execute_result"
    }
   ],
   "source": [
    "A*vector([0,1,-1])+2*vector([0,1,-1])"
   ]
  },
  {
   "cell_type": "code",
   "execution_count": 88,
   "metadata": {},
   "outputs": [
    {
     "data": {
      "text/plain": [
       "[   1   -1   -1]\n",
       "[   1    0    1]\n",
       "[ 1/2    1 -1/2]"
      ]
     },
     "execution_count": 88,
     "metadata": {},
     "output_type": "execute_result"
    }
   ],
   "source": [
    "B=matrix([[1,-1,-1],[1,0,1],[0,1,-1]])\n",
    "\n",
    "G,M=B.gram_schmidt()\n",
    "\n",
    "G"
   ]
  },
  {
   "cell_type": "code",
   "execution_count": 89,
   "metadata": {},
   "outputs": [],
   "source": [
    "v0,v1,v2=vector([1,-1,-1]),vector([1,0,1]),vector([1/2,1,-1/2])\n",
    "u0=v0/sqrt(v0.dot_product(v0))\n",
    "u1=v1/sqrt(v1.dot_product(v1))\n",
    "u2=v2/sqrt(v2.dot_product(v2))"
   ]
  },
  {
   "cell_type": "code",
   "execution_count": 90,
   "metadata": {},
   "outputs": [
    {
     "data": {
      "text/plain": [
       "[ 1  0  0]\n",
       "[ 0 -2  0]\n",
       "[ 0  0 -2]"
      ]
     },
     "execution_count": 90,
     "metadata": {},
     "output_type": "execute_result"
    }
   ],
   "source": [
    "C=column_matrix([u0,u1,u2])\n",
    "(C^-1)*A*C"
   ]
  },
  {
   "cell_type": "code",
   "execution_count": 91,
   "metadata": {},
   "outputs": [
    {
     "data": {
      "text/plain": [
       "[1 0 0]\n",
       "[0 1 0]\n",
       "[0 0 1]"
      ]
     },
     "execution_count": 91,
     "metadata": {},
     "output_type": "execute_result"
    }
   ],
   "source": [
    "C.transpose()*C"
   ]
  },
  {
   "cell_type": "code",
   "execution_count": 92,
   "metadata": {},
   "outputs": [
    {
     "data": {
      "text/plain": [
       "[   1/3*sqrt(3)    1/2*sqrt(2)  1/3*sqrt(3/2)]\n",
       "[  -1/3*sqrt(3)              0  2/3*sqrt(3/2)]\n",
       "[  -1/3*sqrt(3)    1/2*sqrt(2) -1/3*sqrt(3/2)]"
      ]
     },
     "execution_count": 92,
     "metadata": {},
     "output_type": "execute_result"
    }
   ],
   "source": [
    "C"
   ]
  },
  {
   "cell_type": "code",
   "execution_count": null,
   "metadata": {},
   "outputs": [],
   "source": []
  },
  {
   "cell_type": "code",
   "execution_count": null,
   "metadata": {},
   "outputs": [],
   "source": []
  }
 ],
 "metadata": {
  "kernelspec": {
   "display_name": "SageMath 8.8",
   "language": "sage",
   "name": "sagemath"
  },
  "language_info": {
   "codemirror_mode": {
    "name": "ipython",
    "version": 2
   },
   "file_extension": ".py",
   "mimetype": "text/x-python",
   "name": "python",
   "nbconvert_exporter": "python",
   "pygments_lexer": "ipython2",
   "version": "2.7.15"
  }
 },
 "nbformat": 4,
 "nbformat_minor": 2
}
