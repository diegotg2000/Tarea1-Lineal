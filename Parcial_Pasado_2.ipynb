{
 "cells": [
  {
   "cell_type": "code",
   "execution_count": 2,
   "metadata": {},
   "outputs": [],
   "source": [
    "#Primer punto\n",
    "V=QQ^4"
   ]
  },
  {
   "cell_type": "code",
   "execution_count": 3,
   "metadata": {},
   "outputs": [],
   "source": [
    "t=PolynomialRing(RationalField(), 't').gen()\n",
    "K.<i>=QQ.extension(t^2+1)"
   ]
  },
  {
   "cell_type": "code",
   "execution_count": 4,
   "metadata": {},
   "outputs": [
    {
     "data": {
      "text/plain": [
       "[   3/5  1/5*i    1/5    2/5]\n",
       "[-1/5*i    2/5 -2/5*i  1/5*i]\n",
       "[   1/5  2/5*i    2/5   -1/5]\n",
       "[   2/5 -1/5*i   -1/5    3/5]"
      ]
     },
     "execution_count": 4,
     "metadata": {},
     "output_type": "execute_result"
    }
   ],
   "source": [
    "#a)\n",
    "A=matrix([[3,i,1,2],[-i,2,-2*i,i],[1,2*i,2,-1],[2,-i,-1,3]])/5\n",
    "A"
   ]
  },
  {
   "cell_type": "code",
   "execution_count": 15,
   "metadata": {
    "scrolled": true
   },
   "outputs": [
    {
     "data": {
      "text/plain": [
       "[0 0 0 0]\n",
       "[0 0 0 0]\n",
       "[0 0 0 0]\n",
       "[0 0 0 0]"
      ]
     },
     "execution_count": 15,
     "metadata": {},
     "output_type": "execute_result"
    }
   ],
   "source": [
    "#b)\n",
    "A^2-A"
   ]
  },
  {
   "cell_type": "code",
   "execution_count": 16,
   "metadata": {},
   "outputs": [
    {
     "data": {
      "text/plain": [
       "[0 0 0 0]\n",
       "[0 0 0 0]\n",
       "[0 0 0 0]\n",
       "[0 0 0 0]"
      ]
     },
     "execution_count": 16,
     "metadata": {},
     "output_type": "execute_result"
    }
   ],
   "source": [
    "((1-A).H)*A"
   ]
  },
  {
   "cell_type": "code",
   "execution_count": 5,
   "metadata": {},
   "outputs": [
    {
     "data": {
      "text/plain": [
       "(t - 1)^2 * t^2"
      ]
     },
     "execution_count": 5,
     "metadata": {},
     "output_type": "execute_result"
    }
   ],
   "source": [
    "P=A.charpoly('t')\n",
    "factor(P)"
   ]
  },
  {
   "cell_type": "code",
   "execution_count": 14,
   "metadata": {},
   "outputs": [
    {
     "data": {
      "text/plain": [
       "[   3/5  1/5*i    1/5    2/5]\n",
       "[-1/5*i    2/5 -2/5*i  1/5*i]\n",
       "[   1/5  2/5*i    2/5   -1/5]\n",
       "[   2/5 -1/5*i   -1/5    3/5]"
      ]
     },
     "execution_count": 14,
     "metadata": {},
     "output_type": "execute_result"
    }
   ],
   "source": [
    "A.H"
   ]
  },
  {
   "cell_type": "code",
   "execution_count": 17,
   "metadata": {},
   "outputs": [
    {
     "data": {
      "text/plain": [
       "[   2/5 -1/5*i   -1/5   -2/5]\n",
       "[ 1/5*i    3/5  2/5*i -1/5*i]\n",
       "[  -1/5 -2/5*i    3/5    1/5]\n",
       "[  -2/5  1/5*i    1/5    2/5]"
      ]
     },
     "execution_count": 17,
     "metadata": {},
     "output_type": "execute_result"
    }
   ],
   "source": [
    "#c)\n",
    "1-A"
   ]
  },
  {
   "cell_type": "code",
   "execution_count": 18,
   "metadata": {},
   "outputs": [
    {
     "data": {
      "text/plain": [
       "Vector space of degree 4 and dimension 2 over Number Field in i with defining polynomial t^2 + 1\n",
       "Basis matrix:\n",
       "[ 1  0  0  1]\n",
       "[ 0  1  i -i]"
      ]
     },
     "execution_count": 18,
     "metadata": {},
     "output_type": "execute_result"
    }
   ],
   "source": [
    "(1-A).right_kernel()"
   ]
  },
  {
   "cell_type": "code",
   "execution_count": 19,
   "metadata": {},
   "outputs": [
    {
     "data": {
      "text/plain": [
       "Vector space of degree 4 and dimension 2 over Number Field in i with defining polynomial t^2 + 1\n",
       "Basis matrix:\n",
       "[ 1  0 -1 -1]\n",
       "[ 0  1 -i  0]"
      ]
     },
     "execution_count": 19,
     "metadata": {},
     "output_type": "execute_result"
    }
   ],
   "source": [
    "A.right_kernel()"
   ]
  },
  {
   "cell_type": "code",
   "execution_count": 26,
   "metadata": {},
   "outputs": [
    {
     "data": {
      "text/plain": [
       "[     1      0      0      1]\n",
       "[ 1/2*i      1      i -1/2*i]"
      ]
     },
     "execution_count": 26,
     "metadata": {},
     "output_type": "execute_result"
    }
   ],
   "source": [
    "#d)\n",
    "B=matrix([[1,0,0,1],[0,1,i,-i]])\n",
    "\n",
    "G,M=B.gram_schmidt()\n",
    "\n",
    "u0=G[0]\n",
    "u1=G[1]\n",
    "\n",
    "G"
   ]
  },
  {
   "cell_type": "code",
   "execution_count": 27,
   "metadata": {},
   "outputs": [
    {
     "data": {
      "text/plain": [
       "[     1      0     -1     -1]\n",
       "[-1/3*i      1 -2/3*i  1/3*i]"
      ]
     },
     "execution_count": 27,
     "metadata": {},
     "output_type": "execute_result"
    }
   ],
   "source": [
    "#e)\n",
    "C=matrix([[1,0,-1,-1],[0,1,-i,0]])\n",
    "\n",
    "G,M=C.gram_schmidt()\n",
    "\n",
    "u2=G[0]\n",
    "u3=G[1]\n",
    "\n",
    "G"
   ]
  },
  {
   "cell_type": "code",
   "execution_count": 47,
   "metadata": {
    "scrolled": true
   },
   "outputs": [
    {
     "data": {
      "text/plain": [
       "[1 0 0 0]\n",
       "[0 1 0 0]\n",
       "[0 0 0 0]\n",
       "[0 0 0 0]"
      ]
     },
     "execution_count": 47,
     "metadata": {},
     "output_type": "execute_result"
    }
   ],
   "source": [
    "#g)\n",
    "v0=u0\n",
    "v1=u1\n",
    "v2=u2\n",
    "v3=u3\n",
    "\n",
    "D=column_matrix([v0,v1,v2,v3])\n",
    "\n",
    "\n",
    "(D^(-1))*A*D"
   ]
  },
  {
   "cell_type": "code",
   "execution_count": 49,
   "metadata": {},
   "outputs": [
    {
     "data": {
      "text/plain": [
       "[  2   0   0   0]\n",
       "[  0 5/2   0   0]\n",
       "[  0   0   3   0]\n",
       "[  0   0   0 5/3]"
      ]
     },
     "execution_count": 49,
     "metadata": {},
     "output_type": "execute_result"
    }
   ],
   "source": [
    "D.H*D\n",
    "#esto quiere decir que para ortonormalizarlos hay que dividir por \n",
    "#las raices de 2, 5/2, 3, 5/3"
   ]
  },
  {
   "cell_type": "code",
   "execution_count": 50,
   "metadata": {},
   "outputs": [
    {
     "data": {
      "text/plain": [
       "[     1  1/2*i      1 -1/3*i]\n",
       "[     0      1      0      1]\n",
       "[     0      i     -1 -2/3*i]\n",
       "[     1 -1/2*i     -1  1/3*i]"
      ]
     },
     "execution_count": 50,
     "metadata": {},
     "output_type": "execute_result"
    }
   ],
   "source": [
    "D"
   ]
  },
  {
   "cell_type": "code",
   "execution_count": 31,
   "metadata": {},
   "outputs": [],
   "source": [
    "#Segundo punto\n",
    "V=QQ^4"
   ]
  },
  {
   "cell_type": "code",
   "execution_count": 51,
   "metadata": {},
   "outputs": [
    {
     "data": {
      "text/plain": [
       "[ 1 -2 -2  1]\n",
       "[-2  1 -1  2]\n",
       "[-2 -1  1  2]\n",
       "[ 1  2  2  1]"
      ]
     },
     "execution_count": 51,
     "metadata": {},
     "output_type": "execute_result"
    }
   ],
   "source": [
    "A=matrix([[1,-2,-2,1],[-2,1,-1,2],[-2,-1,1,2],[1,2,2,1]])\n",
    "A"
   ]
  },
  {
   "cell_type": "code",
   "execution_count": 52,
   "metadata": {},
   "outputs": [],
   "source": [
    "#a) La rep. matricial de f en la base canónica, que es ortonormal,\n",
    "#es simétrica, por lo cual f es diagonalizable por el teorema espectral"
   ]
  },
  {
   "cell_type": "code",
   "execution_count": 55,
   "metadata": {},
   "outputs": [
    {
     "data": {
      "text/plain": [
       "(t - 4) * (t + 4) * (t - 2)^2"
      ]
     },
     "execution_count": 55,
     "metadata": {},
     "output_type": "execute_result"
    }
   ],
   "source": [
    "#b)\n",
    "t=PolynomialRing(RationalField(), 't').gen()\n",
    "factor(A.charpoly('t'))"
   ]
  },
  {
   "cell_type": "code",
   "execution_count": 56,
   "metadata": {},
   "outputs": [
    {
     "data": {
      "text/plain": [
       "Free module of degree 4 and rank 1 over Integer Ring\n",
       "Echelon basis matrix:\n",
       "[ 1 -1 -1 -1]"
      ]
     },
     "execution_count": 56,
     "metadata": {},
     "output_type": "execute_result"
    }
   ],
   "source": [
    "(A-4).right_kernel()"
   ]
  },
  {
   "cell_type": "code",
   "execution_count": 57,
   "metadata": {},
   "outputs": [
    {
     "data": {
      "text/plain": [
       "Free module of degree 4 and rank 1 over Integer Ring\n",
       "Echelon basis matrix:\n",
       "[ 1  1  1 -1]"
      ]
     },
     "execution_count": 57,
     "metadata": {},
     "output_type": "execute_result"
    }
   ],
   "source": [
    "(A+4).right_kernel()"
   ]
  },
  {
   "cell_type": "code",
   "execution_count": 58,
   "metadata": {},
   "outputs": [
    {
     "data": {
      "text/plain": [
       "Free module of degree 4 and rank 2 over Integer Ring\n",
       "Echelon basis matrix:\n",
       "[ 1  0  0  1]\n",
       "[ 0  1 -1  0]"
      ]
     },
     "execution_count": 58,
     "metadata": {},
     "output_type": "execute_result"
    }
   ],
   "source": [
    "(A-2).right_kernel()"
   ]
  },
  {
   "cell_type": "code",
   "execution_count": 60,
   "metadata": {},
   "outputs": [
    {
     "data": {
      "text/plain": [
       "[4 0 0 0]\n",
       "[0 4 0 0]\n",
       "[0 0 2 0]\n",
       "[0 0 0 2]"
      ]
     },
     "execution_count": 60,
     "metadata": {},
     "output_type": "execute_result"
    }
   ],
   "source": [
    "B=column_matrix([[1,-1,-1,-1],[1,1,1,-1],[1,0,0,1],[0,1,-1,0]])\n",
    "B.T*B"
   ]
  },
  {
   "cell_type": "code",
   "execution_count": 61,
   "metadata": {},
   "outputs": [],
   "source": [
    "#c) son los vectores encontrados arriba pero dividos por 2,2,sqrt(2),sqrt(2)"
   ]
  },
  {
   "cell_type": "code",
   "execution_count": 62,
   "metadata": {},
   "outputs": [],
   "source": [
    "#d) \n",
    "A1=column_matrix([[1,-1,-1,-1]])\n",
    "P1=A1*((A1.T*A1)^-1)*A1.T\n",
    "\n",
    "A2=column_matrix([[1,1,1,-1]])\n",
    "P2=A2*((A2.T*A2)^-1)*A2.T\n",
    "\n",
    "A3=column_matrix([[1,0,0,1],[0,1,-1,0]])\n",
    "P3=A3*((A3.T*A3)^-1)*A3.T"
   ]
  },
  {
   "cell_type": "code",
   "execution_count": 66,
   "metadata": {},
   "outputs": [
    {
     "data": {
      "text/plain": [
       "[ 1/4 -1/4 -1/4 -1/4]\n",
       "[-1/4  1/4  1/4  1/4]\n",
       "[-1/4  1/4  1/4  1/4]\n",
       "[-1/4  1/4  1/4  1/4]"
      ]
     },
     "execution_count": 66,
     "metadata": {},
     "output_type": "execute_result"
    }
   ],
   "source": [
    "P1"
   ]
  },
  {
   "cell_type": "code",
   "execution_count": 67,
   "metadata": {},
   "outputs": [
    {
     "data": {
      "text/plain": [
       "[ 1/4  1/4  1/4 -1/4]\n",
       "[ 1/4  1/4  1/4 -1/4]\n",
       "[ 1/4  1/4  1/4 -1/4]\n",
       "[-1/4 -1/4 -1/4  1/4]"
      ]
     },
     "execution_count": 67,
     "metadata": {},
     "output_type": "execute_result"
    }
   ],
   "source": [
    "P2"
   ]
  },
  {
   "cell_type": "code",
   "execution_count": 68,
   "metadata": {},
   "outputs": [
    {
     "data": {
      "text/plain": [
       "[ 1/2    0    0  1/2]\n",
       "[   0  1/2 -1/2    0]\n",
       "[   0 -1/2  1/2    0]\n",
       "[ 1/2    0    0  1/2]"
      ]
     },
     "execution_count": 68,
     "metadata": {},
     "output_type": "execute_result"
    }
   ],
   "source": [
    "P3"
   ]
  },
  {
   "cell_type": "code",
   "execution_count": 71,
   "metadata": {},
   "outputs": [
    {
     "data": {
      "text/plain": [
       "(\n",
       "[ 1 -2 -2  1]  [ 1 -2 -2  1]\n",
       "[-2  1 -1  2]  [-2  1 -1  2]\n",
       "[-2 -1  1  2]  [-2 -1  1  2]\n",
       "[ 1  2  2  1], [ 1  2  2  1]\n",
       ")"
      ]
     },
     "execution_count": 71,
     "metadata": {},
     "output_type": "execute_result"
    }
   ],
   "source": [
    "#e)\n",
    "4*P1-4*P2+2*P3,A"
   ]
  },
  {
   "cell_type": "code",
   "execution_count": 72,
   "metadata": {},
   "outputs": [],
   "source": [
    "#f) las mismas del c"
   ]
  },
  {
   "cell_type": "code",
   "execution_count": null,
   "metadata": {},
   "outputs": [],
   "source": []
  }
 ],
 "metadata": {
  "kernelspec": {
   "display_name": "SageMath 8.8",
   "language": "sage",
   "name": "sagemath"
  },
  "language_info": {
   "codemirror_mode": {
    "name": "ipython",
    "version": 2
   },
   "file_extension": ".py",
   "mimetype": "text/x-python",
   "name": "python",
   "nbconvert_exporter": "python",
   "pygments_lexer": "ipython2",
   "version": "2.7.15"
  }
 },
 "nbformat": 4,
 "nbformat_minor": 2
}
