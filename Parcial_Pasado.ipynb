{
 "cells": [
  {
   "cell_type": "code",
   "execution_count": 44,
   "metadata": {},
   "outputs": [],
   "source": [
    "V=QQ^6\n",
    "\n",
    "A=matrix([[8,1,-13,8,-1,0],[31,6,-63,29,-1,1],[11,1,-17,9,-1,0],[12,1,-17,8,-1,0],[-12,0,14,-2,3,0],[-15,-6,39,-15,0,0]])"
   ]
  },
  {
   "cell_type": "code",
   "execution_count": 45,
   "metadata": {},
   "outputs": [
    {
     "data": {
      "text/plain": [
       "[  8   1 -13   8  -1   0]\n",
       "[ 31   6 -63  29  -1   1]\n",
       "[ 11   1 -17   9  -1   0]\n",
       "[ 12   1 -17   8  -1   0]\n",
       "[-12   0  14  -2   3   0]\n",
       "[-15  -6  39 -15   0   0]"
      ]
     },
     "execution_count": 45,
     "metadata": {},
     "output_type": "execute_result"
    }
   ],
   "source": [
    "A"
   ]
  },
  {
   "cell_type": "code",
   "execution_count": 46,
   "metadata": {},
   "outputs": [
    {
     "name": "stdout",
     "output_type": "stream",
     "text": [
      "(t + 2)^2 * (t - 3)^4\n"
     ]
    }
   ],
   "source": [
    "t=PolynomialRing(RationalField(), 't').gen()\n",
    "P=A.charpoly('t')\n",
    "print(factor(P))"
   ]
  },
  {
   "cell_type": "code",
   "execution_count": 12,
   "metadata": {},
   "outputs": [],
   "source": [
    "def MCD(POLINOMIOS):\n",
    "    if(len(POLINOMIOS)==2):\n",
    "        return xgcd(POLINOMIOS[0], POLINOMIOS[1])\n",
    "    else:\n",
    "        RESP=[]\n",
    "        P1=POLINOMIOS[0]\n",
    "        RESTO = POLINOMIOS[1:]\n",
    "        d=MCD([P1, MCD(RESTO)[0]])[0]\n",
    "        Q1=MCD([P1, MCD(RESTO)[0]])[1]\n",
    "        Q=MCD([P1, MCD(RESTO)[0]])[2]\n",
    "        RESP.append(d)\n",
    "        RESP.append(Q1)\n",
    "        for i in range(2,len(POLINOMIOS)+1):\n",
    "            RESP.append(Q*MCD(RESTO)[i-1])\n",
    "        return RESP"
   ]
  },
  {
   "cell_type": "code",
   "execution_count": 48,
   "metadata": {},
   "outputs": [
    {
     "name": "stdout",
     "output_type": "stream",
     "text": [
      "((4/3125) * (t + 13/4) * (t - 3)^4, (-4/3125) * (t + 2)^2 * (t^3 - 51/4*t^2 + 62*t - 259/2))\n"
     ]
    }
   ],
   "source": [
    "P1=(t+2)^2\n",
    "P2=(t-3)^4\n",
    "\n",
    "R1=P/P1\n",
    "R2=P/P2\n",
    "\n",
    "Q1=MCD([R1,R2])[1]\n",
    "Q2=MCD([R1,R2])[2]\n",
    "\n",
    "Pi1=Q1*R1\n",
    "Pi2=Q2*R2\n",
    "\n",
    "print(factor(Pi1), factor(Pi2))"
   ]
  },
  {
   "cell_type": "code",
   "execution_count": 49,
   "metadata": {},
   "outputs": [
    {
     "data": {
      "text/plain": [
       "[ 0  0  1 -1  0  0]\n",
       "[-4  0  8 -4  0  0]\n",
       "[-1  0  2 -1  0  0]\n",
       "[-1  0  1  0  0  0]\n",
       "[ 2  0 -2  0  0  0]\n",
       "[ 0  0  0  0  0  0]"
      ]
     },
     "execution_count": 49,
     "metadata": {},
     "output_type": "execute_result"
    }
   ],
   "source": [
    "p1=Pi1(A)\n",
    "p1"
   ]
  },
  {
   "cell_type": "code",
   "execution_count": 50,
   "metadata": {},
   "outputs": [
    {
     "data": {
      "text/plain": [
       "[ 1  0 -1  1  0  0]\n",
       "[ 4  1 -8  4  0  0]\n",
       "[ 1  0 -1  1  0  0]\n",
       "[ 1  0 -1  1  0  0]\n",
       "[-2  0  2  0  1  0]\n",
       "[ 0  0  0  0  0  1]"
      ]
     },
     "execution_count": 50,
     "metadata": {},
     "output_type": "execute_result"
    }
   ],
   "source": [
    "p2=Pi2(A)\n",
    "p2"
   ]
  },
  {
   "cell_type": "code",
   "execution_count": 51,
   "metadata": {},
   "outputs": [
    {
     "data": {
      "text/plain": [
       "Vector space of degree 6 and dimension 2 over Rational Field\n",
       "Basis matrix:\n",
       "[   1    0    0   -1    2    0]\n",
       "[   0    1  1/4  1/4 -1/2    0]"
      ]
     },
     "execution_count": 51,
     "metadata": {},
     "output_type": "execute_result"
    }
   ],
   "source": [
    "P1(A).right_kernel()"
   ]
  },
  {
   "cell_type": "code",
   "execution_count": 52,
   "metadata": {},
   "outputs": [
    {
     "data": {
      "text/plain": [
       "Vector space of degree 6 and dimension 4 over Rational Field\n",
       "Basis matrix:\n",
       "[1 0 1 1 0 0]\n",
       "[0 1 0 0 0 0]\n",
       "[0 0 0 0 1 0]\n",
       "[0 0 0 0 0 1]"
      ]
     },
     "execution_count": 52,
     "metadata": {},
     "output_type": "execute_result"
    }
   ],
   "source": [
    "P2(A).right_kernel()"
   ]
  },
  {
   "cell_type": "code",
   "execution_count": 55,
   "metadata": {},
   "outputs": [
    {
     "data": {
      "text/plain": [
       "[ -2 1/4   0   0   0   0]\n",
       "[  0  -2   0   0   0   0]\n",
       "[  0   0   3   1  -1   0]\n",
       "[  0   0  -3   6  -1   1]\n",
       "[  0   0   0   0   3   0]\n",
       "[  0   0   9  -6   0   0]"
      ]
     },
     "execution_count": 55,
     "metadata": {},
     "output_type": "execute_result"
    }
   ],
   "source": [
    "C=column_matrix([[1,0,0,-1,2,0],[0,1,1/4,1/4,-1/2,0],[1,0,1,1,0,0],[0,1,0,0,0,0],[0,0,0,0,1,0],[0,0,0,0,0,1]])\n",
    "\n",
    "(C)^(-1)*A*C"
   ]
  },
  {
   "cell_type": "code",
   "execution_count": 79,
   "metadata": {},
   "outputs": [],
   "source": [
    "#Base para V1=span([1,0,0,-1,2,0],[0,1,1/4,1/4,-1/2,0])\n",
    "Pol=(t+2)"
   ]
  },
  {
   "cell_type": "code",
   "execution_count": 80,
   "metadata": {},
   "outputs": [
    {
     "data": {
      "text/plain": [
       "Vector space of degree 6 and dimension 1 over Rational Field\n",
       "Basis matrix:\n",
       "[ 1  0  0 -1  2  0]"
      ]
     },
     "execution_count": 80,
     "metadata": {},
     "output_type": "execute_result"
    }
   ],
   "source": [
    "Pol(A).right_kernel()"
   ]
  },
  {
   "cell_type": "code",
   "execution_count": 81,
   "metadata": {},
   "outputs": [
    {
     "data": {
      "text/plain": [
       "Vector space of degree 6 and dimension 2 over Rational Field\n",
       "Basis matrix:\n",
       "[   1    0    0   -1    2    0]\n",
       "[   0    1  1/4  1/4 -1/2    0]"
      ]
     },
     "execution_count": 81,
     "metadata": {},
     "output_type": "execute_result"
    }
   ],
   "source": [
    "(Pol(A)^2).right_kernel()"
   ]
  },
  {
   "cell_type": "code",
   "execution_count": 82,
   "metadata": {},
   "outputs": [],
   "source": [
    "#n1'=1, n2'=1\n",
    "v6=vector(QQ, [0,1,1/4, 1/4, -1/2,0])\n",
    "v5=Pol(A)*v6"
   ]
  },
  {
   "cell_type": "code",
   "execution_count": 83,
   "metadata": {},
   "outputs": [],
   "source": [
    "#Base para V2=span([1,0,1,1,0,0],[0,1,0,0,0,0],[0,0,0,0,1,0],[0,0,0,0,0,1])\n",
    "Pol=(t-3)"
   ]
  },
  {
   "cell_type": "code",
   "execution_count": 84,
   "metadata": {},
   "outputs": [
    {
     "data": {
      "text/plain": [
       "Vector space of degree 6 and dimension 2 over Rational Field\n",
       "Basis matrix:\n",
       "[ 1  0  1  1  0  3]\n",
       "[ 0  1  0  0  1 -2]"
      ]
     },
     "execution_count": 84,
     "metadata": {},
     "output_type": "execute_result"
    }
   ],
   "source": [
    "Pol(A).right_kernel()"
   ]
  },
  {
   "cell_type": "code",
   "execution_count": 85,
   "metadata": {},
   "outputs": [
    {
     "data": {
      "text/plain": [
       "Vector space of degree 6 and dimension 3 over Rational Field\n",
       "Basis matrix:\n",
       "[ 1  0  1  1  0  3]\n",
       "[ 0  1  0  0  0 -3]\n",
       "[ 0  0  0  0  1  1]"
      ]
     },
     "execution_count": 85,
     "metadata": {},
     "output_type": "execute_result"
    }
   ],
   "source": [
    "(Pol(A)^2).right_kernel()"
   ]
  },
  {
   "cell_type": "code",
   "execution_count": 86,
   "metadata": {},
   "outputs": [
    {
     "data": {
      "text/plain": [
       "Vector space of degree 6 and dimension 4 over Rational Field\n",
       "Basis matrix:\n",
       "[1 0 1 1 0 0]\n",
       "[0 1 0 0 0 0]\n",
       "[0 0 0 0 1 0]\n",
       "[0 0 0 0 0 1]"
      ]
     },
     "execution_count": 86,
     "metadata": {},
     "output_type": "execute_result"
    }
   ],
   "source": [
    "(Pol(A)^3).right_kernel()"
   ]
  },
  {
   "cell_type": "code",
   "execution_count": 87,
   "metadata": {},
   "outputs": [
    {
     "data": {
      "text/plain": [
       "(-3, 0, -3, -3, 0, -9)"
      ]
     },
     "execution_count": 87,
     "metadata": {},
     "output_type": "execute_result"
    }
   ],
   "source": [
    "#n1'=2, n2'=1, n3'=1\n",
    "v3=vector(QQ, [1,0,1,1,0,0])\n",
    "v2=Pol(A)*v3\n",
    "v1=Pol(A)*v2\n",
    "v1"
   ]
  },
  {
   "cell_type": "code",
   "execution_count": 88,
   "metadata": {},
   "outputs": [],
   "source": [
    "v4=vector(QQ, [0,1,0,0,1,-2])"
   ]
  },
  {
   "cell_type": "code",
   "execution_count": 89,
   "metadata": {},
   "outputs": [
    {
     "data": {
      "text/plain": [
       "[ 3  1  0  0  0  0]\n",
       "[ 0  3  1  0  0  0]\n",
       "[ 0  0  3  0  0  0]\n",
       "[ 0  0  0  3  0  0]\n",
       "[ 0  0  0  0 -2  1]\n",
       "[ 0  0  0  0  0 -2]"
      ]
     },
     "execution_count": 89,
     "metadata": {},
     "output_type": "execute_result"
    }
   ],
   "source": [
    "C=column_matrix([v1,v2,v3,v4,v5,v6])\n",
    "(C)^(-1)*A*C"
   ]
  },
  {
   "cell_type": "code",
   "execution_count": 91,
   "metadata": {},
   "outputs": [
    {
     "data": {
      "text/plain": [
       "[-11  -3  24  -9   1  -1]\n",
       "[-14  -4  30 -12   1   0]\n",
       "[-10  -3  22  -8   1  -1]\n",
       "[ -6  -2  13  -4   1  -1]\n",
       "[ -2   0   4  -2   0   0]\n",
       "[-17  -6  41 -15   1  -3]"
      ]
     },
     "execution_count": 91,
     "metadata": {},
     "output_type": "execute_result"
    }
   ],
   "source": [
    "A=matrix([[-11,-3,24,-9,1,-1],[-14,-4,30,-12,1,0],[-10,-3,22,-8,1,-1],[-6,-2,13,-4,1,-1],[-2,0,4,-2,0,0],[-17,-6,41,-15,1,-3]])\n",
    "A"
   ]
  },
  {
   "cell_type": "code",
   "execution_count": 95,
   "metadata": {},
   "outputs": [
    {
     "data": {
      "text/plain": [
       "t^6"
      ]
     },
     "execution_count": 95,
     "metadata": {},
     "output_type": "execute_result"
    }
   ],
   "source": [
    "P=A.charpoly('t')\n",
    "P"
   ]
  },
  {
   "cell_type": "code",
   "execution_count": 98,
   "metadata": {},
   "outputs": [
    {
     "data": {
      "text/plain": [
       "Free module of degree 6 and rank 2 over Integer Ring\n",
       "Echelon basis matrix:\n",
       "[ 1  0  0 -1  2  0]\n",
       "[ 0  1  1  2 -2  1]"
      ]
     },
     "execution_count": 98,
     "metadata": {},
     "output_type": "execute_result"
    }
   ],
   "source": [
    "(A^(1)).right_kernel()"
   ]
  },
  {
   "cell_type": "code",
   "execution_count": 99,
   "metadata": {},
   "outputs": [
    {
     "data": {
      "text/plain": [
       "Free module of degree 6 and rank 4 over Integer Ring\n",
       "Echelon basis matrix:\n",
       "[ 1  0  0 -1  0  0]\n",
       "[ 0  1  1  2  0  1]\n",
       "[ 0  0  3  7  0  4]\n",
       "[ 0  0  0  0  1  0]"
      ]
     },
     "execution_count": 99,
     "metadata": {},
     "output_type": "execute_result"
    }
   ],
   "source": [
    "(A^(2)).right_kernel()"
   ]
  },
  {
   "cell_type": "code",
   "execution_count": 100,
   "metadata": {},
   "outputs": [
    {
     "data": {
      "text/plain": [
       "Free module of degree 6 and rank 5 over Integer Ring\n",
       "Echelon basis matrix:\n",
       "[ 1  0  0  0  0 -5]\n",
       "[ 0  1  0  0  0 -2]\n",
       "[ 0  0  1  0  0 13]\n",
       "[ 0  0  0  1  0 -5]\n",
       "[ 0  0  0  0  1  0]"
      ]
     },
     "execution_count": 100,
     "metadata": {},
     "output_type": "execute_result"
    }
   ],
   "source": [
    "(A^(3)).right_kernel()"
   ]
  },
  {
   "cell_type": "code",
   "execution_count": 117,
   "metadata": {},
   "outputs": [
    {
     "data": {
      "text/plain": [
       "Free module of degree 6 and rank 6 over Integer Ring\n",
       "Echelon basis matrix:\n",
       "[1 0 0 0 0 0]\n",
       "[0 1 0 0 0 0]\n",
       "[0 0 1 0 0 0]\n",
       "[0 0 0 1 0 0]\n",
       "[0 0 0 0 1 0]\n",
       "[0 0 0 0 0 1]"
      ]
     },
     "execution_count": 117,
     "metadata": {},
     "output_type": "execute_result"
    }
   ],
   "source": [
    "(A^(4)).right_kernel()"
   ]
  },
  {
   "cell_type": "code",
   "execution_count": 120,
   "metadata": {},
   "outputs": [],
   "source": [
    "#n1'=2, n2'=2, n3'=1, n4'=1\n",
    "v4=vector(QQ, [1,0,0,0,0,-3])\n",
    "v4 in (A^(3)).right_kernel()\n",
    "\n",
    "v3=A*v4\n",
    "v2=A*v3\n",
    "v1=A*v2\n",
    "\n",
    "v6=vector(QQ, [0,1,1,2,0,1])\n",
    "v5=A*v6"
   ]
  },
  {
   "cell_type": "code",
   "execution_count": 121,
   "metadata": {},
   "outputs": [
    {
     "data": {
      "text/plain": [
       "[0 1 0 0 0 0]\n",
       "[0 0 1 0 0 0]\n",
       "[0 0 0 1 0 0]\n",
       "[0 0 0 0 0 0]\n",
       "[0 0 0 0 0 1]\n",
       "[0 0 0 0 0 0]"
      ]
     },
     "execution_count": 121,
     "metadata": {},
     "output_type": "execute_result"
    }
   ],
   "source": [
    "C=column_matrix([v1,v2,v3,v4,v5,v6])\n",
    "\n",
    "(C^(-1))*A*C"
   ]
  },
  {
   "cell_type": "code",
   "execution_count": null,
   "metadata": {},
   "outputs": [],
   "source": []
  }
 ],
 "metadata": {
  "kernelspec": {
   "display_name": "SageMath 8.8",
   "language": "sage",
   "name": "sagemath"
  },
  "language_info": {
   "codemirror_mode": {
    "name": "ipython",
    "version": 2
   },
   "file_extension": ".py",
   "mimetype": "text/x-python",
   "name": "python",
   "nbconvert_exporter": "python",
   "pygments_lexer": "ipython2",
   "version": "2.7.15"
  }
 },
 "nbformat": 4,
 "nbformat_minor": 2
}
