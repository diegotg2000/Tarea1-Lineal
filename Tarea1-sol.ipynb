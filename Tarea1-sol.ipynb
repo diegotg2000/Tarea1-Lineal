{
 "cells": [
  {
   "cell_type": "code",
   "execution_count": 2,
   "metadata": {},
   "outputs": [],
   "source": [
    "t=PolynomialRing(RationalField(),'t').gen()"
   ]
  },
  {
   "cell_type": "code",
   "execution_count": 5,
   "metadata": {},
   "outputs": [],
   "source": [
    "P1=(t-3)*(t-5)\n",
    "P2=(t-1)*(t-5)\n",
    "P3=(t-1)*(t-3)"
   ]
  },
  {
   "cell_type": "code",
   "execution_count": 6,
   "metadata": {},
   "outputs": [],
   "source": [
    "d12, Q11, Q12 = xgcd(P1,P2)"
   ]
  },
  {
   "cell_type": "code",
   "execution_count": 7,
   "metadata": {},
   "outputs": [],
   "source": [
    "d, Q21, Q3 = xgcd(d12, P3)"
   ]
  },
  {
   "cell_type": "code",
   "execution_count": 8,
   "metadata": {},
   "outputs": [],
   "source": [
    "Q1=Q11*Q21\n",
    "Q2=Q12*Q21\n"
   ]
  },
  {
   "cell_type": "code",
   "execution_count": 28,
   "metadata": {},
   "outputs": [
    {
     "data": {
      "text/plain": [
       "('El maximo comun divisor es', 1)"
      ]
     },
     "execution_count": 28,
     "metadata": {},
     "output_type": "execute_result"
    }
   ],
   "source": [
    "'El maximo comun divisor es',d"
   ]
  },
  {
   "cell_type": "code",
   "execution_count": 24,
   "metadata": {},
   "outputs": [
    {
     "data": {
      "text/plain": [
       "('Q1=', (1/16) * (t + 1))"
      ]
     },
     "execution_count": 24,
     "metadata": {},
     "output_type": "execute_result"
    }
   ],
   "source": [
    "'Q1=',factor(Q1)"
   ]
  },
  {
   "cell_type": "code",
   "execution_count": 25,
   "metadata": {},
   "outputs": [
    {
     "data": {
      "text/plain": [
       "('Q2=', (-1/16) * (t + 1))"
      ]
     },
     "execution_count": 25,
     "metadata": {},
     "output_type": "execute_result"
    }
   ],
   "source": [
    "'Q2=',factor(Q2)"
   ]
  },
  {
   "cell_type": "code",
   "execution_count": 26,
   "metadata": {},
   "outputs": [
    {
     "data": {
      "text/plain": [
       "('Q3=', 1/8)"
      ]
     },
     "execution_count": 26,
     "metadata": {},
     "output_type": "execute_result"
    }
   ],
   "source": [
    "'Q3=',factor(Q3)"
   ]
  },
  {
   "cell_type": "code",
   "execution_count": 30,
   "metadata": {},
   "outputs": [
    {
     "name": "stdout",
     "output_type": "stream",
     "text": [
      "('El maximo comun divisor es', 1, ' y Q1 y Q2 son', (-1/4) * (t + 1), 1/4, 'respectivamente')\n"
     ]
    }
   ],
   "source": [
    "P1=(t-3)\n",
    "P2=(t-1)**2\n",
    "d, Q1, Q2=xgcd(P1,P2)\n",
    "print('El maximo comun divisor es', d, ' y Q1 y Q2 son', factor(Q1), Q2, 'respectivamente')"
   ]
  },
  {
   "cell_type": "code",
   "execution_count": 34,
   "metadata": {},
   "outputs": [
    {
     "name": "stdout",
     "output_type": "stream",
     "text": [
      "('El maximo comun divisor es', 1, ' y Q1, Q2 y Q3 son', 1/2, -1/2, 1, 'respectivamente')\n"
     ]
    }
   ],
   "source": [
    "P1=(t-1)*(t**2 - 2)\n",
    "P2=(t+1)*(t**2 - 2)\n",
    "P3=t**2 - 1\n",
    "d12, Q11, Q12 = xgcd(P1, P2)\n",
    "d, Q21, Q3 = xgcd(d12, P3)\n",
    "Q1=Q11*Q21\n",
    "Q2=Q21*Q12\n",
    "print('El maximo comun divisor es', d, ' y Q1, Q2 y Q3 son', Q1, Q2, Q3,'respectivamente')"
   ]
  },
  {
   "cell_type": "code",
   "execution_count": 36,
   "metadata": {},
   "outputs": [
    {
     "name": "stdout",
     "output_type": "stream",
     "text": [
      "('El maximo comun divisor es', 1, ' y Q1 y Q2 son', 1/8, -1/8, 'respectivamente')\n"
     ]
    }
   ],
   "source": [
    "P1=t**2 - 2*t + 10\n",
    "P2=t**2 - 2*t + 2\n",
    "d, Q1, Q2=xgcd(P1,P2)\n",
    "print('El maximo comun divisor es', d, ' y Q1 y Q2 son', factor(Q1), Q2, 'respectivamente')"
   ]
  },
  {
   "cell_type": "code",
   "execution_count": null,
   "metadata": {},
   "outputs": [],
   "source": []
  }
 ],
 "metadata": {
  "kernelspec": {
   "display_name": "SageMath 8.8",
   "language": "sage",
   "name": "sagemath"
  }
 },
 "nbformat": 4,
 "nbformat_minor": 2
}
