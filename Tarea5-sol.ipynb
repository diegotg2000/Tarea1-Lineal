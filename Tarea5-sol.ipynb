{
 "cells": [
  {
   "cell_type": "code",
   "execution_count": 1,
   "metadata": {},
   "outputs": [],
   "source": [
    "import numpy as np\n",
    "#i)\n",
    "V=QQ^4\n",
    "def f(v):\n",
    "    x=v[0]\n",
    "    y=v[1]\n",
    "    z=v[2]\n",
    "    w=v[3]\n",
    "    \n",
    "    a=(-2*x + y + 4*z -2*w)/3\n",
    "    b=(3*x - 6*y + 6*z)/3\n",
    "    c=(2*x - 4*y + 5*z +2*w)/3\n",
    "    d=(-6*y + 6*z + 3*w)/3\n",
    "    \n",
    "    R=vector(QQ, [a,b,c,d])\n",
    "    \n",
    "    return R"
   ]
  },
  {
   "cell_type": "code",
   "execution_count": 2,
   "metadata": {},
   "outputs": [
    {
     "data": {
      "text/plain": [
       "[-2/3  1/3  4/3 -2/3]\n",
       "[   1   -2    2    0]\n",
       "[ 2/3 -4/3  5/3  2/3]\n",
       "[   0   -2    2    1]"
      ]
     },
     "execution_count": 2,
     "metadata": {},
     "output_type": "execute_result"
    }
   ],
   "source": [
    "A=column_matrix(QQ, [f([1,0,0,0]),f([0,1,0,0]),f([0,0,1,0]),f([0,0,0,1])])\n",
    "A"
   ]
  },
  {
   "cell_type": "code",
   "execution_count": 3,
   "metadata": {},
   "outputs": [
    {
     "data": {
      "text/plain": [
       "(t - 1) * (t + 1) * (t^2 - 3)"
      ]
     },
     "execution_count": 3,
     "metadata": {},
     "output_type": "execute_result"
    }
   ],
   "source": [
    "#Factorizacion del polinomio\n",
    "t=PolynomialRing(RationalField(), 't').gen()\n",
    "P=A.charpoly('t')\n",
    "factor(P)"
   ]
  },
  {
   "cell_type": "code",
   "execution_count": 4,
   "metadata": {},
   "outputs": [
    {
     "name": "stdout",
     "output_type": "stream",
     "text": [
      "(t - 1, t + 1, t^2 - 3)\n"
     ]
    }
   ],
   "source": [
    "P1=factor(P)[0][0]^factor(P)[0][1]\n",
    "P2=factor(P)[1][0]^factor(P)[1][1] \n",
    "P3=factor(P)[2][0]^factor(P)[2][1] \n",
    "\n",
    "print(P1,P2,P3)"
   ]
  },
  {
   "cell_type": "code",
   "execution_count": 5,
   "metadata": {},
   "outputs": [],
   "source": [
    "R1=P/P1\n",
    "R2=P/P2\n",
    "R3=P/P3"
   ]
  },
  {
   "cell_type": "code",
   "execution_count": 6,
   "metadata": {},
   "outputs": [],
   "source": [
    "def MCD(POLINOMIOS):\n",
    "    if(len(POLINOMIOS)==2):\n",
    "        return xgcd(POLINOMIOS[0], POLINOMIOS[1])\n",
    "    else:\n",
    "        RESP=[]\n",
    "        P1=POLINOMIOS[0]\n",
    "        RESTO = POLINOMIOS[1:]\n",
    "        d=MCD([P1, MCD(RESTO)[0]])[0]\n",
    "        Q1=MCD([P1, MCD(RESTO)[0]])[1]\n",
    "        Q=MCD([P1, MCD(RESTO)[0]])[2]\n",
    "        RESP.append(d)\n",
    "        RESP.append(Q1)\n",
    "        for i in range(2,len(POLINOMIOS)+1):\n",
    "            RESP.append(Q*MCD(RESTO)[i-1])\n",
    "        return RESP"
   ]
  },
  {
   "cell_type": "code",
   "execution_count": 13,
   "metadata": {},
   "outputs": [
    {
     "name": "stdout",
     "output_type": "stream",
     "text": [
      "((-1/4) * (t + 1) * (t^2 - 3), (-1/8) * (t - 1) * (t^2 - 3) * (t^2 + 2*t - 1), (1/8) * (t + 1) * (t - 1)^2 * (t^2 + 2*t - 1))\n"
     ]
    }
   ],
   "source": [
    "Q1=MCD([R1,R2,R3])[1]\n",
    "Q2=MCD([R1,R2,R3])[2]\n",
    "Q3=MCD([R1,R2,R3])[3]\n",
    "\n",
    "Pi1=Q1*R1\n",
    "Pi2=Q2*R2\n",
    "Pi3=Q3*R3\n",
    "\n",
    "print(factor(Pi1), factor(Pi2), factor(Pi3))"
   ]
  },
  {
   "cell_type": "code",
   "execution_count": 12,
   "metadata": {},
   "outputs": [
    {
     "data": {
      "text/plain": [
       "[1 0 0 0]\n",
       "[0 1 0 0]\n",
       "[0 0 1 0]\n",
       "[0 0 0 1]"
      ]
     },
     "execution_count": 12,
     "metadata": {},
     "output_type": "execute_result"
    }
   ],
   "source": [
    "Pi1(A)+Pi2(A)+Pi3(A)"
   ]
  },
  {
   "cell_type": "code",
   "execution_count": 87,
   "metadata": {},
   "outputs": [
    {
     "data": {
      "text/plain": [
       "Vector space of degree 4 and dimension 1 over Rational Field\n",
       "Basis matrix:\n",
       "[1 1 1 0]"
      ]
     },
     "execution_count": 87,
     "metadata": {},
     "output_type": "execute_result"
    }
   ],
   "source": [
    "P1(A).right_kernel()"
   ]
  },
  {
   "cell_type": "code",
   "execution_count": 88,
   "metadata": {},
   "outputs": [
    {
     "data": {
      "text/plain": [
       "Vector space of degree 4 and dimension 1 over Rational Field\n",
       "Basis matrix:\n",
       "[1 1 0 1]"
      ]
     },
     "execution_count": 88,
     "metadata": {},
     "output_type": "execute_result"
    }
   ],
   "source": [
    "P2(A).right_kernel()"
   ]
  },
  {
   "cell_type": "code",
   "execution_count": 89,
   "metadata": {},
   "outputs": [
    {
     "data": {
      "text/plain": [
       "Vector space of degree 4 and dimension 2 over Rational Field\n",
       "Basis matrix:\n",
       "[1 0 1 1]\n",
       "[0 1 1 1]"
      ]
     },
     "execution_count": 89,
     "metadata": {},
     "output_type": "execute_result"
    }
   ],
   "source": [
    "P3(A).right_kernel()"
   ]
  },
  {
   "cell_type": "code",
   "execution_count": 90,
   "metadata": {},
   "outputs": [],
   "source": [
    "BaC=column_matrix(QQ, [[1,0,1,1],[0,1,1,1],[1,1,0,1],[1,1,1,0]])\n",
    "CaB=(BaC)^-1"
   ]
  },
  {
   "cell_type": "code",
   "execution_count": 91,
   "metadata": {},
   "outputs": [
    {
     "data": {
      "text/plain": [
       "[ 0  1  0  0]\n",
       "[ 3  0  0  0]\n",
       "[ 0  0 -1  0]\n",
       "[ 0  0  0  1]"
      ]
     },
     "execution_count": 91,
     "metadata": {},
     "output_type": "execute_result"
    }
   ],
   "source": [
    "CaB*A*BaC"
   ]
  },
  {
   "cell_type": "code",
   "execution_count": 98,
   "metadata": {},
   "outputs": [
    {
     "data": {
      "text/plain": [
       "[-2/3  1/3  4/3 -2/3]\n",
       "[   1   -2    2    0]\n",
       "[ 2/3 -4/3  5/3  2/3]\n",
       "[   0   -2    2    1]"
      ]
     },
     "execution_count": 98,
     "metadata": {},
     "output_type": "execute_result"
    }
   ],
   "source": [
    "#ii) Lo mismo pero sobre R\n",
    "A"
   ]
  },
  {
   "cell_type": "code",
   "execution_count": 99,
   "metadata": {},
   "outputs": [
    {
     "name": "stdout",
     "output_type": "stream",
     "text": [
      "(t - 1, t + 1, t^2 - 3)\n"
     ]
    }
   ],
   "source": [
    "#Factorizacion del polinomio\n",
    "t=PolynomialRing(RationalField(), 't').gen()\n",
    "P=A.charpoly('t')\n",
    "\n",
    "P1=factor(P)[0][0]^factor(P)[0][1]\n",
    "P2=factor(P)[1][0]^factor(P)[1][1] \n",
    "P3=factor(P)[2][0]^factor(P)[2][1] \n",
    "\n",
    "\n",
    "print(P1,P2,P3)"
   ]
  },
  {
   "cell_type": "code",
   "execution_count": 100,
   "metadata": {},
   "outputs": [],
   "source": [
    "#Agregarle sqrt(3) al cuerpo\n",
    "K.<r> = QQ.extension(P3)"
   ]
  },
  {
   "cell_type": "code",
   "execution_count": 106,
   "metadata": {},
   "outputs": [
    {
     "name": "stdout",
     "output_type": "stream",
     "text": [
      "(t - r, t - 1, t + 1, t + r, 'donde r=sqrt(3)')\n"
     ]
    }
   ],
   "source": [
    "#Ahora sí\n",
    "P=P.change_ring(K)\n",
    "factor(P)\n",
    "\n",
    "P1=factor(P)[0][0]^factor(P)[0][1]\n",
    "P2=factor(P)[1][0]^factor(P)[1][1] \n",
    "P3=factor(P)[2][0]^factor(P)[2][1] \n",
    "P4=factor(P)[3][0]^factor(P)[3][1] \n",
    "\n",
    "print(P1,P2,P3,P4, 'donde r=sqrt(3)')"
   ]
  },
  {
   "cell_type": "code",
   "execution_count": 107,
   "metadata": {},
   "outputs": [],
   "source": [
    "R1=P/P1\n",
    "R2=P/P2\n",
    "R3=P/P3\n",
    "R4=P/P4"
   ]
  },
  {
   "cell_type": "code",
   "execution_count": 110,
   "metadata": {},
   "outputs": [
    {
     "name": "stdout",
     "output_type": "stream",
     "text": [
      "((1/12*r) * (t - 1) * (t + 1) * (t + r), (1/48*r - 1/16) * (t - r) * (t + 1) * (t + r) * (t^2 + 2*r*t + 5), (1/48*r) * (t - r) * (t - 1) * (t + r) * (t + r + 2) * (t^2 + 2*r*t + 5), (-1/48*r) * (t - r) * (t - 1) * (t + 1) * (t + r + 2) * (t^2 + 2*r*t + 5))\n"
     ]
    }
   ],
   "source": [
    "Q1=MCD([R1,R2,R3,R4])[1]\n",
    "Q2=MCD([R1,R2,R3,R4])[2]\n",
    "Q3=MCD([R1,R2,R3,R4])[3]\n",
    "Q4=MCD([R1,R2,R3,R4])[4]\n",
    "\n",
    "Pi1=Q1*R1\n",
    "Pi2=Q2*R2\n",
    "Pi3=Q3*R3\n",
    "Pi4=Q4*R4\n",
    "\n",
    "print(factor(Pi1), factor(Pi2), factor(Pi3), factor(Pi4))"
   ]
  },
  {
   "cell_type": "code",
   "execution_count": 112,
   "metadata": {},
   "outputs": [
    {
     "data": {
      "text/plain": [
       "Vector space of degree 4 and dimension 1 over Number Field in r with defining polynomial t^2 - 3\n",
       "Basis matrix:\n",
       "[    1     r r + 1 r + 1]"
      ]
     },
     "execution_count": 112,
     "metadata": {},
     "output_type": "execute_result"
    }
   ],
   "source": [
    "P1(A).right_kernel()"
   ]
  },
  {
   "cell_type": "code",
   "execution_count": 116,
   "metadata": {},
   "outputs": [
    {
     "data": {
      "text/plain": [
       "Vector space of degree 4 and dimension 1 over Number Field in r with defining polynomial t^2 - 3\n",
       "Basis matrix:\n",
       "[1 1 1 0]"
      ]
     },
     "execution_count": 116,
     "metadata": {},
     "output_type": "execute_result"
    }
   ],
   "source": [
    "P2(A).right_kernel()"
   ]
  },
  {
   "cell_type": "code",
   "execution_count": 117,
   "metadata": {},
   "outputs": [
    {
     "data": {
      "text/plain": [
       "Vector space of degree 4 and dimension 1 over Number Field in r with defining polynomial t^2 - 3\n",
       "Basis matrix:\n",
       "[1 1 0 1]"
      ]
     },
     "execution_count": 117,
     "metadata": {},
     "output_type": "execute_result"
    }
   ],
   "source": [
    "P3(A).right_kernel()"
   ]
  },
  {
   "cell_type": "code",
   "execution_count": 118,
   "metadata": {},
   "outputs": [
    {
     "data": {
      "text/plain": [
       "Vector space of degree 4 and dimension 1 over Number Field in r with defining polynomial t^2 - 3\n",
       "Basis matrix:\n",
       "[     1     -r -r + 1 -r + 1]"
      ]
     },
     "execution_count": 118,
     "metadata": {},
     "output_type": "execute_result"
    }
   ],
   "source": [
    "P4(A).right_kernel()"
   ]
  },
  {
   "cell_type": "code",
   "execution_count": 120,
   "metadata": {},
   "outputs": [],
   "source": [
    "BaC = column_matrix(K, [[1,r,r+1,r+1],[1,1,1,0],[1,1,0,1],[1,-r,-r+1,-r+1]])\n",
    "CaB=(BaC)^-1"
   ]
  },
  {
   "cell_type": "code",
   "execution_count": 121,
   "metadata": {},
   "outputs": [
    {
     "data": {
      "text/plain": [
       "[ r  0  0  0]\n",
       "[ 0  1  0  0]\n",
       "[ 0  0 -1  0]\n",
       "[ 0  0  0 -r]"
      ]
     },
     "execution_count": 121,
     "metadata": {},
     "output_type": "execute_result"
    }
   ],
   "source": [
    "CaB*A*BaC"
   ]
  },
  {
   "cell_type": "code",
   "execution_count": 122,
   "metadata": {},
   "outputs": [],
   "source": [
    "#iii)\n",
    "V=QQ^4\n",
    "def f(v):\n",
    "    x=v[0]\n",
    "    y=v[1]\n",
    "    z=v[2]\n",
    "    w=v[3]\n",
    "    \n",
    "    a=(9*x - 3*y - 6*w)/3\n",
    "    b=(3*x - 3*y + 6*z)/3\n",
    "    c=(8*x - 10*y + 5*z - w)/3\n",
    "    d=(10*x - 8*y + z + w)/3\n",
    "    \n",
    "    R=vector(QQ, [a,b,c,d])\n",
    "    \n",
    "    return R"
   ]
  },
  {
   "cell_type": "code",
   "execution_count": 123,
   "metadata": {},
   "outputs": [
    {
     "data": {
      "text/plain": [
       "[    3    -1     0    -2]\n",
       "[    1    -1     2     0]\n",
       "[  8/3 -10/3   5/3  -1/3]\n",
       "[ 10/3  -8/3   1/3   1/3]"
      ]
     },
     "execution_count": 123,
     "metadata": {},
     "output_type": "execute_result"
    }
   ],
   "source": [
    "A=column_matrix(QQ, [f([1,0,0,0]),f([0,1,0,0]),f([0,0,1,0]),f([0,0,0,1])])\n",
    "A"
   ]
  },
  {
   "cell_type": "code",
   "execution_count": 124,
   "metadata": {},
   "outputs": [
    {
     "data": {
      "text/plain": [
       "(t^2 - 2*t + 2) * (t^2 - 2*t + 10)"
      ]
     },
     "execution_count": 124,
     "metadata": {},
     "output_type": "execute_result"
    }
   ],
   "source": [
    "#Factorizacion del polinomio\n",
    "t=PolynomialRing(RationalField(), 't').gen()\n",
    "P=A.charpoly('t')\n",
    "factor(P)"
   ]
  },
  {
   "cell_type": "code",
   "execution_count": 130,
   "metadata": {},
   "outputs": [
    {
     "name": "stdout",
     "output_type": "stream",
     "text": [
      "(t^2 - 2*t + 2, t^2 - 2*t + 10)\n"
     ]
    }
   ],
   "source": [
    "P1=factor(P)[0][0]^factor(P)[0][1]\n",
    "P2=factor(P)[1][0]^factor(P)[1][1] \n",
    "\n",
    "\n",
    "print(P1,P2)"
   ]
  },
  {
   "cell_type": "code",
   "execution_count": 131,
   "metadata": {},
   "outputs": [],
   "source": [
    "R1=P/P1\n",
    "R2=P/P2"
   ]
  },
  {
   "cell_type": "code",
   "execution_count": 134,
   "metadata": {},
   "outputs": [
    {
     "name": "stdout",
     "output_type": "stream",
     "text": [
      "((1/8) * (t^2 - 2*t + 10), (-1/8) * (t^2 - 2*t + 2))\n"
     ]
    }
   ],
   "source": [
    "Q1=MCD([R1,R2])[1]\n",
    "Q2=MCD([R1,R2])[2]\n",
    "\n",
    "\n",
    "Pi1=Q1*R1\n",
    "Pi2=Q2*R2\n",
    "\n",
    "\n",
    "print(factor(Pi1), factor(Pi2))"
   ]
  },
  {
   "cell_type": "code",
   "execution_count": 136,
   "metadata": {},
   "outputs": [
    {
     "data": {
      "text/plain": [
       "Vector space of degree 4 and dimension 2 over Rational Field\n",
       "Basis matrix:\n",
       "[ 1  1  0  1]\n",
       "[ 0  0  1 -1]"
      ]
     },
     "execution_count": 136,
     "metadata": {},
     "output_type": "execute_result"
    }
   ],
   "source": [
    "P1(A).right_kernel()"
   ]
  },
  {
   "cell_type": "code",
   "execution_count": 137,
   "metadata": {},
   "outputs": [
    {
     "data": {
      "text/plain": [
       "Vector space of degree 4 and dimension 2 over Rational Field\n",
       "Basis matrix:\n",
       "[1 0 1 1]\n",
       "[0 1 1 1]"
      ]
     },
     "execution_count": 137,
     "metadata": {},
     "output_type": "execute_result"
    }
   ],
   "source": [
    "P2(A).right_kernel()"
   ]
  },
  {
   "cell_type": "code",
   "execution_count": 138,
   "metadata": {},
   "outputs": [],
   "source": [
    "BaC=column_matrix(QQ, [[1,1,0,1],[0,0,1,-1],[1,0,1,1],[0,1,1,1]])\n",
    "CaB=(BaC)^-1"
   ]
  },
  {
   "cell_type": "code",
   "execution_count": 139,
   "metadata": {},
   "outputs": [
    {
     "data": {
      "text/plain": [
       "[ 0  2  0  0]\n",
       "[-1  2  0  0]\n",
       "[ 0  0  1 -3]\n",
       "[ 0  0  3  1]"
      ]
     },
     "execution_count": 139,
     "metadata": {},
     "output_type": "execute_result"
    }
   ],
   "source": [
    "CaB*A*BaC"
   ]
  },
  {
   "cell_type": "code",
   "execution_count": 140,
   "metadata": {},
   "outputs": [
    {
     "data": {
      "text/plain": [
       "[    3    -1     0    -2]\n",
       "[    1    -1     2     0]\n",
       "[  8/3 -10/3   5/3  -1/3]\n",
       "[ 10/3  -8/3   1/3   1/3]"
      ]
     },
     "execution_count": 140,
     "metadata": {},
     "output_type": "execute_result"
    }
   ],
   "source": [
    "#iv) lo mismo pero sobre C\n",
    "A"
   ]
  },
  {
   "cell_type": "code",
   "execution_count": 141,
   "metadata": {},
   "outputs": [
    {
     "data": {
      "text/plain": [
       "(t^2 - 2*t + 2) * (t^2 - 2*t + 10)"
      ]
     },
     "execution_count": 141,
     "metadata": {},
     "output_type": "execute_result"
    }
   ],
   "source": [
    "#Factorizacion del polinomio\n",
    "t=PolynomialRing(RationalField(), 't').gen()\n",
    "P=A.charpoly('t')\n",
    "factor(P)"
   ]
  },
  {
   "cell_type": "code",
   "execution_count": 144,
   "metadata": {},
   "outputs": [
    {
     "data": {
      "text/plain": [
       "(t - 3*i - 1) * (t - i - 1) * (t + i - 1) * (t + 3*i - 1)"
      ]
     },
     "execution_count": 144,
     "metadata": {},
     "output_type": "execute_result"
    }
   ],
   "source": [
    "#Agregarle i al cuerpo\n",
    "K.<i> = QQ.extension(t^2 + 1)\n",
    "P=P.change_ring(K)\n",
    "\n",
    "factor(P)"
   ]
  },
  {
   "cell_type": "code",
   "execution_count": 147,
   "metadata": {},
   "outputs": [
    {
     "name": "stdout",
     "output_type": "stream",
     "text": [
      "(t - 3*i - 1, t - i - 1, t + i - 1, t + 3*i - 1)\n"
     ]
    }
   ],
   "source": [
    "#Ahora sí\n",
    "P1=factor(P)[0][0]^factor(P)[0][1]\n",
    "P2=factor(P)[1][0]^factor(P)[1][1] \n",
    "P3=factor(P)[2][0]^factor(P)[2][1] \n",
    "P4=factor(P)[3][0]^factor(P)[3][1] \n",
    "\n",
    "print(P1,P2,P3,P4)"
   ]
  },
  {
   "cell_type": "code",
   "execution_count": 148,
   "metadata": {},
   "outputs": [],
   "source": [
    "R1=P/P1\n",
    "R2=P/P2\n",
    "R3=P/P3\n",
    "R4=P/P4"
   ]
  },
  {
   "cell_type": "code",
   "execution_count": 149,
   "metadata": {},
   "outputs": [
    {
     "name": "stdout",
     "output_type": "stream",
     "text": [
      "((1/48*i) * (t - i - 1) * (t + i - 1) * (t + 3*i - 1), (1/384*i) * (t - 3*i - 1) * (t + i - 1) * (t + 3*i - 1) * (t^2 + (6*i - 2)*t - 6*i - 16), (-1/768) * (t - 3*i - 1) * (t - i - 1) * (t + 3*i - 1) * (t + 5*i - 1) * (t^2 + (6*i - 2)*t - 6*i - 16), (1/768) * (t - 3*i - 1) * (t - i - 1) * (t + i - 1) * (t + 5*i - 1) * (t^2 + (6*i - 2)*t - 6*i - 16))\n"
     ]
    }
   ],
   "source": [
    "Q1=MCD([R1,R2,R3,R4])[1]\n",
    "Q2=MCD([R1,R2,R3,R4])[2]\n",
    "Q3=MCD([R1,R2,R3,R4])[3]\n",
    "Q4=MCD([R1,R2,R3,R4])[4]\n",
    "\n",
    "Pi1=Q1*R1\n",
    "Pi2=Q2*R2\n",
    "Pi3=Q3*R3\n",
    "Pi4=Q4*R4\n",
    "\n",
    "print(factor(Pi1), factor(Pi2), factor(Pi3), factor(Pi4))"
   ]
  },
  {
   "cell_type": "code",
   "execution_count": 150,
   "metadata": {},
   "outputs": [
    {
     "data": {
      "text/plain": [
       "Vector space of degree 4 and dimension 1 over Number Field in i with defining polynomial t^2 + 1\n",
       "Basis matrix:\n",
       "[     1     -i -i + 1 -i + 1]"
      ]
     },
     "execution_count": 150,
     "metadata": {},
     "output_type": "execute_result"
    }
   ],
   "source": [
    "P1(A).right_kernel()"
   ]
  },
  {
   "cell_type": "code",
   "execution_count": 151,
   "metadata": {},
   "outputs": [
    {
     "data": {
      "text/plain": [
       "Vector space of degree 4 and dimension 1 over Number Field in i with defining polynomial t^2 + 1\n",
       "Basis matrix:\n",
       "[           1            1  1/2*i + 1/2 -1/2*i + 1/2]"
      ]
     },
     "execution_count": 151,
     "metadata": {},
     "output_type": "execute_result"
    }
   ],
   "source": [
    "P2(A).right_kernel()"
   ]
  },
  {
   "cell_type": "code",
   "execution_count": 152,
   "metadata": {},
   "outputs": [
    {
     "data": {
      "text/plain": [
       "Vector space of degree 4 and dimension 1 over Number Field in i with defining polynomial t^2 + 1\n",
       "Basis matrix:\n",
       "[           1            1 -1/2*i + 1/2  1/2*i + 1/2]"
      ]
     },
     "execution_count": 152,
     "metadata": {},
     "output_type": "execute_result"
    }
   ],
   "source": [
    "P3(A).right_kernel()"
   ]
  },
  {
   "cell_type": "code",
   "execution_count": 158,
   "metadata": {},
   "outputs": [
    {
     "data": {
      "text/plain": [
       "Vector space of degree 4 and dimension 1 over Number Field in i with defining polynomial t^2 + 1\n",
       "Basis matrix:\n",
       "[    1     i i + 1 i + 1]"
      ]
     },
     "execution_count": 158,
     "metadata": {},
     "output_type": "execute_result"
    }
   ],
   "source": [
    "P4(A).right_kernel()"
   ]
  },
  {
   "cell_type": "code",
   "execution_count": 159,
   "metadata": {},
   "outputs": [],
   "source": [
    "BaC = column_matrix(K, [[1,-i,-i+1, -i+1],[1,1,1/2*i + 1/2, -1/2*i + 1/2],[1,1,-1/2*i + 1/2,1/2*i + 1/2],[1,i,i+1,i+1]])\n",
    "CaB=(BaC)^-1"
   ]
  },
  {
   "cell_type": "code",
   "execution_count": 160,
   "metadata": {},
   "outputs": [
    {
     "data": {
      "text/plain": [
       "[ 3*i + 1        0        0        0]\n",
       "[       0    i + 1        0        0]\n",
       "[       0        0   -i + 1        0]\n",
       "[       0        0        0 -3*i + 1]"
      ]
     },
     "execution_count": 160,
     "metadata": {},
     "output_type": "execute_result"
    }
   ],
   "source": [
    "CaB*A*BaC"
   ]
  },
  {
   "cell_type": "code",
   "execution_count": null,
   "metadata": {},
   "outputs": [],
   "source": []
  },
  {
   "cell_type": "code",
   "execution_count": null,
   "metadata": {},
   "outputs": [],
   "source": []
  }
 ],
 "metadata": {
  "kernelspec": {
   "display_name": "SageMath 8.8",
   "language": "sage",
   "name": "sagemath"
  },
  "language_info": {
   "codemirror_mode": {
    "name": "ipython",
    "version": 2
   },
   "file_extension": ".py",
   "mimetype": "text/x-python",
   "name": "python",
   "nbconvert_exporter": "python",
   "pygments_lexer": "ipython2",
   "version": "2.7.15"
  }
 },
 "nbformat": 4,
 "nbformat_minor": 2
}
