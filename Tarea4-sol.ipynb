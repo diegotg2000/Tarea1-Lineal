{
 "cells": [
  {
   "cell_type": "code",
   "execution_count": 88,
   "metadata": {},
   "outputs": [],
   "source": [
    "#i)\n",
    "V=QQ^3\n",
    "def f(v):\n",
    "    x=v[0]\n",
    "    y=v[1]\n",
    "    z=v[2]\n",
    "    \n",
    "    a=4*x\n",
    "    b=3*x + y - 3*z\n",
    "    c=3*x - 3*y + z\n",
    "    \n",
    "    w=vector(QQ,[a,b,c])\n",
    "    return w"
   ]
  },
  {
   "cell_type": "code",
   "execution_count": 89,
   "metadata": {},
   "outputs": [
    {
     "data": {
      "text/plain": [
       "[ 4  0  0]\n",
       "[ 3  1 -3]\n",
       "[ 3 -3  1]"
      ]
     },
     "execution_count": 89,
     "metadata": {},
     "output_type": "execute_result"
    }
   ],
   "source": [
    "#Rep matricial\n",
    "A=column_matrix([f([1,0,0]),f([0,1,0]),f([0,0,1])])\n",
    "A"
   ]
  },
  {
   "cell_type": "code",
   "execution_count": 90,
   "metadata": {},
   "outputs": [
    {
     "data": {
      "text/plain": [
       "(t + 2) * (t - 4)^2"
      ]
     },
     "execution_count": 90,
     "metadata": {},
     "output_type": "execute_result"
    }
   ],
   "source": [
    "#Factorizacion del polinomio\n",
    "t=PolynomialRing(RationalField(), 't').gen()\n",
    "P=A.charpoly('t')\n",
    "P1,P2=factor(P)\n",
    "factor(P)"
   ]
  },
  {
   "cell_type": "code",
   "execution_count": 91,
   "metadata": {},
   "outputs": [],
   "source": [
    "P1 = (t+2)\n",
    "P2 = (t-4)^2\n",
    "P12, Q1, Q2 = xgcd(P1,P2)\n",
    "Pi1=Q2*P2\n",
    "Pi2=Q1*P1"
   ]
  },
  {
   "cell_type": "code",
   "execution_count": 92,
   "metadata": {},
   "outputs": [],
   "source": [
    "Pr1=Pi1(A)\n",
    "Pr2=Pi2(A)"
   ]
  },
  {
   "cell_type": "code",
   "execution_count": 93,
   "metadata": {},
   "outputs": [
    {
     "name": "stdout",
     "output_type": "stream",
     "text": [
      "('Pi1=', (1/36) * (t - 4)^2, ' y Pi2=', (-1/36) * (t - 10) * (t + 2))\n"
     ]
    }
   ],
   "source": [
    "#Polinomios\n",
    "print(\"Pi1=\",factor(Pi1),' y Pi2=',factor(Pi2))"
   ]
  },
  {
   "cell_type": "code",
   "execution_count": 94,
   "metadata": {
    "scrolled": true
   },
   "outputs": [
    {
     "data": {
      "text/plain": [
       "[0 0 0]\n",
       "[0 0 0]\n",
       "[0 0 0]"
      ]
     },
     "execution_count": 94,
     "metadata": {},
     "output_type": "execute_result"
    }
   ],
   "source": [
    "#Verificamos que las matrices de proyeccion sean en efecto \n",
    "#proyecciones (A^2 = A) y que la suma de la identidad\n",
    "Pr1^2-Pr1"
   ]
  },
  {
   "cell_type": "code",
   "execution_count": 95,
   "metadata": {
    "scrolled": false
   },
   "outputs": [
    {
     "data": {
      "text/plain": [
       "[0 0 0]\n",
       "[0 0 0]\n",
       "[0 0 0]"
      ]
     },
     "execution_count": 95,
     "metadata": {},
     "output_type": "execute_result"
    }
   ],
   "source": [
    "Pr2^2 - Pr2"
   ]
  },
  {
   "cell_type": "code",
   "execution_count": 96,
   "metadata": {
    "scrolled": true
   },
   "outputs": [
    {
     "data": {
      "text/plain": [
       "[1 0 0]\n",
       "[0 1 0]\n",
       "[0 0 1]"
      ]
     },
     "execution_count": 96,
     "metadata": {},
     "output_type": "execute_result"
    }
   ],
   "source": [
    "Pr1+Pr2"
   ]
  },
  {
   "cell_type": "code",
   "execution_count": 97,
   "metadata": {},
   "outputs": [],
   "source": [
    "#ii)\n",
    "V=QQ^3\n",
    "def f(v):\n",
    "    x=v[0]\n",
    "    y=v[1]\n",
    "    z=v[2]\n",
    "    \n",
    "    a=5*x - y + z\n",
    "    b=5*x - y -3*z\n",
    "    c=4*x - 4*y\n",
    "    \n",
    "    a=0.5*a\n",
    "    b=0.5*b\n",
    "    c=0.5*c\n",
    "    \n",
    "    w=vector(QQ,[a,b,c])\n",
    "    return w"
   ]
  },
  {
   "cell_type": "code",
   "execution_count": 98,
   "metadata": {},
   "outputs": [
    {
     "data": {
      "text/plain": [
       "[ 5/2 -1/2  1/2]\n",
       "[ 5/2 -1/2 -3/2]\n",
       "[   2   -2    0]"
      ]
     },
     "execution_count": 98,
     "metadata": {},
     "output_type": "execute_result"
    }
   ],
   "source": [
    "#Rep matricial\n",
    "A=column_matrix([f([1,0,0]),f([0,1,0]),f([0,0,1])])\n",
    "A"
   ]
  },
  {
   "cell_type": "code",
   "execution_count": 99,
   "metadata": {},
   "outputs": [
    {
     "data": {
      "text/plain": [
       "(t + 2) * (t - 2)^2"
      ]
     },
     "execution_count": 99,
     "metadata": {},
     "output_type": "execute_result"
    }
   ],
   "source": [
    "#Factorizacion del polinomio\n",
    "t=PolynomialRing(RationalField(), 't').gen()\n",
    "P=A.charpoly('t')\n",
    "P1,P2=factor(P)\n",
    "factor(P)"
   ]
  },
  {
   "cell_type": "code",
   "execution_count": 100,
   "metadata": {},
   "outputs": [],
   "source": [
    "P1 = (t+2)\n",
    "P2 = (t-2)^2\n",
    "P12, Q1, Q2 = xgcd(P1,P2)\n",
    "Pi1=Q2*P2\n",
    "Pi2=Q1*P1"
   ]
  },
  {
   "cell_type": "code",
   "execution_count": 101,
   "metadata": {},
   "outputs": [],
   "source": [
    "Pr1=Pi1(A)\n",
    "Pr2=Pi2(A)"
   ]
  },
  {
   "cell_type": "code",
   "execution_count": 102,
   "metadata": {},
   "outputs": [
    {
     "name": "stdout",
     "output_type": "stream",
     "text": [
      "('Pi1=', (1/16) * (t - 2)^2, ' y Pi2=', (-1/16) * (t - 6) * (t + 2))\n"
     ]
    }
   ],
   "source": [
    "#Polinomios\n",
    "print(\"Pi1=\",factor(Pi1),' y Pi2=',factor(Pi2))"
   ]
  },
  {
   "cell_type": "code",
   "execution_count": 103,
   "metadata": {
    "scrolled": true
   },
   "outputs": [
    {
     "data": {
      "text/plain": [
       "[0 0 0]\n",
       "[0 0 0]\n",
       "[0 0 0]"
      ]
     },
     "execution_count": 103,
     "metadata": {},
     "output_type": "execute_result"
    }
   ],
   "source": [
    "#Verificamos que las matrices de proyeccion sean en efecto \n",
    "#proyecciones (A^2 = A) y que la suma de la identidad\n",
    "Pr1^2-Pr1"
   ]
  },
  {
   "cell_type": "code",
   "execution_count": 104,
   "metadata": {
    "scrolled": false
   },
   "outputs": [
    {
     "data": {
      "text/plain": [
       "[0 0 0]\n",
       "[0 0 0]\n",
       "[0 0 0]"
      ]
     },
     "execution_count": 104,
     "metadata": {},
     "output_type": "execute_result"
    }
   ],
   "source": [
    "Pr2^2 - Pr2"
   ]
  },
  {
   "cell_type": "code",
   "execution_count": 105,
   "metadata": {
    "scrolled": false
   },
   "outputs": [
    {
     "data": {
      "text/plain": [
       "[1 0 0]\n",
       "[0 1 0]\n",
       "[0 0 1]"
      ]
     },
     "execution_count": 105,
     "metadata": {},
     "output_type": "execute_result"
    }
   ],
   "source": [
    "Pr1+Pr2"
   ]
  },
  {
   "cell_type": "code",
   "execution_count": 106,
   "metadata": {},
   "outputs": [],
   "source": [
    "#iii)\n",
    "V=QQ^4\n",
    "def f(v):\n",
    "    x=v[0]\n",
    "    y=v[1]\n",
    "    z=v[2]\n",
    "    w=v[3]\n",
    "    \n",
    "    a=11*x - y - z + 2*w\n",
    "    b=14*x + 2*y - 7*z - 4*w\n",
    "    c=13*x - 5*y + z -5*w\n",
    "    d=13*x - 8*y -5*z + 4*w\n",
    "    \n",
    "    a=a/3\n",
    "    b=b/3\n",
    "    c=c/3\n",
    "    d=d/3\n",
    "    \n",
    "    g=vector(QQ,[a,b,c,d])\n",
    "    return g"
   ]
  },
  {
   "cell_type": "code",
   "execution_count": 109,
   "metadata": {},
   "outputs": [
    {
     "data": {
      "text/plain": [
       "[11/3 -1/3 -1/3  2/3]\n",
       "[14/3  2/3 -7/3 -4/3]\n",
       "[13/3 -5/3  1/3 -5/3]\n",
       "[13/3 -8/3 -5/3  4/3]"
      ]
     },
     "execution_count": 109,
     "metadata": {},
     "output_type": "execute_result"
    }
   ],
   "source": [
    "#Rep matricial\n",
    "A=column_matrix([f([1,0,0,0]),f([0,1,0,0]),f([0,0,1,0]),f([0,0,0,1])])\n",
    "A"
   ]
  },
  {
   "cell_type": "code",
   "execution_count": 110,
   "metadata": {},
   "outputs": [
    {
     "data": {
      "text/plain": [
       "(t + 3) * (t - 3)^3"
      ]
     },
     "execution_count": 110,
     "metadata": {},
     "output_type": "execute_result"
    }
   ],
   "source": [
    "#Factorizacion del polinomio\n",
    "t=PolynomialRing(RationalField(), 't').gen()\n",
    "P=A.charpoly('t')\n",
    "P1,P2=factor(P)\n",
    "factor(P)"
   ]
  },
  {
   "cell_type": "code",
   "execution_count": 111,
   "metadata": {},
   "outputs": [],
   "source": [
    "P1 = (t+3)\n",
    "P2 = (t-3)^3\n",
    "P12, Q1, Q2 = xgcd(P1,P2)\n",
    "Pi1=Q2*P2\n",
    "Pi2=Q1*P1"
   ]
  },
  {
   "cell_type": "code",
   "execution_count": 112,
   "metadata": {},
   "outputs": [],
   "source": [
    "Pr1=Pi1(A)\n",
    "Pr2=Pi2(A)"
   ]
  },
  {
   "cell_type": "code",
   "execution_count": 113,
   "metadata": {},
   "outputs": [
    {
     "name": "stdout",
     "output_type": "stream",
     "text": [
      "('Pi1=', (-1/216) * (t - 3)^3, ' y Pi2=', (1/216) * (t + 3) * (t^2 - 12*t + 63))\n"
     ]
    }
   ],
   "source": [
    "#Polinomios\n",
    "print(\"Pi1=\",factor(Pi1),' y Pi2=',factor(Pi2))"
   ]
  },
  {
   "cell_type": "code",
   "execution_count": 114,
   "metadata": {
    "scrolled": true
   },
   "outputs": [
    {
     "data": {
      "text/plain": [
       "[0 0 0 0]\n",
       "[0 0 0 0]\n",
       "[0 0 0 0]\n",
       "[0 0 0 0]"
      ]
     },
     "execution_count": 114,
     "metadata": {},
     "output_type": "execute_result"
    }
   ],
   "source": [
    "#Verificamos que las matrices de proyeccion sean en efecto \n",
    "#proyecciones (A^2 = A) y que la suma de la identidad\n",
    "Pr1^2-Pr1"
   ]
  },
  {
   "cell_type": "code",
   "execution_count": 115,
   "metadata": {
    "scrolled": false
   },
   "outputs": [
    {
     "data": {
      "text/plain": [
       "[0 0 0 0]\n",
       "[0 0 0 0]\n",
       "[0 0 0 0]\n",
       "[0 0 0 0]"
      ]
     },
     "execution_count": 115,
     "metadata": {},
     "output_type": "execute_result"
    }
   ],
   "source": [
    "Pr2^2 - Pr2"
   ]
  },
  {
   "cell_type": "code",
   "execution_count": 116,
   "metadata": {
    "scrolled": true
   },
   "outputs": [
    {
     "data": {
      "text/plain": [
       "[1 0 0 0]\n",
       "[0 1 0 0]\n",
       "[0 0 1 0]\n",
       "[0 0 0 1]"
      ]
     },
     "execution_count": 116,
     "metadata": {},
     "output_type": "execute_result"
    }
   ],
   "source": [
    "Pr1+Pr2"
   ]
  },
  {
   "cell_type": "code",
   "execution_count": null,
   "metadata": {},
   "outputs": [],
   "source": []
  }
 ],
 "metadata": {
  "kernelspec": {
   "display_name": "SageMath 8.8",
   "language": "sage",
   "name": "sagemath"
  },
  "language_info": {
   "codemirror_mode": {
    "name": "ipython",
    "version": 2
   },
   "file_extension": ".py",
   "mimetype": "text/x-python",
   "name": "python",
   "nbconvert_exporter": "python",
   "pygments_lexer": "ipython2",
   "version": "2.7.15"
  }
 },
 "nbformat": 4,
 "nbformat_minor": 2
}
