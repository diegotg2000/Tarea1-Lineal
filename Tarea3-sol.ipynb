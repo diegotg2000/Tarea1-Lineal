{
 "cells": [
  {
   "cell_type": "code",
   "execution_count": 5,
   "metadata": {},
   "outputs": [],
   "source": [
    "V=QQ^3\n",
    "def f(v):\n",
    "    x=v[0]\n",
    "    y=v[1]\n",
    "    z=v[2]\n",
    "    \n",
    "    a=3*x-3*y-z\n",
    "    b=-y-4*z\n",
    "    c=5*x-7*y+2*z\n",
    "    w=vector(QQ, [a,b,c])\n",
    "    return w"
   ]
  },
  {
   "cell_type": "code",
   "execution_count": 8,
   "metadata": {},
   "outputs": [
    {
     "data": {
      "text/plain": [
       "[ 3 -3 -1]\n",
       "[ 0 -1 -4]\n",
       "[ 5 -7  2]"
      ]
     },
     "execution_count": 8,
     "metadata": {},
     "output_type": "execute_result"
    }
   ],
   "source": [
    "column_matrix([f([1,0,0]),f([0,1,0]),f([0,0,1])])\n"
   ]
  },
  {
   "cell_type": "code",
   "execution_count": 10,
   "metadata": {},
   "outputs": [],
   "source": [
    "V=QQ^4\n",
    "def f(v):\n",
    "    x=v[0]\n",
    "    y=v[1]\n",
    "    z=v[2]\n",
    "    w=v[3]\n",
    "    \n",
    "    a=x-y+z+w\n",
    "    b=-x-y-z\n",
    "    c=2*x-y-2*z-w\n",
    "    d=2*x-y-z\n",
    "    \n",
    "    r=vector(QQ, [a,b,c,d])\n",
    "    return r"
   ]
  },
  {
   "cell_type": "code",
   "execution_count": 8,
   "metadata": {},
   "outputs": [
    {
     "data": {
      "text/plain": [
       "[ 3 -3 -1]\n",
       "[ 0 -1 -4]\n",
       "[ 5 -7  2]"
      ]
     },
     "execution_count": 8,
     "metadata": {},
     "output_type": "execute_result"
    }
   ],
   "source": [
    "column_matrix([f([1,0,0]),f([0,1,0]),f([0,0,1]),f([0,0,0,1])])\n"
   ]
  },
  {
   "cell_type": "code",
   "execution_count": null,
   "metadata": {},
   "outputs": [],
   "source": []
  }
 ],
 "metadata": {
  "kernelspec": {
   "display_name": "SageMath 8.8",
   "language": "sage",
   "name": "sagemath"
  },
  "language_info": {
   "codemirror_mode": {
    "name": "ipython",
    "version": 2
   },
   "file_extension": ".py",
   "mimetype": "text/x-python",
   "name": "python",
   "nbconvert_exporter": "python",
   "pygments_lexer": "ipython2",
   "version": "2.7.15"
  }
 },
 "nbformat": 4,
 "nbformat_minor": 2
}
