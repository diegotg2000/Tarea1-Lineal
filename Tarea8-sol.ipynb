{
 "cells": [
  {
   "cell_type": "code",
   "execution_count": 68,
   "metadata": {},
   "outputs": [],
   "source": [
    "V=QQ^5"
   ]
  },
  {
   "cell_type": "code",
   "execution_count": 69,
   "metadata": {},
   "outputs": [],
   "source": [
    "v1=vector(QQ, [0,1,1,1,1])\n",
    "v2=vector(QQ, [1,0,1,1,1])\n",
    "v3=vector(QQ, [1,1,0,1,1])\n",
    "v4=vector(QQ, [1,1,1,0,1])\n",
    "v5=vector(QQ, [1,1,1,1,0])"
   ]
  },
  {
   "cell_type": "code",
   "execution_count": 70,
   "metadata": {},
   "outputs": [],
   "source": [
    "#i)U=<v1>\n",
    "A=matrix([v1])"
   ]
  },
  {
   "cell_type": "code",
   "execution_count": 71,
   "metadata": {},
   "outputs": [
    {
     "data": {
      "text/plain": [
       "[ 1  0  0  0  0]\n",
       "[ 0  1  0  0 -1]\n",
       "[ 0  0  1  0 -1]\n",
       "[ 0  0  0  1 -1]"
      ]
     },
     "execution_count": 71,
     "metadata": {},
     "output_type": "execute_result"
    }
   ],
   "source": [
    "B=matrix((A.right_kernel()).basis())\n",
    "B"
   ]
  },
  {
   "cell_type": "code",
   "execution_count": 72,
   "metadata": {},
   "outputs": [
    {
     "data": {
      "text/plain": [
       "[   1    0    0    0    0]\n",
       "[   0    1    0    0   -1]\n",
       "[   0 -1/2    1    0 -1/2]\n",
       "[   0 -1/3 -1/3    1 -1/3]"
      ]
     },
     "execution_count": 72,
     "metadata": {},
     "output_type": "execute_result"
    }
   ],
   "source": [
    "G,M=B.gram_schmidt()\n",
    "G"
   ]
  },
  {
   "cell_type": "code",
   "execution_count": 73,
   "metadata": {},
   "outputs": [],
   "source": [
    "u1=v1/sqrt(v1.dot_product(v1))\n",
    "w1=G[0]\n",
    "w2=G[1]\n",
    "w3=G[2]\n",
    "w4=G[3]\n",
    "w1=w1/sqrt(w1.dot_product(w1))\n",
    "w2=w2/sqrt(w2.dot_product(w2))\n",
    "w3=w3/sqrt(w3.dot_product(w3))\n",
    "w4=w4/sqrt(w4.dot_product(w4))"
   ]
  },
  {
   "cell_type": "code",
   "execution_count": 74,
   "metadata": {},
   "outputs": [
    {
     "name": "stdout",
     "output_type": "stream",
     "text": [
      "('Base de U= ', (0, 1/2, 1/2, 1/2, 1/2), '. Base de Uperp= ', (1, 0, 0, 0, 0), (0, 1/2*sqrt(2), 0, 0, -1/2*sqrt(2)), (0, -1/3*sqrt(3/2), 2/3*sqrt(3/2), 0, -1/3*sqrt(3/2)), (0, -1/2*sqrt(1/3), -1/2*sqrt(1/3), 3/2*sqrt(1/3), -1/2*sqrt(1/3)))\n"
     ]
    }
   ],
   "source": [
    "print('Base de U= ',u1,'. Base de Uperp= ',w1,w2,w3,w4)"
   ]
  },
  {
   "cell_type": "code",
   "execution_count": 75,
   "metadata": {},
   "outputs": [],
   "source": [
    "C=column_matrix([u1,w1,w2,w3,w4])"
   ]
  },
  {
   "cell_type": "code",
   "execution_count": 76,
   "metadata": {},
   "outputs": [
    {
     "data": {
      "text/plain": [
       "[1 0 0 0 0]\n",
       "[0 1 0 0 0]\n",
       "[0 0 1 0 0]\n",
       "[0 0 0 1 0]\n",
       "[0 0 0 0 1]"
      ]
     },
     "execution_count": 76,
     "metadata": {},
     "output_type": "execute_result"
    }
   ],
   "source": [
    "C.transpose()*C"
   ]
  },
  {
   "cell_type": "code",
   "execution_count": 77,
   "metadata": {},
   "outputs": [
    {
     "data": {
      "text/plain": [
       "[1 0 0 0 0]\n",
       "[0 1 0 0 0]\n",
       "[0 0 1 0 0]\n",
       "[0 0 0 1 0]\n",
       "[0 0 0 0 1]"
      ]
     },
     "execution_count": 77,
     "metadata": {},
     "output_type": "execute_result"
    }
   ],
   "source": [
    "C*C.transpose()"
   ]
  },
  {
   "cell_type": "code",
   "execution_count": 97,
   "metadata": {},
   "outputs": [],
   "source": [
    "A1=column_matrix([u1])\n",
    "A2=column_matrix([w1,w2,w3,w4])\n",
    "\n",
    "PperU=A1*(A1.transpose()*A1).inverse()*A1.transpose()\n",
    "PperUper=A2*(A2.transpose()*A2).inverse()*A2.transpose()"
   ]
  },
  {
   "cell_type": "code",
   "execution_count": 98,
   "metadata": {},
   "outputs": [
    {
     "data": {
      "text/plain": [
       "(\n",
       "[  0   0   0   0   0]  [   1    0    0    0    0]\n",
       "[  0 1/4 1/4 1/4 1/4]  [   0  3/4 -1/4 -1/4 -1/4]\n",
       "[  0 1/4 1/4 1/4 1/4]  [   0 -1/4  3/4 -1/4 -1/4]\n",
       "[  0 1/4 1/4 1/4 1/4]  [   0 -1/4 -1/4  3/4 -1/4]\n",
       "[  0 1/4 1/4 1/4 1/4], [   0 -1/4 -1/4 -1/4  3/4]\n",
       ")"
      ]
     },
     "execution_count": 98,
     "metadata": {},
     "output_type": "execute_result"
    }
   ],
   "source": [
    "PperU, PperUper"
   ]
  },
  {
   "cell_type": "code",
   "execution_count": 110,
   "metadata": {},
   "outputs": [
    {
     "data": {
      "text/plain": [
       "[0 1 1 1 1]\n",
       "[1 0 1 1 1]"
      ]
     },
     "execution_count": 110,
     "metadata": {},
     "output_type": "execute_result"
    }
   ],
   "source": [
    "#i)U=<v1,v2>\n",
    "A=matrix([v1,v2])\n",
    "A"
   ]
  },
  {
   "cell_type": "code",
   "execution_count": 111,
   "metadata": {},
   "outputs": [
    {
     "data": {
      "text/plain": [
       "[   0    1    1    1    1]\n",
       "[   1 -3/4  1/4  1/4  1/4]"
      ]
     },
     "execution_count": 111,
     "metadata": {},
     "output_type": "execute_result"
    }
   ],
   "source": [
    "F,M=A.gram_schmidt()\n",
    "F"
   ]
  },
  {
   "cell_type": "code",
   "execution_count": 112,
   "metadata": {},
   "outputs": [
    {
     "data": {
      "text/plain": [
       "[ 1  1  0  0 -1]\n",
       "[ 0  0  1  0 -1]\n",
       "[ 0  0  0  1 -1]"
      ]
     },
     "execution_count": 112,
     "metadata": {},
     "output_type": "execute_result"
    }
   ],
   "source": [
    "B=matrix((A.right_kernel()).basis())\n",
    "B"
   ]
  },
  {
   "cell_type": "code",
   "execution_count": 113,
   "metadata": {},
   "outputs": [
    {
     "data": {
      "text/plain": [
       "[   1    1    0    0   -1]\n",
       "[-1/3 -1/3    1    0 -2/3]\n",
       "[-1/5 -1/5 -2/5    1 -2/5]"
      ]
     },
     "execution_count": 113,
     "metadata": {},
     "output_type": "execute_result"
    }
   ],
   "source": [
    "G,M=B.gram_schmidt()\n",
    "G"
   ]
  },
  {
   "cell_type": "code",
   "execution_count": 114,
   "metadata": {},
   "outputs": [],
   "source": [
    "u1=F[0]\n",
    "u2=F[1]\n",
    "w1=G[0]\n",
    "w2=G[1]\n",
    "w3=G[2]\n",
    "w1=w1/sqrt(w1.dot_product(w1))\n",
    "w2=w2/sqrt(w2.dot_product(w2))\n",
    "w3=w3/sqrt(w3.dot_product(w3))\n",
    "u1=u1/sqrt(u1.dot_product(u1))\n",
    "u2=u2/sqrt(u2.dot_product(u2))"
   ]
  },
  {
   "cell_type": "code",
   "execution_count": 115,
   "metadata": {},
   "outputs": [
    {
     "name": "stdout",
     "output_type": "stream",
     "text": [
      "('Base de U= ', (0, 1/2, 1/2, 1/2, 1/2), (2/7*sqrt(7), -3/14*sqrt(7), 1/14*sqrt(7), 1/14*sqrt(7), 1/14*sqrt(7)), '. Base de Uperp= ', (1/3*sqrt(3), 1/3*sqrt(3), 0, 0, -1/3*sqrt(3)), (-1/5*sqrt(5/3), -1/5*sqrt(5/3), 3/5*sqrt(5/3), 0, -2/5*sqrt(5/3)), (-1/7*sqrt(7/5), -1/7*sqrt(7/5), -2/7*sqrt(7/5), 5/7*sqrt(7/5), -2/7*sqrt(7/5)))\n"
     ]
    }
   ],
   "source": [
    "print('Base de U= ',u1,u2,'. Base de Uperp= ',w1,w2,w3)"
   ]
  },
  {
   "cell_type": "code",
   "execution_count": 116,
   "metadata": {},
   "outputs": [],
   "source": [
    "C=column_matrix([u1,u2,w1,w2,w3])"
   ]
  },
  {
   "cell_type": "code",
   "execution_count": 117,
   "metadata": {},
   "outputs": [
    {
     "data": {
      "text/plain": [
       "[1 0 0 0 0]\n",
       "[0 1 0 0 0]\n",
       "[0 0 1 0 0]\n",
       "[0 0 0 1 0]\n",
       "[0 0 0 0 1]"
      ]
     },
     "execution_count": 117,
     "metadata": {},
     "output_type": "execute_result"
    }
   ],
   "source": [
    "C.transpose()*C"
   ]
  },
  {
   "cell_type": "code",
   "execution_count": 118,
   "metadata": {},
   "outputs": [
    {
     "data": {
      "text/plain": [
       "[1 0 0 0 0]\n",
       "[0 1 0 0 0]\n",
       "[0 0 1 0 0]\n",
       "[0 0 0 1 0]\n",
       "[0 0 0 0 1]"
      ]
     },
     "execution_count": 118,
     "metadata": {},
     "output_type": "execute_result"
    }
   ],
   "source": [
    "C*C.transpose()"
   ]
  },
  {
   "cell_type": "code",
   "execution_count": 119,
   "metadata": {},
   "outputs": [
    {
     "data": {
      "text/plain": [
       "(\n",
       "[ 4/7 -3/7  1/7  1/7  1/7]  [ 3/7  3/7 -1/7 -1/7 -1/7]\n",
       "[-3/7  4/7  1/7  1/7  1/7]  [ 3/7  3/7 -1/7 -1/7 -1/7]\n",
       "[ 1/7  1/7  2/7  2/7  2/7]  [-1/7 -1/7  5/7 -2/7 -2/7]\n",
       "[ 1/7  1/7  2/7  2/7  2/7]  [-1/7 -1/7 -2/7  5/7 -2/7]\n",
       "[ 1/7  1/7  2/7  2/7  2/7], [-1/7 -1/7 -2/7 -2/7  5/7]\n",
       ")"
      ]
     },
     "execution_count": 119,
     "metadata": {},
     "output_type": "execute_result"
    }
   ],
   "source": [
    "A1=column_matrix([u1,u2])\n",
    "A2=column_matrix([w1,w2,w3])\n",
    "\n",
    "PperU=A1*(A1.transpose()*A1).inverse()*A1.transpose()\n",
    "PperUper=A2*(A2.transpose()*A2).inverse()*A2.transpose()\n",
    "\n",
    "PperU, PperUper"
   ]
  },
  {
   "cell_type": "code",
   "execution_count": 123,
   "metadata": {},
   "outputs": [
    {
     "data": {
      "text/plain": [
       "[0 1 1 1 1]\n",
       "[1 0 1 1 1]\n",
       "[1 1 0 1 1]"
      ]
     },
     "execution_count": 123,
     "metadata": {},
     "output_type": "execute_result"
    }
   ],
   "source": [
    "#i)U=<v1,v2,v3>\n",
    "A=matrix([v1,v2,v3])\n",
    "A"
   ]
  },
  {
   "cell_type": "code",
   "execution_count": 124,
   "metadata": {},
   "outputs": [
    {
     "data": {
      "text/plain": [
       "[   0    1    1    1    1]\n",
       "[   1 -3/4  1/4  1/4  1/4]\n",
       "[ 4/7  4/7 -6/7  1/7  1/7]"
      ]
     },
     "execution_count": 124,
     "metadata": {},
     "output_type": "execute_result"
    }
   ],
   "source": [
    "F,M=A.gram_schmidt()\n",
    "F"
   ]
  },
  {
   "cell_type": "code",
   "execution_count": 125,
   "metadata": {},
   "outputs": [
    {
     "data": {
      "text/plain": [
       "[ 1  1  1  0 -2]\n",
       "[ 0  0  0  1 -1]"
      ]
     },
     "execution_count": 125,
     "metadata": {},
     "output_type": "execute_result"
    }
   ],
   "source": [
    "B=matrix((A.right_kernel()).basis())\n",
    "B"
   ]
  },
  {
   "cell_type": "code",
   "execution_count": 126,
   "metadata": {},
   "outputs": [
    {
     "data": {
      "text/plain": [
       "[   1    1    1    0   -2]\n",
       "[-2/7 -2/7 -2/7    1 -3/7]"
      ]
     },
     "execution_count": 126,
     "metadata": {},
     "output_type": "execute_result"
    }
   ],
   "source": [
    "G,M=B.gram_schmidt()\n",
    "G"
   ]
  },
  {
   "cell_type": "code",
   "execution_count": 127,
   "metadata": {},
   "outputs": [],
   "source": [
    "u1=F[0]\n",
    "u2=F[1]\n",
    "u3=F[2]\n",
    "w1=G[0]\n",
    "w2=G[1]\n",
    "w1=w1/sqrt(w1.dot_product(w1))\n",
    "w2=w2/sqrt(w2.dot_product(w2))\n",
    "u1=u1/sqrt(u1.dot_product(u1))\n",
    "u2=u2/sqrt(u2.dot_product(u2))\n",
    "u3=u3/sqrt(u3.dot_product(u3))"
   ]
  },
  {
   "cell_type": "code",
   "execution_count": 129,
   "metadata": {},
   "outputs": [
    {
     "name": "stdout",
     "output_type": "stream",
     "text": [
      "('Base de U= ', (0, 1/2, 1/2, 1/2, 1/2), (2/7*sqrt(7), -3/14*sqrt(7), 1/14*sqrt(7), 1/14*sqrt(7), 1/14*sqrt(7)), (2/5*sqrt(10/7), 2/5*sqrt(10/7), -3/5*sqrt(10/7), 1/10*sqrt(10/7), 1/10*sqrt(10/7)), '. Base de Uperp= ', (1/7*sqrt(7), 1/7*sqrt(7), 1/7*sqrt(7), 0, -2/7*sqrt(7)), (-1/5*sqrt(10/7), -1/5*sqrt(10/7), -1/5*sqrt(10/7), 7/10*sqrt(10/7), -3/10*sqrt(10/7)))\n"
     ]
    }
   ],
   "source": [
    "print('Base de U= ',u1,u2,u3,'. Base de Uperp= ',w1,w2)"
   ]
  },
  {
   "cell_type": "code",
   "execution_count": 132,
   "metadata": {},
   "outputs": [],
   "source": [
    "C=column_matrix([u1,u2,u3,w1,w2])"
   ]
  },
  {
   "cell_type": "code",
   "execution_count": 133,
   "metadata": {},
   "outputs": [
    {
     "data": {
      "text/plain": [
       "[1 0 0 0 0]\n",
       "[0 1 0 0 0]\n",
       "[0 0 1 0 0]\n",
       "[0 0 0 1 0]\n",
       "[0 0 0 0 1]"
      ]
     },
     "execution_count": 133,
     "metadata": {},
     "output_type": "execute_result"
    }
   ],
   "source": [
    "C.transpose()*C"
   ]
  },
  {
   "cell_type": "code",
   "execution_count": 134,
   "metadata": {},
   "outputs": [
    {
     "data": {
      "text/plain": [
       "[1 0 0 0 0]\n",
       "[0 1 0 0 0]\n",
       "[0 0 1 0 0]\n",
       "[0 0 0 1 0]\n",
       "[0 0 0 0 1]"
      ]
     },
     "execution_count": 134,
     "metadata": {},
     "output_type": "execute_result"
    }
   ],
   "source": [
    "C*C.transpose()"
   ]
  },
  {
   "cell_type": "code",
   "execution_count": 135,
   "metadata": {},
   "outputs": [
    {
     "data": {
      "text/plain": [
       "(\n",
       "[ 4/5 -1/5 -1/5  1/5  1/5]  [  1/5   1/5   1/5  -1/5  -1/5]\n",
       "[-1/5  4/5 -1/5  1/5  1/5]  [  1/5   1/5   1/5  -1/5  -1/5]\n",
       "[-1/5 -1/5  4/5  1/5  1/5]  [  1/5   1/5   1/5  -1/5  -1/5]\n",
       "[ 1/5  1/5  1/5 3/10 3/10]  [ -1/5  -1/5  -1/5  7/10 -3/10]\n",
       "[ 1/5  1/5  1/5 3/10 3/10], [ -1/5  -1/5  -1/5 -3/10  7/10]\n",
       ")"
      ]
     },
     "execution_count": 135,
     "metadata": {},
     "output_type": "execute_result"
    }
   ],
   "source": [
    "A1=column_matrix([u1,u2,u3])\n",
    "A2=column_matrix([w1,w2])\n",
    "\n",
    "PperU=A1*(A1.transpose()*A1).inverse()*A1.transpose()\n",
    "PperUper=A2*(A2.transpose()*A2).inverse()*A2.transpose()\n",
    "\n",
    "PperU, PperUper"
   ]
  },
  {
   "cell_type": "code",
   "execution_count": 137,
   "metadata": {},
   "outputs": [
    {
     "data": {
      "text/plain": [
       "[0 1 1 1 1]\n",
       "[1 0 1 1 1]\n",
       "[1 1 0 1 1]\n",
       "[1 1 1 0 1]"
      ]
     },
     "execution_count": 137,
     "metadata": {},
     "output_type": "execute_result"
    }
   ],
   "source": [
    "#i)U=<v1,v2,v3,v4>\n",
    "A=matrix([v1,v2,v3,v4])\n",
    "A"
   ]
  },
  {
   "cell_type": "code",
   "execution_count": 138,
   "metadata": {},
   "outputs": [
    {
     "data": {
      "text/plain": [
       "[    0     1     1     1     1]\n",
       "[    1  -3/4   1/4   1/4   1/4]\n",
       "[  4/7   4/7  -6/7   1/7   1/7]\n",
       "[  2/5   2/5   2/5 -9/10  1/10]"
      ]
     },
     "execution_count": 138,
     "metadata": {},
     "output_type": "execute_result"
    }
   ],
   "source": [
    "F,M=A.gram_schmidt()\n",
    "F"
   ]
  },
  {
   "cell_type": "code",
   "execution_count": 139,
   "metadata": {},
   "outputs": [
    {
     "data": {
      "text/plain": [
       "[ 1  1  1  1 -3]"
      ]
     },
     "execution_count": 139,
     "metadata": {},
     "output_type": "execute_result"
    }
   ],
   "source": [
    "B=matrix((A.right_kernel()).basis())\n",
    "B"
   ]
  },
  {
   "cell_type": "code",
   "execution_count": 140,
   "metadata": {},
   "outputs": [
    {
     "data": {
      "text/plain": [
       "[ 1  1  1  1 -3]"
      ]
     },
     "execution_count": 140,
     "metadata": {},
     "output_type": "execute_result"
    }
   ],
   "source": [
    "G,M=B.gram_schmidt()\n",
    "G"
   ]
  },
  {
   "cell_type": "code",
   "execution_count": 143,
   "metadata": {},
   "outputs": [],
   "source": [
    "u1=F[0]\n",
    "u2=F[1]\n",
    "u3=F[2]\n",
    "u4=F[3]\n",
    "w1=G[0]\n",
    "w1=w1/sqrt(w1.dot_product(w1))\n",
    "u1=u1/sqrt(u1.dot_product(u1))\n",
    "u2=u2/sqrt(u2.dot_product(u2))\n",
    "u3=u3/sqrt(u3.dot_product(u3))\n",
    "u4=u4/sqrt(u4.dot_product(u4))"
   ]
  },
  {
   "cell_type": "code",
   "execution_count": 144,
   "metadata": {},
   "outputs": [
    {
     "name": "stdout",
     "output_type": "stream",
     "text": [
      "('Base de U= ', (0, 1/2, 1/2, 1/2, 1/2), (2/7*sqrt(7), -3/14*sqrt(7), 1/14*sqrt(7), 1/14*sqrt(7), 1/14*sqrt(7)), (2/5*sqrt(10/7), 2/5*sqrt(10/7), -3/5*sqrt(10/7), 1/10*sqrt(10/7), 1/10*sqrt(10/7)), (4/13*sqrt(13/10), 4/13*sqrt(13/10), 4/13*sqrt(13/10), -9/13*sqrt(13/10), 1/13*sqrt(13/10)), '. Base de Uperp= ', (1/13*sqrt(13), 1/13*sqrt(13), 1/13*sqrt(13), 1/13*sqrt(13), -3/13*sqrt(13)))\n"
     ]
    }
   ],
   "source": [
    "print('Base de U= ',u1,u2,u3,u4,'. Base de Uperp= ',w1)"
   ]
  },
  {
   "cell_type": "code",
   "execution_count": 145,
   "metadata": {},
   "outputs": [],
   "source": [
    "C=column_matrix([u1,u2,u3,u4,w1])"
   ]
  },
  {
   "cell_type": "code",
   "execution_count": 146,
   "metadata": {},
   "outputs": [
    {
     "data": {
      "text/plain": [
       "[1 0 0 0 0]\n",
       "[0 1 0 0 0]\n",
       "[0 0 1 0 0]\n",
       "[0 0 0 1 0]\n",
       "[0 0 0 0 1]"
      ]
     },
     "execution_count": 146,
     "metadata": {},
     "output_type": "execute_result"
    }
   ],
   "source": [
    "C.transpose()*C"
   ]
  },
  {
   "cell_type": "code",
   "execution_count": 147,
   "metadata": {},
   "outputs": [
    {
     "data": {
      "text/plain": [
       "[1 0 0 0 0]\n",
       "[0 1 0 0 0]\n",
       "[0 0 1 0 0]\n",
       "[0 0 0 1 0]\n",
       "[0 0 0 0 1]"
      ]
     },
     "execution_count": 147,
     "metadata": {},
     "output_type": "execute_result"
    }
   ],
   "source": [
    "C*C.transpose()"
   ]
  },
  {
   "cell_type": "code",
   "execution_count": 149,
   "metadata": {},
   "outputs": [
    {
     "data": {
      "text/plain": [
       "(\n",
       "[12/13 -1/13 -1/13 -1/13  3/13]  [ 1/13  1/13  1/13  1/13 -3/13]\n",
       "[-1/13 12/13 -1/13 -1/13  3/13]  [ 1/13  1/13  1/13  1/13 -3/13]\n",
       "[-1/13 -1/13 12/13 -1/13  3/13]  [ 1/13  1/13  1/13  1/13 -3/13]\n",
       "[-1/13 -1/13 -1/13 12/13  3/13]  [ 1/13  1/13  1/13  1/13 -3/13]\n",
       "[ 3/13  3/13  3/13  3/13  4/13], [-3/13 -3/13 -3/13 -3/13  9/13]\n",
       ")"
      ]
     },
     "execution_count": 149,
     "metadata": {},
     "output_type": "execute_result"
    }
   ],
   "source": [
    "A1=column_matrix([u1,u2,u3,u4])\n",
    "A2=column_matrix([w1])\n",
    "\n",
    "PperU=A1*(A1.transpose()*A1).inverse()*A1.transpose()\n",
    "PperUper=A2*(A2.transpose()*A2).inverse()*A2.transpose()\n",
    "\n",
    "PperU, PperUper"
   ]
  },
  {
   "cell_type": "code",
   "execution_count": null,
   "metadata": {},
   "outputs": [],
   "source": []
  },
  {
   "cell_type": "code",
   "execution_count": null,
   "metadata": {},
   "outputs": [],
   "source": []
  }
 ],
 "metadata": {
  "kernelspec": {
   "display_name": "SageMath 8.8",
   "language": "sage",
   "name": "sagemath"
  },
  "language_info": {
   "codemirror_mode": {
    "name": "ipython",
    "version": 2
   },
   "file_extension": ".py",
   "mimetype": "text/x-python",
   "name": "python",
   "nbconvert_exporter": "python",
   "pygments_lexer": "ipython2",
   "version": "2.7.15"
  }
 },
 "nbformat": 4,
 "nbformat_minor": 2
}
