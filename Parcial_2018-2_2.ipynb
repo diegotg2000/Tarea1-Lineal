{
 "cells": [
  {
   "cell_type": "code",
   "execution_count": 1,
   "metadata": {},
   "outputs": [],
   "source": [
    "#Primer punto\n",
    "V=QQ^4\n",
    "t=PolynomialRing(RationalField(), 't').gen()\n",
    "K.<i>=QQ.extension(t^2+1)"
   ]
  },
  {
   "cell_type": "code",
   "execution_count": 20,
   "metadata": {},
   "outputs": [
    {
     "data": {
      "text/plain": [
       "[     2  i - 1      2  i + 1]\n",
       "[-i - 1      4 -i - 1    2*i]\n",
       "[     2  i - 1      2  i + 1]\n",
       "[-i + 1   -2*i -i + 1      4]"
      ]
     },
     "execution_count": 20,
     "metadata": {},
     "output_type": "execute_result"
    }
   ],
   "source": [
    "#a)\n",
    "A=matrix([[2,i-1,2,i+1],[-1-i,4,-1-i,2*i],[2,-1+i,2,1+i],[1-i,-2*i,1-i,4]])/6\n",
    "A*6 #/6"
   ]
  },
  {
   "cell_type": "code",
   "execution_count": 21,
   "metadata": {},
   "outputs": [
    {
     "data": {
      "text/plain": [
       "[0 0 0 0]\n",
       "[0 0 0 0]\n",
       "[0 0 0 0]\n",
       "[0 0 0 0]"
      ]
     },
     "execution_count": 21,
     "metadata": {},
     "output_type": "execute_result"
    }
   ],
   "source": [
    "#b) \n",
    "A^2-A"
   ]
  },
  {
   "cell_type": "code",
   "execution_count": 22,
   "metadata": {},
   "outputs": [
    {
     "data": {
      "text/plain": [
       "[0 0 0 0]\n",
       "[0 0 0 0]\n",
       "[0 0 0 0]\n",
       "[0 0 0 0]"
      ]
     },
     "execution_count": 22,
     "metadata": {},
     "output_type": "execute_result"
    }
   ],
   "source": [
    "(1-A).H*A"
   ]
  },
  {
   "cell_type": "code",
   "execution_count": 23,
   "metadata": {},
   "outputs": [
    {
     "data": {
      "text/plain": [
       "(t - 1)^2 * t^2"
      ]
     },
     "execution_count": 23,
     "metadata": {},
     "output_type": "execute_result"
    }
   ],
   "source": [
    "P=A.charpoly('t')\n",
    "factor(P)"
   ]
  },
  {
   "cell_type": "code",
   "execution_count": 24,
   "metadata": {},
   "outputs": [],
   "source": [
    "#c) es el mismísimo f"
   ]
  },
  {
   "cell_type": "code",
   "execution_count": 29,
   "metadata": {},
   "outputs": [
    {
     "data": {
      "text/plain": [
       "Vector space of degree 4 and dimension 2 over Number Field in i with defining polynomial t^2 + 1\n",
       "Basis matrix:\n",
       "[     1      0      1 -i + 1]\n",
       "[     0      1      0     -i]"
      ]
     },
     "execution_count": 29,
     "metadata": {},
     "output_type": "execute_result"
    }
   ],
   "source": [
    "#d) base ort. de im(f)\n",
    "(1-A).right_kernel()"
   ]
  },
  {
   "cell_type": "code",
   "execution_count": 31,
   "metadata": {},
   "outputs": [
    {
     "data": {
      "text/plain": [
       "[          1           0           1      -i + 1]\n",
       "[1/4*i - 1/4           1 1/4*i - 1/4      -1/2*i]"
      ]
     },
     "execution_count": 31,
     "metadata": {},
     "output_type": "execute_result"
    }
   ],
   "source": [
    "B=matrix([[1,0,1,-i+1],[0,1,0,-i]])\n",
    "G,M=B.gram_schmidt()\n",
    "G"
   ]
  },
  {
   "cell_type": "code",
   "execution_count": 34,
   "metadata": {},
   "outputs": [
    {
     "data": {
      "text/plain": [
       "[  4   0]\n",
       "[  0 3/2]"
      ]
     },
     "execution_count": 34,
     "metadata": {},
     "output_type": "execute_result"
    }
   ],
   "source": [
    "G*G.H #esta base es ortogonal pero si se quiere ortonormal toca dividir entre\n",
    "#2 y sqrt(3/2)"
   ]
  },
  {
   "cell_type": "code",
   "execution_count": 38,
   "metadata": {},
   "outputs": [
    {
     "data": {
      "text/plain": [
       "Vector space of degree 4 and dimension 2 over Number Field in i with defining polynomial t^2 + 1\n",
       "Basis matrix:\n",
       "[     1      0     -1      0]\n",
       "[     0      1 -i + 1      i]"
      ]
     },
     "execution_count": 38,
     "metadata": {},
     "output_type": "execute_result"
    }
   ],
   "source": [
    "#e) base ort. de ker(f)\n",
    "A.right_kernel()"
   ]
  },
  {
   "cell_type": "code",
   "execution_count": 39,
   "metadata": {},
   "outputs": [
    {
     "data": {
      "text/plain": [
       "[           1            0           -1            0]\n",
       "[-1/2*i + 1/2            1 -1/2*i + 1/2            i]"
      ]
     },
     "execution_count": 39,
     "metadata": {},
     "output_type": "execute_result"
    }
   ],
   "source": [
    "C=matrix([[1,0,-1,0],[0,1,-i+1,i]])\n",
    "G,M=C.gram_schmidt()\n",
    "G"
   ]
  },
  {
   "cell_type": "code",
   "execution_count": 41,
   "metadata": {},
   "outputs": [
    {
     "data": {
      "text/plain": [
       "[2 0]\n",
       "[0 3]"
      ]
     },
     "execution_count": 41,
     "metadata": {},
     "output_type": "execute_result"
    }
   ],
   "source": [
    "G*G.H #si se quiere ortonorm. se divide por sqrt(2) y sqrt(3)"
   ]
  },
  {
   "cell_type": "code",
   "execution_count": 42,
   "metadata": {},
   "outputs": [
    {
     "data": {
      "text/plain": [
       "[1 0 0 0]\n",
       "[0 1 0 0]\n",
       "[0 0 0 0]\n",
       "[0 0 0 0]"
      ]
     },
     "execution_count": 42,
     "metadata": {},
     "output_type": "execute_result"
    }
   ],
   "source": [
    "D=column_matrix([[1,0,1,-i+1],[0,1,0,-i],[1,0,-1,0],[0,1,-i+1,i]])\n",
    "\n",
    "(D^-1)*A*D"
   ]
  },
  {
   "cell_type": "code",
   "execution_count": 59,
   "metadata": {},
   "outputs": [
    {
     "data": {
      "text/plain": [
       "[   1   -3 -3*i  3*i]\n",
       "[  -3    1 -3*i  3*i]\n",
       "[ 3*i  3*i    1    3]\n",
       "[-3*i -3*i    3    1]"
      ]
     },
     "execution_count": 59,
     "metadata": {},
     "output_type": "execute_result"
    }
   ],
   "source": [
    "#Segundo punto\n",
    "#a) \n",
    "A=matrix([[1,-3,-3*i,3*i],[-3,1,-3*i,3*i],[3*i,3*i,1,3],[-3*i,-3*i,3,1]])\n",
    "A"
   ]
  },
  {
   "cell_type": "code",
   "execution_count": 60,
   "metadata": {},
   "outputs": [],
   "source": [
    "#como la rep. matricial en la base canónica, que es ortonormal, es hermítica\n",
    "#entonces f es diagonalizable"
   ]
  },
  {
   "cell_type": "code",
   "execution_count": 61,
   "metadata": {},
   "outputs": [
    {
     "data": {
      "text/plain": [
       "(t + 8) * (t - 4)^3"
      ]
     },
     "execution_count": 61,
     "metadata": {},
     "output_type": "execute_result"
    }
   ],
   "source": [
    "factor(A.charpoly('t'))"
   ]
  },
  {
   "cell_type": "code",
   "execution_count": 62,
   "metadata": {},
   "outputs": [
    {
     "data": {
      "text/plain": [
       "Vector space of degree 4 and dimension 1 over Number Field in i with defining polynomial t^2 + 1\n",
       "Basis matrix:\n",
       "[ 1  1 -i  i]"
      ]
     },
     "execution_count": 62,
     "metadata": {},
     "output_type": "execute_result"
    }
   ],
   "source": [
    "(A+8).right_kernel()"
   ]
  },
  {
   "cell_type": "code",
   "execution_count": 63,
   "metadata": {},
   "outputs": [
    {
     "data": {
      "text/plain": [
       "Vector space of degree 4 and dimension 3 over Number Field in i with defining polynomial t^2 + 1\n",
       "Basis matrix:\n",
       "[ 1  0  0 -i]\n",
       "[ 0  1  0 -i]\n",
       "[ 0  0  1  1]"
      ]
     },
     "execution_count": 63,
     "metadata": {},
     "output_type": "execute_result"
    }
   ],
   "source": [
    "(A-4).right_kernel()"
   ]
  },
  {
   "cell_type": "code",
   "execution_count": 64,
   "metadata": {},
   "outputs": [
    {
     "data": {
      "text/plain": [
       "[ 4  0  0  0]\n",
       "[ 0  2  1  i]\n",
       "[ 0  1  2  i]\n",
       "[ 0 -i -i  2]"
      ]
     },
     "execution_count": 64,
     "metadata": {},
     "output_type": "execute_result"
    }
   ],
   "source": [
    "#b) esto muestra que son ortogonales\n",
    "B=column_matrix([[1,1,-i,i],[1,0,0,-i],[0,1,0,-i],[0,0,1,1]])\n",
    "B.H*B"
   ]
  },
  {
   "cell_type": "code",
   "execution_count": 65,
   "metadata": {},
   "outputs": [
    {
     "data": {
      "text/plain": [
       "[     1      0      0     -i]\n",
       "[  -1/2      1      0 -1/2*i]\n",
       "[-1/3*i -1/3*i      1    1/3]"
      ]
     },
     "execution_count": 65,
     "metadata": {},
     "output_type": "execute_result"
    }
   ],
   "source": [
    "C=matrix([[1,0,0,-i],[0,1,0,-i],[0,0,1,1]])\n",
    "G,M=C.gram_schmidt()\n",
    "G"
   ]
  },
  {
   "cell_type": "code",
   "execution_count": 66,
   "metadata": {},
   "outputs": [
    {
     "data": {
      "text/plain": [
       "[  2   0   0]\n",
       "[  0 3/2   0]\n",
       "[  0   0 4/3]"
      ]
     },
     "execution_count": 66,
     "metadata": {},
     "output_type": "execute_result"
    }
   ],
   "source": [
    "G*G.H"
   ]
  },
  {
   "cell_type": "code",
   "execution_count": 71,
   "metadata": {},
   "outputs": [
    {
     "data": {
      "text/plain": [
       "[  4   0   0   0]\n",
       "[  0   2   0   0]\n",
       "[  0   0 3/2   0]\n",
       "[  0   0   0 4/3]"
      ]
     },
     "execution_count": 71,
     "metadata": {},
     "output_type": "execute_result"
    }
   ],
   "source": [
    "D=column_matrix([[1,1,-i,i],[1,0,0,-i],[-1/2,1,0,-1/2*i],[-1/3*i,-1/3*i,1,1/3]])\n",
    "D.H*D#c) es esta matriz D solo que dividiendo por lo que está en la diagonal"
   ]
  },
  {
   "cell_type": "code",
   "execution_count": 72,
   "metadata": {},
   "outputs": [
    {
     "data": {
      "text/plain": [
       "[   1/4    1/4  1/4*i -1/4*i]\n",
       "[   1/4    1/4  1/4*i -1/4*i]\n",
       "[-1/4*i -1/4*i    1/4   -1/4]\n",
       "[ 1/4*i  1/4*i   -1/4    1/4]"
      ]
     },
     "execution_count": 72,
     "metadata": {},
     "output_type": "execute_result"
    }
   ],
   "source": [
    "#d) \n",
    "E=column_matrix([1,1,-i,i])\n",
    "P1=E*((E.H*E)^-1)*E.H\n",
    "P1"
   ]
  },
  {
   "cell_type": "code",
   "execution_count": 73,
   "metadata": {},
   "outputs": [
    {
     "data": {
      "text/plain": [
       "[   3/4   -1/4 -1/4*i  1/4*i]\n",
       "[  -1/4    3/4 -1/4*i  1/4*i]\n",
       "[ 1/4*i  1/4*i    3/4    1/4]\n",
       "[-1/4*i -1/4*i    1/4    3/4]"
      ]
     },
     "execution_count": 73,
     "metadata": {},
     "output_type": "execute_result"
    }
   ],
   "source": [
    "F=column_matrix([[1,0,0,-i],[0,1,0,-i],[0,0,1,1]])\n",
    "P2=F*((F.H*F)^-1)*F.H\n",
    "P2"
   ]
  },
  {
   "cell_type": "code",
   "execution_count": 75,
   "metadata": {},
   "outputs": [
    {
     "data": {
      "text/plain": [
       "True"
      ]
     },
     "execution_count": 75,
     "metadata": {},
     "output_type": "execute_result"
    }
   ],
   "source": [
    "#e) \n",
    "A==-8*P1 + 4*P2"
   ]
  },
  {
   "cell_type": "code",
   "execution_count": 77,
   "metadata": {},
   "outputs": [
    {
     "data": {
      "text/plain": [
       "[-8  0  0  0]\n",
       "[ 0  4  0  0]\n",
       "[ 0  0  4  0]\n",
       "[ 0  0  0  4]"
      ]
     },
     "execution_count": 77,
     "metadata": {},
     "output_type": "execute_result"
    }
   ],
   "source": [
    "#f) \n",
    "(D^-1)*A*D"
   ]
  },
  {
   "cell_type": "code",
   "execution_count": null,
   "metadata": {},
   "outputs": [],
   "source": []
  }
 ],
 "metadata": {
  "kernelspec": {
   "display_name": "SageMath 8.8",
   "language": "sage",
   "name": "sagemath"
  },
  "language_info": {
   "codemirror_mode": {
    "name": "ipython",
    "version": 2
   },
   "file_extension": ".py",
   "mimetype": "text/x-python",
   "name": "python",
   "nbconvert_exporter": "python",
   "pygments_lexer": "ipython2",
   "version": "2.7.15"
  }
 },
 "nbformat": 4,
 "nbformat_minor": 2
}
