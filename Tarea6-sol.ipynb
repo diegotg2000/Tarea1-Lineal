{
 "cells": [
  {
   "cell_type": "code",
   "execution_count": 1,
   "metadata": {},
   "outputs": [],
   "source": [
    "V=QQ^4"
   ]
  },
  {
   "cell_type": "code",
   "execution_count": 2,
   "metadata": {},
   "outputs": [
    {
     "data": {
      "text/plain": [
       "[ 3 -3  0  3]\n",
       "[ 2 -1 -1  2]\n",
       "[ 2 -1 -1  2]\n",
       "[ 2 -4  2  2]"
      ]
     },
     "execution_count": 2,
     "metadata": {},
     "output_type": "execute_result"
    }
   ],
   "source": [
    "A=matrix([[3,-3,0,3],[2,-1,-1,2],[2,-1,-1,2],[2,-4,2,2]])\n",
    "A"
   ]
  },
  {
   "cell_type": "code",
   "execution_count": 14,
   "metadata": {},
   "outputs": [],
   "source": [
    "temp,C=A.jordan_form(transformation=True)"
   ]
  },
  {
   "cell_type": "code",
   "execution_count": 15,
   "metadata": {},
   "outputs": [
    {
     "data": {
      "text/plain": [
       "[  1   3   0   1]\n",
       "[2/3   3   1   0]\n",
       "[2/3   3   0   0]\n",
       "[2/3   0   2  -1]"
      ]
     },
     "execution_count": 15,
     "metadata": {},
     "output_type": "execute_result"
    }
   ],
   "source": [
    "C"
   ]
  },
  {
   "cell_type": "code",
   "execution_count": 17,
   "metadata": {},
   "outputs": [
    {
     "data": {
      "text/plain": [
       "[3 0 0 0]\n",
       "[0 0 1 0]\n",
       "[0 0 0 0]\n",
       "[0 0 0 0]"
      ]
     },
     "execution_count": 17,
     "metadata": {},
     "output_type": "execute_result"
    }
   ],
   "source": [
    "(C^-1)*A*C"
   ]
  },
  {
   "cell_type": "code",
   "execution_count": 18,
   "metadata": {},
   "outputs": [
    {
     "data": {
      "text/plain": [
       "[0 1 0 0]\n",
       "[0 0 0 0]\n",
       "[0 0 0 0]\n",
       "[0 0 0 3]"
      ]
     },
     "execution_count": 18,
     "metadata": {},
     "output_type": "execute_result"
    }
   ],
   "source": [
    "C=matrix([[3,0,1,1],[3,1,0,2/3],[3,0,0,2/3],[0,2,-1,2/3]])\n",
    "(C^-1)*A*C"
   ]
  },
  {
   "cell_type": "code",
   "execution_count": 19,
   "metadata": {},
   "outputs": [
    {
     "data": {
      "text/plain": [
       "[-1  2 -1  2]\n",
       "[ 1  1 -2  1]\n",
       "[-1  2 -1  2]\n",
       "[-2  1  1  1]"
      ]
     },
     "execution_count": 19,
     "metadata": {},
     "output_type": "execute_result"
    }
   ],
   "source": [
    "A=matrix([[-1,2,-1,2],[1,1,-2,1],[-1,2,-1,2],[-2,1,1,1]])\n",
    "A"
   ]
  },
  {
   "cell_type": "code",
   "execution_count": 20,
   "metadata": {},
   "outputs": [],
   "source": [
    "temp,C=A.jordan_form(transformation=True)"
   ]
  },
  {
   "cell_type": "code",
   "execution_count": 21,
   "metadata": {},
   "outputs": [
    {
     "data": {
      "text/plain": [
       "[0 1 0 0]\n",
       "[0 0 0 0]\n",
       "[0 0 0 1]\n",
       "[0 0 0 0]"
      ]
     },
     "execution_count": 21,
     "metadata": {},
     "output_type": "execute_result"
    }
   ],
   "source": [
    "(C^-1)*A*C"
   ]
  },
  {
   "cell_type": "code",
   "execution_count": 22,
   "metadata": {},
   "outputs": [
    {
     "data": {
      "text/plain": [
       "[-1  1  2  0]\n",
       "[ 1  0  1  1]\n",
       "[-1  0  2  0]\n",
       "[-2  0  1  0]"
      ]
     },
     "execution_count": 22,
     "metadata": {},
     "output_type": "execute_result"
    }
   ],
   "source": [
    "C"
   ]
  },
  {
   "cell_type": "code",
   "execution_count": 23,
   "metadata": {},
   "outputs": [],
   "source": [
    "V=QQ^5"
   ]
  },
  {
   "cell_type": "code",
   "execution_count": 25,
   "metadata": {},
   "outputs": [
    {
     "data": {
      "text/plain": [
       "[ 4 -4 -4  0  8]\n",
       "[ 0  0 -4  0  8]\n",
       "[-1 -1 -1 -1  7]\n",
       "[-1 -5 -1  3  7]\n",
       "[ 2 -2 -2  2  6]"
      ]
     },
     "execution_count": 25,
     "metadata": {},
     "output_type": "execute_result"
    }
   ],
   "source": [
    "A=matrix([[4,-4,-4,0,8],[0,0,-4,0,8],[-1,-1,-1,-1,7],[-1,-5,-1,3,7],[2,-2,-2,2,6]])\n",
    "A"
   ]
  },
  {
   "cell_type": "code",
   "execution_count": 38,
   "metadata": {},
   "outputs": [],
   "source": [
    "temp,C=A.jordan_form(transformation=True)"
   ]
  },
  {
   "cell_type": "code",
   "execution_count": 39,
   "metadata": {},
   "outputs": [
    {
     "data": {
      "text/plain": [
       "[-4  0  0  0  0]\n",
       "[ 0  4  1  0  0]\n",
       "[ 0  0  4  1  0]\n",
       "[ 0  0  0  4  0]\n",
       "[ 0  0  0  0  4]"
      ]
     },
     "execution_count": 39,
     "metadata": {},
     "output_type": "execute_result"
    }
   ],
   "source": [
    "(C^-1)*A*C"
   ]
  },
  {
   "cell_type": "code",
   "execution_count": 44,
   "metadata": {},
   "outputs": [],
   "source": [
    "v1=vector(C[:,0])\n",
    "v2=vector(C[:,1])\n",
    "v3=vector(C[:,2])\n",
    "v4=vector(C[:,3])\n",
    "v5=vector(C[:,4])"
   ]
  },
  {
   "cell_type": "code",
   "execution_count": 47,
   "metadata": {},
   "outputs": [],
   "source": [
    "C=column_matrix([v2,v3,v4,v5,v1])"
   ]
  },
  {
   "cell_type": "code",
   "execution_count": 48,
   "metadata": {},
   "outputs": [
    {
     "data": {
      "text/plain": [
       "[ 4  1  0  0  0]\n",
       "[ 0  4  1  0  0]\n",
       "[ 0  0  4  0  0]\n",
       "[ 0  0  0  4  0]\n",
       "[ 0  0  0  0 -4]"
      ]
     },
     "execution_count": 48,
     "metadata": {},
     "output_type": "execute_result"
    }
   ],
   "source": [
    "(C^-1)*A*C"
   ]
  },
  {
   "cell_type": "code",
   "execution_count": 49,
   "metadata": {},
   "outputs": [
    {
     "data": {
      "text/plain": [
       "[ 1 -3 -3  1  9]\n",
       "[ 0  0 -4  0  8]\n",
       "[-4  0  0  0  8]\n",
       "[-4 -4  0  4  8]\n",
       "[-1 -1 -1  3  7]"
      ]
     },
     "execution_count": 49,
     "metadata": {},
     "output_type": "execute_result"
    }
   ],
   "source": [
    "A=matrix([[1,-3,-3,1,9],[0,0,-4,0,8],[-4,0,0,0,8],[-4,-4,0,4,8],[-1,-1,-1,3,7]])\n",
    "A"
   ]
  },
  {
   "cell_type": "code",
   "execution_count": 50,
   "metadata": {},
   "outputs": [],
   "source": [
    "temp,C=A.jordan_form(transformation=True)"
   ]
  },
  {
   "cell_type": "code",
   "execution_count": 51,
   "metadata": {},
   "outputs": [
    {
     "data": {
      "text/plain": [
       "[-4  0  0  0  0]\n",
       "[ 0  4  1  0  0]\n",
       "[ 0  0  4  1  0]\n",
       "[ 0  0  0  4  1]\n",
       "[ 0  0  0  0  4]"
      ]
     },
     "execution_count": 51,
     "metadata": {},
     "output_type": "execute_result"
    }
   ],
   "source": [
    "(C^-1)*A*C"
   ]
  },
  {
   "cell_type": "code",
   "execution_count": 52,
   "metadata": {},
   "outputs": [],
   "source": [
    "v1=vector(C[:,0])\n",
    "v2=vector(C[:,1])\n",
    "v3=vector(C[:,2])\n",
    "v4=vector(C[:,3])\n",
    "v5=vector(C[:,4])\n",
    "\n",
    "C=column_matrix([v2,v3,v4,v5,v1])"
   ]
  },
  {
   "cell_type": "code",
   "execution_count": 53,
   "metadata": {},
   "outputs": [
    {
     "data": {
      "text/plain": [
       "[ 4  1  0  0  0]\n",
       "[ 0  4  1  0  0]\n",
       "[ 0  0  4  1  0]\n",
       "[ 0  0  0  4  0]\n",
       "[ 0  0  0  0 -4]"
      ]
     },
     "execution_count": 53,
     "metadata": {},
     "output_type": "execute_result"
    }
   ],
   "source": [
    "(C^-1)*A*C"
   ]
  },
  {
   "cell_type": "code",
   "execution_count": null,
   "metadata": {},
   "outputs": [],
   "source": []
  }
 ],
 "metadata": {
  "kernelspec": {
   "display_name": "SageMath 8.8",
   "language": "sage",
   "name": "sagemath"
  },
  "language_info": {
   "codemirror_mode": {
    "name": "ipython",
    "version": 2
   },
   "file_extension": ".py",
   "mimetype": "text/x-python",
   "name": "python",
   "nbconvert_exporter": "python",
   "pygments_lexer": "ipython2",
   "version": "2.7.15"
  }
 },
 "nbformat": 4,
 "nbformat_minor": 2
}
