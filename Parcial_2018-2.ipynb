{
 "cells": [
  {
   "cell_type": "code",
   "execution_count": 2,
   "metadata": {},
   "outputs": [
    {
     "data": {
      "text/plain": [
       "[  4 -24  -8   4  -2]\n",
       "[  0   3   0  -1   0]\n",
       "[  1 -14  -2   4  -1]\n",
       "[  1  -3  -2   1   0]\n",
       "[  2  -9  -4   1   1]"
      ]
     },
     "execution_count": 2,
     "metadata": {},
     "output_type": "execute_result"
    }
   ],
   "source": [
    "V=QQ^5\n",
    "\n",
    "A=matrix([[4,-24,-8,4,-2],[0,3,0,-1,0],[1,-14,-2,4,-1],[1,-3,-2,1,0],[2,-9,-4,1,1]])\n",
    "A"
   ]
  },
  {
   "cell_type": "code",
   "execution_count": 3,
   "metadata": {},
   "outputs": [
    {
     "data": {
      "text/plain": [
       "(t - 1) * t * (t - 2)^3"
      ]
     },
     "execution_count": 3,
     "metadata": {},
     "output_type": "execute_result"
    }
   ],
   "source": [
    "t=PolynomialRing(RationalField(), 't').gen()\n",
    "P=A.charpoly('t')\n",
    "factor(P)"
   ]
  },
  {
   "cell_type": "code",
   "execution_count": 4,
   "metadata": {},
   "outputs": [],
   "source": [
    "def MCD(POLINOMIOS):\n",
    "    if(len(POLINOMIOS)==2):\n",
    "        return xgcd(POLINOMIOS[0], POLINOMIOS[1])\n",
    "    else:\n",
    "        RESP=[]\n",
    "        P1=POLINOMIOS[0]\n",
    "        RESTO = POLINOMIOS[1:]\n",
    "        d=MCD([P1, MCD(RESTO)[0]])[0]\n",
    "        Q1=MCD([P1, MCD(RESTO)[0]])[1]\n",
    "        Q=MCD([P1, MCD(RESTO)[0]])[2]\n",
    "        RESP.append(d)\n",
    "        RESP.append(Q1)\n",
    "        for i in range(2,len(POLINOMIOS)+1):\n",
    "            RESP.append(Q*MCD(RESTO)[i-1])\n",
    "        return RESP"
   ]
  },
  {
   "cell_type": "code",
   "execution_count": 5,
   "metadata": {},
   "outputs": [
    {
     "name": "stdout",
     "output_type": "stream",
     "text": [
      "((-1) * t * (t - 2)^3, (-1/8) * (t - 1) * (t - 2)^3 * (t^3 - 5*t^2 + 7*t - 1), (1/8) * (t - 1) * t * (t^2 - 6*t + 12) * (t^3 - 5*t^2 + 7*t - 1))\n"
     ]
    }
   ],
   "source": [
    "P1=(t-1)\n",
    "P2=t\n",
    "P3=(t-2)^3\n",
    "\n",
    "R1=P/P1\n",
    "R2=P/P2\n",
    "R3=P/P3\n",
    "\n",
    "Q1=MCD([R1,R2,R3])[1]\n",
    "Q2=MCD([R1,R2,R3])[2]\n",
    "Q3=MCD([R1,R2,R3])[3]\n",
    "\n",
    "Pi1=Q1*R1\n",
    "Pi2=Q2*R2\n",
    "Pi3=Q3*R3\n",
    "\n",
    "print(factor(Pi1),factor(Pi2),factor(Pi3))"
   ]
  },
  {
   "cell_type": "code",
   "execution_count": 10,
   "metadata": {},
   "outputs": [
    {
     "data": {
      "text/plain": [
       "[  2 -10  -4   2  -2]\n",
       "[  0   0   0   0   0]\n",
       "[  1  -5  -2   1  -1]\n",
       "[  0   0   0   0   0]\n",
       "[ -1   5   2  -1   1]"
      ]
     },
     "execution_count": 10,
     "metadata": {},
     "output_type": "execute_result"
    }
   ],
   "source": [
    "Pi1(A)"
   ]
  },
  {
   "cell_type": "code",
   "execution_count": 11,
   "metadata": {},
   "outputs": [
    {
     "data": {
      "text/plain": [
       "[-2 16  6 -2  2]\n",
       "[ 0  0  0  0  0]\n",
       "[-1  8  3 -1  1]\n",
       "[ 0  0  0  0  0]\n",
       "[ 0  0  0  0  0]"
      ]
     },
     "execution_count": 11,
     "metadata": {},
     "output_type": "execute_result"
    }
   ],
   "source": [
    "Pi2(A)"
   ]
  },
  {
   "cell_type": "code",
   "execution_count": 12,
   "metadata": {},
   "outputs": [
    {
     "data": {
      "text/plain": [
       "[ 1 -6 -2  0  0]\n",
       "[ 0  1  0  0  0]\n",
       "[ 0 -3  0  0  0]\n",
       "[ 0  0  0  1  0]\n",
       "[ 1 -5 -2  1  0]"
      ]
     },
     "execution_count": 12,
     "metadata": {},
     "output_type": "execute_result"
    }
   ],
   "source": [
    "Pi3(A)"
   ]
  },
  {
   "cell_type": "code",
   "execution_count": 17,
   "metadata": {},
   "outputs": [],
   "source": [
    "#lambda1=1, lambda2=0, lambda3=2\n",
    "PD= 1*Pi1 + 0*Pi2 + 2*Pi3\n",
    "PN=t-PD"
   ]
  },
  {
   "cell_type": "code",
   "execution_count": 18,
   "metadata": {},
   "outputs": [
    {
     "data": {
      "text/plain": [
       "[  4 -22  -8   2  -2]\n",
       "[  0   2   0   0   0]\n",
       "[  1 -11  -2   1  -1]\n",
       "[  0   0   0   2   0]\n",
       "[  1  -5  -2   1   1]"
      ]
     },
     "execution_count": 18,
     "metadata": {},
     "output_type": "execute_result"
    }
   ],
   "source": [
    "PD(A)"
   ]
  },
  {
   "cell_type": "code",
   "execution_count": 19,
   "metadata": {},
   "outputs": [
    {
     "data": {
      "text/plain": [
       "[ 0 -2  0  2  0]\n",
       "[ 0  1  0 -1  0]\n",
       "[ 0 -3  0  3  0]\n",
       "[ 1 -3 -2 -1  0]\n",
       "[ 1 -4 -2  0  0]"
      ]
     },
     "execution_count": 19,
     "metadata": {},
     "output_type": "execute_result"
    }
   ],
   "source": [
    "PN(A)"
   ]
  },
  {
   "cell_type": "code",
   "execution_count": 20,
   "metadata": {},
   "outputs": [
    {
     "data": {
      "text/plain": [
       "[  4 -24  -8   4  -2]\n",
       "[  0   3   0  -1   0]\n",
       "[  1 -14  -2   4  -1]\n",
       "[  1  -3  -2   1   0]\n",
       "[  2  -9  -4   1   1]"
      ]
     },
     "execution_count": 20,
     "metadata": {},
     "output_type": "execute_result"
    }
   ],
   "source": [
    "PN(A)+PD(A)"
   ]
  },
  {
   "cell_type": "code",
   "execution_count": 21,
   "metadata": {},
   "outputs": [
    {
     "data": {
      "text/plain": [
       "[0 0 0 0 0]\n",
       "[0 0 0 0 0]\n",
       "[0 0 0 0 0]\n",
       "[0 0 0 0 0]\n",
       "[0 0 0 0 0]"
      ]
     },
     "execution_count": 21,
     "metadata": {},
     "output_type": "execute_result"
    }
   ],
   "source": [
    "PN(A)*PD(A) - PD(A)*PN(A)"
   ]
  },
  {
   "cell_type": "code",
   "execution_count": 23,
   "metadata": {},
   "outputs": [
    {
     "data": {
      "text/plain": [
       "(t - 1) * t * (t - 2)^3"
      ]
     },
     "execution_count": 23,
     "metadata": {},
     "output_type": "execute_result"
    }
   ],
   "source": [
    "factor(P)"
   ]
  },
  {
   "cell_type": "code",
   "execution_count": 35,
   "metadata": {},
   "outputs": [
    {
     "data": {
      "text/plain": [
       "Vector space of degree 5 and dimension 1 over Rational Field\n",
       "Basis matrix:\n",
       "[   1    0  1/2    0 -1/2]"
      ]
     },
     "execution_count": 35,
     "metadata": {},
     "output_type": "execute_result"
    }
   ],
   "source": [
    "#V1\n",
    "Pol=t-1\n",
    "\n",
    "Pol(A).right_kernel()"
   ]
  },
  {
   "cell_type": "code",
   "execution_count": 36,
   "metadata": {},
   "outputs": [],
   "source": [
    "v5=vector(QQ, [1,0,1/2,0,-1/2])"
   ]
  },
  {
   "cell_type": "code",
   "execution_count": 37,
   "metadata": {},
   "outputs": [
    {
     "data": {
      "text/plain": [
       "Vector space of degree 5 and dimension 1 over Rational Field\n",
       "Basis matrix:\n",
       "[  1   0 1/2   0   0]"
      ]
     },
     "execution_count": 37,
     "metadata": {},
     "output_type": "execute_result"
    }
   ],
   "source": [
    "#V2\n",
    "Pol=t\n",
    "\n",
    "Pol(A).right_kernel()"
   ]
  },
  {
   "cell_type": "code",
   "execution_count": 38,
   "metadata": {},
   "outputs": [],
   "source": [
    "v4=vector(QQ, [1,0,1/2,0,0])"
   ]
  },
  {
   "cell_type": "code",
   "execution_count": 39,
   "metadata": {},
   "outputs": [
    {
     "data": {
      "text/plain": [
       "Vector space of degree 5 and dimension 1 over Rational Field\n",
       "Basis matrix:\n",
       "[   1 -1/2  3/2 -1/2    0]"
      ]
     },
     "execution_count": 39,
     "metadata": {},
     "output_type": "execute_result"
    }
   ],
   "source": [
    "#V3\n",
    "Pol=(t-2)\n",
    "\n",
    "Pol(A).right_kernel()"
   ]
  },
  {
   "cell_type": "code",
   "execution_count": 40,
   "metadata": {},
   "outputs": [
    {
     "data": {
      "text/plain": [
       "Vector space of degree 5 and dimension 2 over Rational Field\n",
       "Basis matrix:\n",
       "[   1 -1/2  3/2    0  1/2]\n",
       "[   0    0    0    1    1]"
      ]
     },
     "execution_count": 40,
     "metadata": {},
     "output_type": "execute_result"
    }
   ],
   "source": [
    "(Pol(A)^2).right_kernel()"
   ]
  },
  {
   "cell_type": "code",
   "execution_count": 41,
   "metadata": {},
   "outputs": [
    {
     "data": {
      "text/plain": [
       "Vector space of degree 5 and dimension 3 over Rational Field\n",
       "Basis matrix:\n",
       "[ 1  0  0  0  1]\n",
       "[ 0  1 -3  0  1]\n",
       "[ 0  0  0  1  1]"
      ]
     },
     "execution_count": 41,
     "metadata": {},
     "output_type": "execute_result"
    }
   ],
   "source": [
    "(Pol(A)^3).right_kernel()"
   ]
  },
  {
   "cell_type": "code",
   "execution_count": 42,
   "metadata": {},
   "outputs": [],
   "source": [
    "#n1'=1, n2'=1, n3'=1\n",
    "v3=vector(QQ, [1,0,0,0,1])\n",
    "v2=Pol(A)*v3\n",
    "v1=Pol(A)*v2"
   ]
  },
  {
   "cell_type": "code",
   "execution_count": 43,
   "metadata": {},
   "outputs": [
    {
     "data": {
      "text/plain": [
       "[2 1 0 0 0]\n",
       "[0 2 1 0 0]\n",
       "[0 0 2 0 0]\n",
       "[0 0 0 0 0]\n",
       "[0 0 0 0 1]"
      ]
     },
     "execution_count": 43,
     "metadata": {},
     "output_type": "execute_result"
    }
   ],
   "source": [
    "C=column_matrix([v1,v2,v3,v4,v5])\n",
    "\n",
    "(C^(-1))*A*C"
   ]
  },
  {
   "cell_type": "code",
   "execution_count": 44,
   "metadata": {},
   "outputs": [],
   "source": [
    "AD=PD(A)\n",
    "AN=PN(A)"
   ]
  },
  {
   "cell_type": "code",
   "execution_count": 45,
   "metadata": {},
   "outputs": [
    {
     "data": {
      "text/plain": [
       "[2 0 0 0 0]\n",
       "[0 2 0 0 0]\n",
       "[0 0 2 0 0]\n",
       "[0 0 0 0 0]\n",
       "[0 0 0 0 1]"
      ]
     },
     "execution_count": 45,
     "metadata": {},
     "output_type": "execute_result"
    }
   ],
   "source": [
    "(C^(-1))*AD*C"
   ]
  },
  {
   "cell_type": "code",
   "execution_count": 46,
   "metadata": {},
   "outputs": [
    {
     "data": {
      "text/plain": [
       "[0 1 0 0 0]\n",
       "[0 0 1 0 0]\n",
       "[0 0 0 0 0]\n",
       "[0 0 0 0 0]\n",
       "[0 0 0 0 0]"
      ]
     },
     "execution_count": 46,
     "metadata": {},
     "output_type": "execute_result"
    }
   ],
   "source": [
    "(C^(-1))*AN*C"
   ]
  },
  {
   "cell_type": "code",
   "execution_count": 48,
   "metadata": {},
   "outputs": [
    {
     "data": {
      "text/plain": [
       "[  1  -5  -2   1   1]\n",
       "[ -1   4   2   0   0]\n",
       "[  3 -13  -6   1   0]\n",
       "[ -1   4   2   0   0]\n",
       "[ -1   5   2  -1   1]"
      ]
     },
     "execution_count": 48,
     "metadata": {},
     "output_type": "execute_result"
    }
   ],
   "source": [
    "A=matrix([[1,-5,-2,1,1],[-1,4,2,0,0],[3,-13,-6,1,0],[-1,4,2,0,0],[-1,5,2,-1,1]])\n",
    "A"
   ]
  },
  {
   "cell_type": "code",
   "execution_count": 50,
   "metadata": {},
   "outputs": [
    {
     "data": {
      "text/plain": [
       "t^5"
      ]
     },
     "execution_count": 50,
     "metadata": {},
     "output_type": "execute_result"
    }
   ],
   "source": [
    "P=A.charpoly('t')\n",
    "P"
   ]
  },
  {
   "cell_type": "code",
   "execution_count": 51,
   "metadata": {},
   "outputs": [
    {
     "data": {
      "text/plain": [
       "Free module of degree 5 and rank 2 over Integer Ring\n",
       "Echelon basis matrix:\n",
       "[ 2  0  1  0  0]\n",
       "[ 0  1 -2  1  0]"
      ]
     },
     "execution_count": 51,
     "metadata": {},
     "output_type": "execute_result"
    }
   ],
   "source": [
    "(A^1).right_kernel()"
   ]
  },
  {
   "cell_type": "code",
   "execution_count": 52,
   "metadata": {},
   "outputs": [
    {
     "data": {
      "text/plain": [
       "Free module of degree 5 and rank 4 over Integer Ring\n",
       "Echelon basis matrix:\n",
       "[ 1  0  0  0  1]\n",
       "[ 0  1  0  0 -5]\n",
       "[ 0  0  1  0 -2]\n",
       "[ 0  0  0  1  1]"
      ]
     },
     "execution_count": 52,
     "metadata": {},
     "output_type": "execute_result"
    }
   ],
   "source": [
    "(A^2).right_kernel()"
   ]
  },
  {
   "cell_type": "code",
   "execution_count": 53,
   "metadata": {},
   "outputs": [
    {
     "data": {
      "text/plain": [
       "Free module of degree 5 and rank 5 over Integer Ring\n",
       "Echelon basis matrix:\n",
       "[1 0 0 0 0]\n",
       "[0 1 0 0 0]\n",
       "[0 0 1 0 0]\n",
       "[0 0 0 1 0]\n",
       "[0 0 0 0 1]"
      ]
     },
     "execution_count": 53,
     "metadata": {},
     "output_type": "execute_result"
    }
   ],
   "source": [
    "(A^3).right_kernel()"
   ]
  },
  {
   "cell_type": "code",
   "execution_count": 54,
   "metadata": {},
   "outputs": [],
   "source": [
    "#n1'=2, n2'=2, n3'=1\n",
    "v3=vector(QQ, [1,0,0,0,0])\n",
    "v2=A*v3\n",
    "v1=A*v2"
   ]
  },
  {
   "cell_type": "code",
   "execution_count": 58,
   "metadata": {},
   "outputs": [
    {
     "data": {
      "text/plain": [
       "False"
      ]
     },
     "execution_count": 58,
     "metadata": {},
     "output_type": "execute_result"
    }
   ],
   "source": [
    "v5=vector(QQ, [0,1,0,0,-5])\n",
    "v5 in (A^1).right_kernel()"
   ]
  },
  {
   "cell_type": "code",
   "execution_count": 59,
   "metadata": {},
   "outputs": [],
   "source": [
    "v4=A*v5"
   ]
  },
  {
   "cell_type": "code",
   "execution_count": 60,
   "metadata": {},
   "outputs": [
    {
     "data": {
      "text/plain": [
       "[0 1 0 0 0]\n",
       "[0 0 1 0 0]\n",
       "[0 0 0 0 0]\n",
       "[0 0 0 0 1]\n",
       "[0 0 0 0 0]"
      ]
     },
     "execution_count": 60,
     "metadata": {},
     "output_type": "execute_result"
    }
   ],
   "source": [
    "C=column_matrix([v1,v2,v3,v4,v5])\n",
    "\n",
    "(C^(-1))*A*C"
   ]
  },
  {
   "cell_type": "code",
   "execution_count": null,
   "metadata": {},
   "outputs": [],
   "source": []
  }
 ],
 "metadata": {
  "kernelspec": {
   "display_name": "SageMath 8.8",
   "language": "sage",
   "name": "sagemath"
  },
  "language_info": {
   "codemirror_mode": {
    "name": "ipython",
    "version": 2
   },
   "file_extension": ".py",
   "mimetype": "text/x-python",
   "name": "python",
   "nbconvert_exporter": "python",
   "pygments_lexer": "ipython2",
   "version": "2.7.15"
  }
 },
 "nbformat": 4,
 "nbformat_minor": 2
}
