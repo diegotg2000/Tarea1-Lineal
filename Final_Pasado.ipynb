{
 "cells": [
  {
   "cell_type": "code",
   "execution_count": 1,
   "metadata": {},
   "outputs": [],
   "source": [
    "V=QQ^5"
   ]
  },
  {
   "cell_type": "code",
   "execution_count": 2,
   "metadata": {},
   "outputs": [
    {
     "data": {
      "text/html": [
       "<html><script type=\"math/tex; mode=display\">\\newcommand{\\Bold}[1]{\\mathbf{#1}}\\left(\\begin{array}{rrrrr}\n",
       "6 & -26 & -12 & 4 & -4 \\\\\n",
       "1 & -9 & -3 & 1 & -1 \\\\\n",
       "0 & 9 & 2 & 0 & 0 \\\\\n",
       "0 & -6 & -1 & 2 & 0 \\\\\n",
       "-1 & 5 & 2 & -1 & 3\n",
       "\\end{array}\\right)</script></html>"
      ],
      "text/plain": [
       "[  6 -26 -12   4  -4]\n",
       "[  1  -9  -3   1  -1]\n",
       "[  0   9   2   0   0]\n",
       "[  0  -6  -1   2   0]\n",
       "[ -1   5   2  -1   3]"
      ]
     },
     "metadata": {},
     "output_type": "display_data"
    }
   ],
   "source": [
    "A=matrix([[6,-26,-12,4,-4],[1,-9,-3,1,-1],[0,9,2,0,0],[0,-6,-1,2,0],[-1,5,2,-1,3]])\n",
    "show(A)"
   ]
  },
  {
   "cell_type": "code",
   "execution_count": 3,
   "metadata": {},
   "outputs": [
    {
     "data": {
      "text/plain": [
       "(t + 1)^2 * (t - 2)^3"
      ]
     },
     "execution_count": 3,
     "metadata": {},
     "output_type": "execute_result"
    }
   ],
   "source": [
    "t=PolynomialRing(RationalField(), 't').gen()\n",
    "P=A.charpoly('t')\n",
    "factor(P)"
   ]
  },
  {
   "cell_type": "code",
   "execution_count": 4,
   "metadata": {},
   "outputs": [],
   "source": [
    "def MCD(POLINOMIOS):\n",
    "    if(len(POLINOMIOS)==2):\n",
    "        return xgcd(POLINOMIOS[0], POLINOMIOS[1])\n",
    "    else:\n",
    "        RESP=[]\n",
    "        P1=POLINOMIOS[0]\n",
    "        RESTO = POLINOMIOS[1:]\n",
    "        d=MCD([P1, MCD(RESTO)[0]])[0]\n",
    "        Q1=MCD([P1, MCD(RESTO)[0]])[1]\n",
    "        Q=MCD([P1, MCD(RESTO)[0]])[2]\n",
    "        RESP.append(d)\n",
    "        RESP.append(Q1)\n",
    "        for i in range(2,len(POLINOMIOS)+1):\n",
    "            RESP.append(Q*MCD(RESTO)[i-1])\n",
    "        return RESP"
   ]
  },
  {
   "cell_type": "code",
   "execution_count": 5,
   "metadata": {},
   "outputs": [],
   "source": [
    "P1=(t+1)^2\n",
    "P2=(t-2)^3\n",
    "\n",
    "R1=P/P1\n",
    "R2=P/P2\n",
    "\n",
    "Z,Q1,Q2=MCD([R1,R2])"
   ]
  },
  {
   "cell_type": "code",
   "execution_count": 6,
   "metadata": {},
   "outputs": [
    {
     "data": {
      "text/html": [
       "<html><script type=\"math/tex; mode=display\">\\newcommand{\\Bold}[1]{\\mathbf{#1}}\\left(-\\frac{1}{27}\\right) \\cdot (t + 2) \\cdot (t - 2)^{3}</script></html>"
      ],
      "text/plain": [
       "(-1/27) * (t + 2) * (t - 2)^3"
      ]
     },
     "metadata": {},
     "output_type": "display_data"
    },
    {
     "data": {
      "text/html": [
       "<html><script type=\"math/tex; mode=display\">\\newcommand{\\Bold}[1]{\\mathbf{#1}}\\left(\\frac{1}{27}\\right) \\cdot (t + 1)^{2} \\cdot (t^{2} - 6 t + 11)</script></html>"
      ],
      "text/plain": [
       "(1/27) * (t + 1)^2 * (t^2 - 6*t + 11)"
      ]
     },
     "metadata": {},
     "output_type": "display_data"
    }
   ],
   "source": [
    "Pi1=Q1*R1\n",
    "Pi2=Q2*R2\n",
    "\n",
    "show(factor(Pi1))\n",
    "show(factor(Pi2))"
   ]
  },
  {
   "cell_type": "code",
   "execution_count": 7,
   "metadata": {},
   "outputs": [
    {
     "data": {
      "text/html": [
       "<html><script type=\"math/tex; mode=display\">\\newcommand{\\Bold}[1]{\\mathbf{#1}}\\left(\\begin{array}{rrrrr}\n",
       "-2 & 14 & 6 & -2 & 2 \\\\\n",
       "0 & 1 & 0 & 0 & 0 \\\\\n",
       "-1 & 5 & 3 & -1 & 1 \\\\\n",
       "0 & 1 & 0 & 0 & 0 \\\\\n",
       "0 & 0 & 0 & 0 & 0\n",
       "\\end{array}\\right)</script></html>"
      ],
      "text/plain": [
       "[-2 14  6 -2  2]\n",
       "[ 0  1  0  0  0]\n",
       "[-1  5  3 -1  1]\n",
       "[ 0  1  0  0  0]\n",
       "[ 0  0  0  0  0]"
      ]
     },
     "metadata": {},
     "output_type": "display_data"
    },
    {
     "data": {
      "text/html": [
       "<html><script type=\"math/tex; mode=display\">\\newcommand{\\Bold}[1]{\\mathbf{#1}}\\left(\\begin{array}{rrrrr}\n",
       "3 & -14 & -6 & 2 & -2 \\\\\n",
       "0 & 0 & 0 & 0 & 0 \\\\\n",
       "1 & -5 & -2 & 1 & -1 \\\\\n",
       "0 & -1 & 0 & 1 & 0 \\\\\n",
       "0 & 0 & 0 & 0 & 1\n",
       "\\end{array}\\right)</script></html>"
      ],
      "text/plain": [
       "[  3 -14  -6   2  -2]\n",
       "[  0   0   0   0   0]\n",
       "[  1  -5  -2   1  -1]\n",
       "[  0  -1   0   1   0]\n",
       "[  0   0   0   0   1]"
      ]
     },
     "metadata": {},
     "output_type": "display_data"
    }
   ],
   "source": [
    "show(Pi1(A))\n",
    "show(Pi2(A))"
   ]
  },
  {
   "cell_type": "code",
   "execution_count": 8,
   "metadata": {},
   "outputs": [],
   "source": [
    "PD=-1*Pi1+2*Pi2\n",
    "PN=t-PD"
   ]
  },
  {
   "cell_type": "code",
   "execution_count": 9,
   "metadata": {},
   "outputs": [
    {
     "data": {
      "text/html": [
       "<html><script type=\"math/tex; mode=display\">\\newcommand{\\Bold}[1]{\\mathbf{#1}}\\left(\\frac{1}{9}\\right) \\cdot (t^{4} - 4 t^{3} + 16 t + 2)</script></html>"
      ],
      "text/plain": [
       "(1/9) * (t^4 - 4*t^3 + 16*t + 2)"
      ]
     },
     "metadata": {},
     "output_type": "display_data"
    },
    {
     "data": {
      "text/html": [
       "<html><script type=\"math/tex; mode=display\">\\newcommand{\\Bold}[1]{\\mathbf{#1}}\\left(-\\frac{1}{9}\\right) \\cdot (t - 2) \\cdot (t + 1) \\cdot (t^{2} - 3 t - 1)</script></html>"
      ],
      "text/plain": [
       "(-1/9) * (t - 2) * (t + 1) * (t^2 - 3*t - 1)"
      ]
     },
     "metadata": {},
     "output_type": "display_data"
    }
   ],
   "source": [
    "show(factor(PD))\n",
    "show(factor(PN))"
   ]
  },
  {
   "cell_type": "code",
   "execution_count": 10,
   "metadata": {},
   "outputs": [],
   "source": [
    "A1=A+1"
   ]
  },
  {
   "cell_type": "code",
   "execution_count": 11,
   "metadata": {},
   "outputs": [
    {
     "data": {
      "text/plain": [
       "Free module of degree 5 and rank 1 over Integer Ring\n",
       "Echelon basis matrix:\n",
       "[ 2 -1  3 -1  0]"
      ]
     },
     "execution_count": 11,
     "metadata": {},
     "output_type": "execute_result"
    }
   ],
   "source": [
    "A1.right_kernel()"
   ]
  },
  {
   "cell_type": "code",
   "execution_count": 12,
   "metadata": {},
   "outputs": [
    {
     "data": {
      "text/plain": [
       "Free module of degree 5 and rank 2 over Integer Ring\n",
       "Echelon basis matrix:\n",
       "[ 2  0  1  0  0]\n",
       "[ 0  1 -2  1  0]"
      ]
     },
     "execution_count": 12,
     "metadata": {},
     "output_type": "execute_result"
    }
   ],
   "source": [
    "(A1^2).right_kernel()"
   ]
  },
  {
   "cell_type": "code",
   "execution_count": 13,
   "metadata": {},
   "outputs": [],
   "source": [
    "v5=vector(QQ, [0,1,-2,1,0])\n",
    "v4=A1*v5"
   ]
  },
  {
   "cell_type": "code",
   "execution_count": 14,
   "metadata": {},
   "outputs": [],
   "source": [
    "A2=A-2"
   ]
  },
  {
   "cell_type": "code",
   "execution_count": 15,
   "metadata": {},
   "outputs": [
    {
     "data": {
      "text/plain": [
       "Free module of degree 5 and rank 2 over Integer Ring\n",
       "Echelon basis matrix:\n",
       "[1 0 0 0 1]\n",
       "[0 0 0 1 1]"
      ]
     },
     "execution_count": 15,
     "metadata": {},
     "output_type": "execute_result"
    }
   ],
   "source": [
    "A2.right_kernel()"
   ]
  },
  {
   "cell_type": "code",
   "execution_count": 16,
   "metadata": {},
   "outputs": [
    {
     "data": {
      "text/plain": [
       "Free module of degree 5 and rank 3 over Integer Ring\n",
       "Echelon basis matrix:\n",
       "[ 1  0  0  0  1]\n",
       "[ 0  0  1  0 -3]\n",
       "[ 0  0  0  1  1]"
      ]
     },
     "execution_count": 16,
     "metadata": {},
     "output_type": "execute_result"
    }
   ],
   "source": [
    "(A2^2).right_kernel()"
   ]
  },
  {
   "cell_type": "code",
   "execution_count": 17,
   "metadata": {},
   "outputs": [],
   "source": [
    "v3=vector(QQ,[0,0,1,0,-3])\n",
    "v2=A2*v3"
   ]
  },
  {
   "cell_type": "code",
   "execution_count": 18,
   "metadata": {},
   "outputs": [
    {
     "data": {
      "text/plain": [
       "(0, 0, 0, -1, -1)"
      ]
     },
     "execution_count": 18,
     "metadata": {},
     "output_type": "execute_result"
    }
   ],
   "source": [
    "v2"
   ]
  },
  {
   "cell_type": "code",
   "execution_count": 19,
   "metadata": {},
   "outputs": [],
   "source": [
    "v1=vector(QQ,[1,0,0,0,1])"
   ]
  },
  {
   "cell_type": "code",
   "execution_count": 20,
   "metadata": {},
   "outputs": [],
   "source": [
    "C=column_matrix([v2,v3,v1,v4,v5])"
   ]
  },
  {
   "cell_type": "code",
   "execution_count": 24,
   "metadata": {},
   "outputs": [
    {
     "data": {
      "text/html": [
       "<html><script type=\"math/tex; mode=display\">\\newcommand{\\Bold}[1]{\\mathbf{#1}}\\left(\\begin{array}{rrrrr}\n",
       "2 & 1 & 0 & 0 & 0 \\\\\n",
       "0 & 2 & 0 & 0 & 0 \\\\\n",
       "0 & 0 & 2 & 0 & 0 \\\\\n",
       "0 & 0 & 0 & -1 & 1 \\\\\n",
       "0 & 0 & 0 & 0 & -1\n",
       "\\end{array}\\right)</script></html>"
      ],
      "text/plain": [
       "[ 2  1  0  0  0]\n",
       "[ 0  2  0  0  0]\n",
       "[ 0  0  2  0  0]\n",
       "[ 0  0  0 -1  1]\n",
       "[ 0  0  0  0 -1]"
      ]
     },
     "metadata": {},
     "output_type": "display_data"
    }
   ],
   "source": [
    "show((C^-1)*A*C)"
   ]
  },
  {
   "cell_type": "code",
   "execution_count": 25,
   "metadata": {},
   "outputs": [
    {
     "data": {
      "text/html": [
       "<html><script type=\"math/tex; mode=display\">\\newcommand{\\Bold}[1]{\\mathbf{#1}}\\left(\\begin{array}{rrrrr}\n",
       "2 & 0 & 0 & 0 & 0 \\\\\n",
       "0 & 2 & 0 & 0 & 0 \\\\\n",
       "0 & 0 & 2 & 0 & 0 \\\\\n",
       "0 & 0 & 0 & -1 & 0 \\\\\n",
       "0 & 0 & 0 & 0 & -1\n",
       "\\end{array}\\right)</script></html>"
      ],
      "text/plain": [
       "[ 2  0  0  0  0]\n",
       "[ 0  2  0  0  0]\n",
       "[ 0  0  2  0  0]\n",
       "[ 0  0  0 -1  0]\n",
       "[ 0  0  0  0 -1]"
      ]
     },
     "metadata": {},
     "output_type": "display_data"
    }
   ],
   "source": [
    "show((C^-1)*PD(A)*C)"
   ]
  },
  {
   "cell_type": "code",
   "execution_count": 26,
   "metadata": {},
   "outputs": [
    {
     "data": {
      "text/html": [
       "<html><script type=\"math/tex; mode=display\">\\newcommand{\\Bold}[1]{\\mathbf{#1}}\\left(\\begin{array}{rrrrr}\n",
       "0 & 1 & 0 & 0 & 0 \\\\\n",
       "0 & 0 & 0 & 0 & 0 \\\\\n",
       "0 & 0 & 0 & 0 & 0 \\\\\n",
       "0 & 0 & 0 & 0 & 1 \\\\\n",
       "0 & 0 & 0 & 0 & 0\n",
       "\\end{array}\\right)</script></html>"
      ],
      "text/plain": [
       "[0 1 0 0 0]\n",
       "[0 0 0 0 0]\n",
       "[0 0 0 0 0]\n",
       "[0 0 0 0 1]\n",
       "[0 0 0 0 0]"
      ]
     },
     "metadata": {},
     "output_type": "display_data"
    }
   ],
   "source": [
    "show((C^-1)*PN(A)*C)"
   ]
  },
  {
   "cell_type": "code",
   "execution_count": 37,
   "metadata": {},
   "outputs": [],
   "source": [
    "V=QQ^4\n",
    "K.<i>=QQ.extension(t^2+1)"
   ]
  },
  {
   "cell_type": "code",
   "execution_count": 38,
   "metadata": {},
   "outputs": [
    {
     "data": {
      "text/html": [
       "<html><script type=\"math/tex; mode=display\">\\newcommand{\\Bold}[1]{\\mathbf{#1}}\\left(\\begin{array}{rrrr}\n",
       "3 & 3 i & 0 & 3 i \\\\\n",
       "-3 i & 3 & 0 & -3 \\\\\n",
       "0 & 0 & 1 & 0 \\\\\n",
       "-3 i & -3 & 0 & 3\n",
       "\\end{array}\\right)</script></html>"
      ],
      "text/plain": [
       "[   3  3*i    0  3*i]\n",
       "[-3*i    3    0   -3]\n",
       "[   0    0    1    0]\n",
       "[-3*i   -3    0    3]"
      ]
     },
     "metadata": {},
     "output_type": "display_data"
    }
   ],
   "source": [
    "A=matrix([[3,3*i,0,3*i],[-3*i,3,0,-3],[0,0,1,0],[-3*i,-3,0,3]])\n",
    "show(A)"
   ]
  },
  {
   "cell_type": "code",
   "execution_count": 40,
   "metadata": {},
   "outputs": [
    {
     "data": {
      "text/html": [
       "<html><script type=\"math/tex; mode=display\">\\newcommand{\\Bold}[1]{\\mathbf{#1}}(t - 1) \\cdot (t + 3) \\cdot (t - 6)^{2}</script></html>"
      ],
      "text/plain": [
       "(t - 1) * (t + 3) * (t - 6)^2"
      ]
     },
     "metadata": {},
     "output_type": "display_data"
    }
   ],
   "source": [
    "show(factor(A.charpoly('t')))"
   ]
  },
  {
   "cell_type": "code",
   "execution_count": 41,
   "metadata": {},
   "outputs": [
    {
     "data": {
      "text/plain": [
       "Vector space of degree 4 and dimension 1 over Number Field in i with defining polynomial t^2 + 1\n",
       "Basis matrix:\n",
       "[0 0 1 0]"
      ]
     },
     "execution_count": 41,
     "metadata": {},
     "output_type": "execute_result"
    }
   ],
   "source": [
    "(A-1).right_kernel()"
   ]
  },
  {
   "cell_type": "code",
   "execution_count": 42,
   "metadata": {},
   "outputs": [
    {
     "data": {
      "text/plain": [
       "Vector space of degree 4 and dimension 1 over Number Field in i with defining polynomial t^2 + 1\n",
       "Basis matrix:\n",
       "[1 i 0 i]"
      ]
     },
     "execution_count": 42,
     "metadata": {},
     "output_type": "execute_result"
    }
   ],
   "source": [
    "(A+3).right_kernel()"
   ]
  },
  {
   "cell_type": "code",
   "execution_count": 43,
   "metadata": {},
   "outputs": [
    {
     "data": {
      "text/plain": [
       "Vector space of degree 4 and dimension 2 over Number Field in i with defining polynomial t^2 + 1\n",
       "Basis matrix:\n",
       "[ 1  0  0 -i]\n",
       "[ 0  1  0 -1]"
      ]
     },
     "execution_count": 43,
     "metadata": {},
     "output_type": "execute_result"
    }
   ],
   "source": [
    "((A-6)^2).right_kernel()"
   ]
  },
  {
   "cell_type": "code",
   "execution_count": 44,
   "metadata": {},
   "outputs": [
    {
     "data": {
      "text/plain": [
       "[    1     0     0    -i]\n",
       "[1/2*i     1     0  -1/2]"
      ]
     },
     "execution_count": 44,
     "metadata": {},
     "output_type": "execute_result"
    }
   ],
   "source": [
    "B=matrix([[1,0,0,-i],[0,1,0,-1]])\n",
    "G,M=B.gram_schmidt()\n",
    "\n",
    "G"
   ]
  },
  {
   "cell_type": "code",
   "execution_count": 47,
   "metadata": {},
   "outputs": [],
   "source": [
    "v1=vector([0,0,1,0])\n",
    "v2=vector([1,i,0,i])\n",
    "v3=vector([1,0,0,-i])\n",
    "v4=vector([1/2*i,1,0,-1/2])\n"
   ]
  },
  {
   "cell_type": "code",
   "execution_count": 48,
   "metadata": {},
   "outputs": [
    {
     "data": {
      "text/plain": [
       "[  1   0   0   0]\n",
       "[  0   3   0   0]\n",
       "[  0   0   2   0]\n",
       "[  0   0   0 3/2]"
      ]
     },
     "execution_count": 48,
     "metadata": {},
     "output_type": "execute_result"
    }
   ],
   "source": [
    "C=column_matrix([v1,v2,v3,v4])\n",
    "C.H*C"
   ]
  },
  {
   "cell_type": "code",
   "execution_count": 55,
   "metadata": {},
   "outputs": [],
   "source": [
    "A1=column_matrix([v1])\n",
    "A2=column_matrix([v2])\n",
    "A3=column_matrix([v3,v4])\n",
    "\n",
    "P1=A1*((A1.H*A1)^-1)*A1.H\n",
    "P2=A2*((A2.H*A2)^-1)*A2.H\n",
    "P3=A3*((A3.H*A3)^-1)*A3.H"
   ]
  },
  {
   "cell_type": "code",
   "execution_count": 58,
   "metadata": {},
   "outputs": [
    {
     "data": {
      "text/html": [
       "<html><script type=\"math/tex; mode=display\">\\newcommand{\\Bold}[1]{\\mathbf{#1}}\\left(\\begin{array}{rrrr}\n",
       "0 & 0 & 0 & 0 \\\\\n",
       "0 & 0 & 0 & 0 \\\\\n",
       "0 & 0 & 1 & 0 \\\\\n",
       "0 & 0 & 0 & 0\n",
       "\\end{array}\\right)</script></html>"
      ],
      "text/plain": [
       "[0 0 0 0]\n",
       "[0 0 0 0]\n",
       "[0 0 1 0]\n",
       "[0 0 0 0]"
      ]
     },
     "metadata": {},
     "output_type": "display_data"
    },
    {
     "data": {
      "text/html": [
       "<html><script type=\"math/tex; mode=display\">\\newcommand{\\Bold}[1]{\\mathbf{#1}}\\left(\\begin{array}{rrrr}\n",
       "\\frac{1}{3} & -\\frac{1}{3} i & 0 & -\\frac{1}{3} i \\\\\n",
       "\\frac{1}{3} i & \\frac{1}{3} & 0 & \\frac{1}{3} \\\\\n",
       "0 & 0 & 0 & 0 \\\\\n",
       "\\frac{1}{3} i & \\frac{1}{3} & 0 & \\frac{1}{3}\n",
       "\\end{array}\\right)</script></html>"
      ],
      "text/plain": [
       "[   1/3 -1/3*i      0 -1/3*i]\n",
       "[ 1/3*i    1/3      0    1/3]\n",
       "[     0      0      0      0]\n",
       "[ 1/3*i    1/3      0    1/3]"
      ]
     },
     "metadata": {},
     "output_type": "display_data"
    },
    {
     "data": {
      "text/html": [
       "<html><script type=\"math/tex; mode=display\">\\newcommand{\\Bold}[1]{\\mathbf{#1}}\\left(\\begin{array}{rrrr}\n",
       "\\frac{2}{3} & \\frac{1}{3} i & 0 & \\frac{1}{3} i \\\\\n",
       "-\\frac{1}{3} i & \\frac{2}{3} & 0 & -\\frac{1}{3} \\\\\n",
       "0 & 0 & 0 & 0 \\\\\n",
       "-\\frac{1}{3} i & -\\frac{1}{3} & 0 & \\frac{2}{3}\n",
       "\\end{array}\\right)</script></html>"
      ],
      "text/plain": [
       "[   2/3  1/3*i      0  1/3*i]\n",
       "[-1/3*i    2/3      0   -1/3]\n",
       "[     0      0      0      0]\n",
       "[-1/3*i   -1/3      0    2/3]"
      ]
     },
     "metadata": {},
     "output_type": "display_data"
    }
   ],
   "source": [
    "show(P1)\n",
    "show(P2)\n",
    "show(P3)"
   ]
  },
  {
   "cell_type": "code",
   "execution_count": 60,
   "metadata": {},
   "outputs": [
    {
     "data": {
      "text/html": [
       "<html><script type=\"math/tex; mode=display\">\\newcommand{\\Bold}[1]{\\mathbf{#1}}\\left(\\begin{array}{rrrr}\n",
       "3 & 3 i & 0 & 3 i \\\\\n",
       "-3 i & 3 & 0 & -3 \\\\\n",
       "0 & 0 & 1 & 0 \\\\\n",
       "-3 i & -3 & 0 & 3\n",
       "\\end{array}\\right) \\left(\\begin{array}{rrrr}\n",
       "3 & 3 i & 0 & 3 i \\\\\n",
       "-3 i & 3 & 0 & -3 \\\\\n",
       "0 & 0 & 1 & 0 \\\\\n",
       "-3 i & -3 & 0 & 3\n",
       "\\end{array}\\right)</script></html>"
      ],
      "text/plain": [
       "[   3  3*i    0  3*i]\n",
       "[-3*i    3    0   -3]\n",
       "[   0    0    1    0]\n",
       "[-3*i   -3    0    3] [   3  3*i    0  3*i]\n",
       "[-3*i    3    0   -3]\n",
       "[   0    0    1    0]\n",
       "[-3*i   -3    0    3]"
      ]
     },
     "metadata": {},
     "output_type": "display_data"
    }
   ],
   "source": [
    "show(A,P1-3*P2+6*P3)"
   ]
  },
  {
   "cell_type": "code",
   "execution_count": 61,
   "metadata": {},
   "outputs": [
    {
     "data": {
      "text/plain": [
       "[ 1  0  0  0]\n",
       "[ 0 -3  0  0]\n",
       "[ 0  0  6  0]\n",
       "[ 0  0  0  6]"
      ]
     },
     "execution_count": 61,
     "metadata": {},
     "output_type": "execute_result"
    }
   ],
   "source": [
    "(C^-1)*A*C"
   ]
  },
  {
   "cell_type": "code",
   "execution_count": 62,
   "metadata": {},
   "outputs": [],
   "source": [
    "V=RR^3"
   ]
  },
  {
   "cell_type": "code",
   "execution_count": 64,
   "metadata": {},
   "outputs": [
    {
     "data": {
      "text/html": [
       "<html><script type=\"math/tex; mode=display\">\\newcommand{\\Bold}[1]{\\mathbf{#1}}\\left(\\begin{array}{rrr}\n",
       "3 & -1 & 1 \\\\\n",
       "-1 & 3 & -1 \\\\\n",
       "1 & -1 & 5\n",
       "\\end{array}\\right)</script></html>"
      ],
      "text/plain": [
       "[ 3 -1  1]\n",
       "[-1  3 -1]\n",
       "[ 1 -1  5]"
      ]
     },
     "metadata": {},
     "output_type": "display_data"
    }
   ],
   "source": [
    "A=matrix([[3,-1,1],[-1,3,-1],[1,-1,5]])\n",
    "show(A)"
   ]
  },
  {
   "cell_type": "code",
   "execution_count": 65,
   "metadata": {},
   "outputs": [
    {
     "data": {
      "text/html": [
       "<html><script type=\"math/tex; mode=display\">\\newcommand{\\Bold}[1]{\\mathbf{#1}}(t - 6) \\cdot (t - 3) \\cdot (t - 2)</script></html>"
      ],
      "text/plain": [
       "(t - 6) * (t - 3) * (t - 2)"
      ]
     },
     "metadata": {},
     "output_type": "display_data"
    }
   ],
   "source": [
    "show(factor(A.charpoly('t')))"
   ]
  },
  {
   "cell_type": "code",
   "execution_count": 66,
   "metadata": {},
   "outputs": [
    {
     "data": {
      "text/plain": [
       "Free module of degree 3 and rank 1 over Integer Ring\n",
       "Echelon basis matrix:\n",
       "[ 1 -1  2]"
      ]
     },
     "execution_count": 66,
     "metadata": {},
     "output_type": "execute_result"
    }
   ],
   "source": [
    "(A-6).right_kernel()"
   ]
  },
  {
   "cell_type": "code",
   "execution_count": 67,
   "metadata": {},
   "outputs": [
    {
     "data": {
      "text/plain": [
       "Free module of degree 3 and rank 1 over Integer Ring\n",
       "Echelon basis matrix:\n",
       "[ 1 -1 -1]"
      ]
     },
     "execution_count": 67,
     "metadata": {},
     "output_type": "execute_result"
    }
   ],
   "source": [
    "(A-3).right_kernel()"
   ]
  },
  {
   "cell_type": "code",
   "execution_count": 68,
   "metadata": {},
   "outputs": [
    {
     "data": {
      "text/plain": [
       "Free module of degree 3 and rank 1 over Integer Ring\n",
       "Echelon basis matrix:\n",
       "[1 1 0]"
      ]
     },
     "execution_count": 68,
     "metadata": {},
     "output_type": "execute_result"
    }
   ],
   "source": [
    "(A-2).right_kernel()"
   ]
  },
  {
   "cell_type": "code",
   "execution_count": 69,
   "metadata": {},
   "outputs": [
    {
     "data": {
      "text/html": [
       "<html><script type=\"math/tex; mode=display\">\\newcommand{\\Bold}[1]{\\mathbf{#1}}\\left(\\begin{array}{rrr}\n",
       "6 & 0 & 0 \\\\\n",
       "0 & 3 & 0 \\\\\n",
       "0 & 0 & 2\n",
       "\\end{array}\\right)</script></html>"
      ],
      "text/plain": [
       "[6 0 0]\n",
       "[0 3 0]\n",
       "[0 0 2]"
      ]
     },
     "metadata": {},
     "output_type": "display_data"
    }
   ],
   "source": [
    "C=column_matrix([[1,-1,2],[1,-1,-1],[1,1,0]])\n",
    "Aprime=(C^-1)*A*C\n",
    "show(Aprime)"
   ]
  },
  {
   "cell_type": "code",
   "execution_count": 76,
   "metadata": {},
   "outputs": [
    {
     "data": {
      "text/html": [
       "<html><script type=\"math/tex; mode=display\">\\newcommand{\\Bold}[1]{\\mathbf{#1}}\\left(\\begin{array}{rrr}\n",
       "6 & 0 & 0 \\\\\n",
       "0 & 3 & 0 \\\\\n",
       "0 & 0 & 2\n",
       "\\end{array}\\right)</script></html>"
      ],
      "text/plain": [
       "[6 0 0]\n",
       "[0 3 0]\n",
       "[0 0 2]"
      ]
     },
     "metadata": {},
     "output_type": "display_data"
    }
   ],
   "source": [
    "v1=vector([1,-1,2])/sqrt(6)\n",
    "v2=vector([1,-1,-1])/sqrt(3)\n",
    "v3=vector([1,1,0])/sqrt(2)\n",
    "\n",
    "B=matrix([v1,v2,v3])\n",
    "\n",
    "show(B*A*B.T)"
   ]
  },
  {
   "cell_type": "code",
   "execution_count": null,
   "metadata": {},
   "outputs": [],
   "source": []
  }
 ],
 "metadata": {
  "kernelspec": {
   "display_name": "SageMath 8.8",
   "language": "sage",
   "name": "sagemath"
  },
  "language_info": {
   "codemirror_mode": {
    "name": "ipython",
    "version": 2
   },
   "file_extension": ".py",
   "mimetype": "text/x-python",
   "name": "python",
   "nbconvert_exporter": "python",
   "pygments_lexer": "ipython2",
   "version": "2.7.15"
  }
 },
 "nbformat": 4,
 "nbformat_minor": 2
}
