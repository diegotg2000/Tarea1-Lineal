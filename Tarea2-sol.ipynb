{
 "cells": [
  {
   "cell_type": "code",
   "execution_count": 10,
   "metadata": {},
   "outputs": [
    {
     "name": "stdout",
     "output_type": "stream",
     "text": [
      "('El conjunto S0 encontrado es', [(1, 0, -2, 1), (0, -1, 1, 1), (-1, 2, 1, 0)])\n"
     ]
    }
   ],
   "source": [
    "V=QQ^4\n",
    "v1=vector(QQ, [1,0,-2,1])\n",
    "v2=vector(QQ, [0,-1,1,1])\n",
    "v3=vector(QQ, [-1,2,1,0])\n",
    "v4=vector(QQ, [2,1,-4,4])\n",
    "S=[v1,v2,v3,v4]\n",
    "S0=[v1]\n",
    "for i in range(1,len(S)):\n",
    "    if(S[i] not in V.span(S0)):\n",
    "        S0.append(S[i])\n",
    "print('El conjunto S0 encontrado es', S0)"
   ]
  },
  {
   "cell_type": "code",
   "execution_count": 11,
   "metadata": {},
   "outputs": [
    {
     "name": "stdout",
     "output_type": "stream",
     "text": [
      "('El conjunto S0 encontrado es', [(1, 0, -2, 1), (0, -1, 1, 1), (-1, 2, 1, 0), (2, 1, 2, -2)])\n"
     ]
    }
   ],
   "source": [
    "V=QQ^4\n",
    "v1=vector(QQ, [1,0,-2,1])\n",
    "v2=vector(QQ, [0,-1,1,1])\n",
    "v3=vector(QQ, [-1,2,1,0])\n",
    "v4=vector(QQ, [2,1,2,-2])\n",
    "S=[v1,v2,v3,v4]\n",
    "S0=[v1]\n",
    "for i in range(1,len(S)):\n",
    "    if(S[i] not in V.span(S0)):\n",
    "        S0.append(S[i])\n",
    "print('El conjunto S0 encontrado es', S0)"
   ]
  },
  {
   "cell_type": "code",
   "execution_count": 12,
   "metadata": {},
   "outputs": [
    {
     "name": "stdout",
     "output_type": "stream",
     "text": [
      "('El conjunto S0 encontrado es', [(1, -1, 5, -8, 6), (-1, 1, -5, 5, -3), (1, 0, 3, -3, 5), (2, 3, 4, -1, 1), (0, 1, 0, -1, 2)])\n"
     ]
    }
   ],
   "source": [
    "V=QQ^5\n",
    "v1=vector(QQ, [1,-1,5,-8,6])\n",
    "v2=vector(QQ, [-1,1,-5,5,-3])\n",
    "v3=vector(QQ, [1,0,3,-3,5])\n",
    "v4=vector(QQ, [2,3,4,-1,1])\n",
    "v5=vector(QQ, [0,1,0,-1,2])\n",
    "S=[v1,v2,v3,v4,v5]\n",
    "S0=[v1]\n",
    "for i in range(1,len(S)):\n",
    "    if(S[i] not in V.span(S0)):\n",
    "        S0.append(S[i])\n",
    "print('El conjunto S0 encontrado es', S0)"
   ]
  },
  {
   "cell_type": "code",
   "execution_count": 13,
   "metadata": {},
   "outputs": [
    {
     "name": "stdout",
     "output_type": "stream",
     "text": [
      "('El conjunto S0 encontrado es', [(1, -1, 5, -8, 6), (-1, 1, -5, 5, -3), (1, 0, 3, -3, 5)])\n"
     ]
    }
   ],
   "source": [
    "V=QQ^5\n",
    "v1=vector(QQ, [1,-1,5,-8,6])\n",
    "v2=vector(QQ, [-1,1,-5,5,-3])\n",
    "v3=vector(QQ, [1,0,3,-3,5])\n",
    "v4=vector(QQ, [2,1,4,8,0])\n",
    "S=[v1,v2,v3,v4]\n",
    "S0=[v1]\n",
    "for i in range(1,len(S)):\n",
    "    if(S[i] not in V.span(S0)):\n",
    "        S0.append(S[i])\n",
    "print('El conjunto S0 encontrado es', S0)"
   ]
  },
  {
   "cell_type": "code",
   "execution_count": 16,
   "metadata": {},
   "outputs": [
    {
     "name": "stdout",
     "output_type": "stream",
     "text": [
      "('El conjunto S0 encontrado es', [(1, 1, 0, 0, 0, 0), (0, 0, 1, 1, 0, 0), (0, 0, 0, 0, 1, 1), (1, 0, 1, 0, 1, 0)])\n"
     ]
    }
   ],
   "source": [
    "V=QQ^6\n",
    "v1=vector(QQ, [1,1,0,0,0,0])\n",
    "v2=vector(QQ, [0,0,1,1,0,0])\n",
    "v3=vector(QQ, [0,0,0,0,1,1])\n",
    "v4=vector(QQ, [1,0,1,0,1,0])\n",
    "v5=vector(QQ, [0,1,0,1,0,1])\n",
    "S=[v1,v2,v3,v4,v5]\n",
    "S0=[v1]\n",
    "for i in range(1,len(S)):\n",
    "    if(S[i] not in V.span(S0)):\n",
    "        S0.append(S[i])\n",
    "print('El conjunto S0 encontrado es', S0)"
   ]
  },
  {
   "cell_type": "code",
   "execution_count": null,
   "metadata": {},
   "outputs": [],
   "source": []
  },
  {
   "cell_type": "code",
   "execution_count": null,
   "metadata": {},
   "outputs": [],
   "source": []
  }
 ],
 "metadata": {
  "kernelspec": {
   "display_name": "SageMath 8.8",
   "language": "sage",
   "name": "sagemath"
  },
  "language_info": {
   "codemirror_mode": {
    "name": "ipython",
    "version": 2
   },
   "file_extension": ".py",
   "mimetype": "text/x-python",
   "name": "python",
   "nbconvert_exporter": "python",
   "pygments_lexer": "ipython2",
   "version": "2.7.15"
  }
 },
 "nbformat": 4,
 "nbformat_minor": 2
}
